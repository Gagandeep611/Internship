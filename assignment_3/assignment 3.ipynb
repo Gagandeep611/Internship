{
 "cells": [
  {
   "cell_type": "code",
   "execution_count": 1,
   "id": "08251c1e",
   "metadata": {},
   "outputs": [
    {
     "name": "stdout",
     "output_type": "stream",
     "text": [
      "Requirement already satisfied: selenium in c:\\users\\gagan\\anaconda3\\lib\\site-packages (4.8.3)\n",
      "Requirement already satisfied: certifi>=2021.10.8 in c:\\users\\gagan\\anaconda3\\lib\\site-packages (from selenium) (2021.10.8)\n",
      "Requirement already satisfied: urllib3[socks]~=1.26 in c:\\users\\gagan\\anaconda3\\lib\\site-packages (from selenium) (1.26.9)\n",
      "Requirement already satisfied: trio~=0.17 in c:\\users\\gagan\\anaconda3\\lib\\site-packages (from selenium) (0.22.0)\n",
      "Requirement already satisfied: trio-websocket~=0.9 in c:\\users\\gagan\\anaconda3\\lib\\site-packages (from selenium) (0.10.2)\n",
      "Requirement already satisfied: sortedcontainers in c:\\users\\gagan\\anaconda3\\lib\\site-packages (from trio~=0.17->selenium) (2.4.0)\n",
      "Requirement already satisfied: async-generator>=1.9 in c:\\users\\gagan\\anaconda3\\lib\\site-packages (from trio~=0.17->selenium) (1.10)\n",
      "Requirement already satisfied: attrs>=19.2.0 in c:\\users\\gagan\\anaconda3\\lib\\site-packages (from trio~=0.17->selenium) (21.4.0)\n",
      "Requirement already satisfied: outcome in c:\\users\\gagan\\anaconda3\\lib\\site-packages (from trio~=0.17->selenium) (1.2.0)\n",
      "Requirement already satisfied: cffi>=1.14 in c:\\users\\gagan\\anaconda3\\lib\\site-packages (from trio~=0.17->selenium) (1.15.0)\n",
      "Requirement already satisfied: idna in c:\\users\\gagan\\anaconda3\\lib\\site-packages (from trio~=0.17->selenium) (3.3)\n",
      "Requirement already satisfied: exceptiongroup>=1.0.0rc9 in c:\\users\\gagan\\anaconda3\\lib\\site-packages (from trio~=0.17->selenium) (1.1.1)\n",
      "Requirement already satisfied: sniffio in c:\\users\\gagan\\anaconda3\\lib\\site-packages (from trio~=0.17->selenium) (1.2.0)\n",
      "Requirement already satisfied: pycparser in c:\\users\\gagan\\anaconda3\\lib\\site-packages (from cffi>=1.14->trio~=0.17->selenium) (2.21)\n",
      "Requirement already satisfied: wsproto>=0.14 in c:\\users\\gagan\\anaconda3\\lib\\site-packages (from trio-websocket~=0.9->selenium) (1.2.0)\n",
      "Requirement already satisfied: PySocks!=1.5.7,<2.0,>=1.5.6 in c:\\users\\gagan\\anaconda3\\lib\\site-packages (from urllib3[socks]~=1.26->selenium) (1.7.1)\n",
      "Requirement already satisfied: h11<1,>=0.9.0 in c:\\users\\gagan\\anaconda3\\lib\\site-packages (from wsproto>=0.14->trio-websocket~=0.9->selenium) (0.14.0)\n"
     ]
    }
   ],
   "source": [
    "!pip install selenium"
   ]
  },
  {
   "cell_type": "code",
   "execution_count": 1,
   "id": "8649a3c5",
   "metadata": {},
   "outputs": [],
   "source": [
    "import selenium\n",
    "import pandas as pd\n",
    "import time\n",
    "from selenium import webdriver\n",
    "from selenium.common.exceptions import StaleElementReferenceException, NoSuchElementException\n",
    "import requests\n",
    "from selenium.webdriver.common.by import By"
   ]
  },
  {
   "cell_type": "code",
   "execution_count": 21,
   "id": "2ef5ea18",
   "metadata": {},
   "outputs": [
    {
     "name": "stderr",
     "output_type": "stream",
     "text": [
      "C:\\Users\\Gagan\\AppData\\Local\\Temp\\ipykernel_15900\\1690129695.py:1: DeprecationWarning: executable_path has been deprecated, please pass in a Service object\n",
      "  driver = webdriver.Edge(r\"C:\\Users\\Gagan\\Downloads\\edgedriver_win64.zip\\edgedriver.exe\")\n"
     ]
    }
   ],
   "source": [
    "driver = webdriver.Edge(r\"C:\\Users\\Gagan\\Downloads\\edgedriver_win64.zip\\edgedriver.exe\")"
   ]
  },
  {
   "cell_type": "code",
   "execution_count": 24,
   "id": "62ee152e",
   "metadata": {},
   "outputs": [],
   "source": [
    "driver.get(\"http://www.flipkart.com/\")"
   ]
  },
  {
   "cell_type": "code",
   "execution_count": 25,
   "id": "93b05c11",
   "metadata": {},
   "outputs": [],
   "source": [
    "search = driver.find_element(By.CLASS_NAME,\"_3704LK\")\n",
    "search.send_keys(\"smartphone\")"
   ]
  },
  {
   "cell_type": "code",
   "execution_count": 28,
   "id": "7d56dd8b",
   "metadata": {},
   "outputs": [],
   "source": [
    "common = driver.find_element(By.CLASS_NAME,\"_34RNph\")\n",
    "common.click()"
   ]
  },
  {
   "cell_type": "code",
   "execution_count": 45,
   "id": "45f19fd2",
   "metadata": {},
   "outputs": [],
   "source": [
    "product_url = []\n",
    "start = 0\n",
    "end = 1\n",
    "for page in range(start,end):\n",
    "    url=driver.find_elements(By.XPATH,'//div[@class=\"_4rR01T\"]')\n",
    "    for i in url:\n",
    "        product_url.append(i.get_attribute('herf'))"
   ]
  },
  {
   "cell_type": "code",
   "execution_count": 46,
   "id": "e496d876",
   "metadata": {},
   "outputs": [
    {
     "data": {
      "text/plain": [
       "24"
      ]
     },
     "execution_count": 46,
     "metadata": {},
     "output_type": "execute_result"
    }
   ],
   "source": [
    "len(product_url)"
   ]
  },
  {
   "cell_type": "code",
   "execution_count": 47,
   "id": "626145ee",
   "metadata": {},
   "outputs": [
    {
     "data": {
      "text/plain": [
       "[None,\n",
       " None,\n",
       " None,\n",
       " None,\n",
       " None,\n",
       " None,\n",
       " None,\n",
       " None,\n",
       " None,\n",
       " None,\n",
       " None,\n",
       " None,\n",
       " None,\n",
       " None,\n",
       " None,\n",
       " None,\n",
       " None,\n",
       " None,\n",
       " None,\n",
       " None,\n",
       " None,\n",
       " None,\n",
       " None,\n",
       " None]"
      ]
     },
     "execution_count": 47,
     "metadata": {},
     "output_type": "execute_result"
    }
   ],
   "source": [
    "product_url"
   ]
  },
  {
   "cell_type": "code",
   "execution_count": 48,
   "id": "ee442df9",
   "metadata": {},
   "outputs": [
    {
     "ename": "InvalidArgumentException",
     "evalue": "Message: invalid argument: 'url' must be a string\n  (Session info: MicrosoftEdge=112.0.1722.48)\nStacktrace:\nBacktrace:\n\tGetHandleVerifier [0x00007FF742E3DF52+60274]\n\tMicrosoft::Applications::Events::EventProperty::~EventProperty [0x00007FF742DCEBB2+818866]\n\t(No symbol) [0x00007FF742A5DFAE]\n\t(No symbol) [0x00007FF742AD9541]\n\t(No symbol) [0x00007FF742ABF56A]\n\t(No symbol) [0x00007FF742A92751]\n\t(No symbol) [0x00007FF742AD891C]\n\t(No symbol) [0x00007FF742ABF343]\n\t(No symbol) [0x00007FF742A91796]\n\t(No symbol) [0x00007FF742A90975]\n\t(No symbol) [0x00007FF742A91F04]\n\tMicrosoft::Applications::Events::EventProperties::SetLevel [0x00007FF742CD27E7+1593703]\n\tMicrosoft::Applications::Events::EventProperties::SetLevel [0x00007FF742B7AC6D+185837]\n\tMicrosoft::Applications::Events::EventProperty::~EventProperty [0x00007FF742D0FD57+36951]\n\tMicrosoft::Applications::Events::EventProperty::~EventProperty [0x00007FF742D07E65+4453]\n\tMicrosoft::Applications::Events::ILogManager::DispatchEventBroadcast [0x00007FF74300FD73+1319011]\n\tMicrosoft::Applications::Events::EventProperty::~EventProperty [0x00007FF742DD6C6C+851820]\n\tMicrosoft::Applications::Events::EventProperty::~EventProperty [0x00007FF742DD2CD4+835540]\n\tMicrosoft::Applications::Events::EventProperty::~EventProperty [0x00007FF742DD2E2C+835884]\n\tMicrosoft::Applications::Events::EventProperty::~EventProperty [0x00007FF742DC8A01+793857]\n\tBaseThreadInitThunk [0x00007FFC36517604+20]\n\tRtlUserThreadStart [0x00007FFC37E226A1+33]\n",
     "output_type": "error",
     "traceback": [
      "\u001b[1;31m---------------------------------------------------------------------------\u001b[0m",
      "\u001b[1;31mInvalidArgumentException\u001b[0m                  Traceback (most recent call last)",
      "Input \u001b[1;32mIn [48]\u001b[0m, in \u001b[0;36m<cell line: 2>\u001b[1;34m()\u001b[0m\n\u001b[0;32m      1\u001b[0m JD \u001b[38;5;241m=\u001b[39m []\n\u001b[0;32m      2\u001b[0m \u001b[38;5;28;01mfor\u001b[39;00m i \u001b[38;5;129;01min\u001b[39;00m product_url:\n\u001b[1;32m----> 3\u001b[0m     \u001b[43mdriver\u001b[49m\u001b[38;5;241;43m.\u001b[39;49m\u001b[43mget\u001b[49m\u001b[43m(\u001b[49m\u001b[43mi\u001b[49m\u001b[43m)\u001b[49m\n\u001b[0;32m      4\u001b[0m     time\u001b[38;5;241m.\u001b[39msleep(\u001b[38;5;241m5\u001b[39m)\n\u001b[0;32m      5\u001b[0m     \u001b[38;5;28;01mtry\u001b[39;00m:\n",
      "File \u001b[1;32m~\\anaconda3\\lib\\site-packages\\selenium\\webdriver\\remote\\webdriver.py:449\u001b[0m, in \u001b[0;36mWebDriver.get\u001b[1;34m(self, url)\u001b[0m\n\u001b[0;32m    447\u001b[0m \u001b[38;5;28;01mdef\u001b[39;00m \u001b[38;5;21mget\u001b[39m(\u001b[38;5;28mself\u001b[39m, url: \u001b[38;5;28mstr\u001b[39m) \u001b[38;5;241m-\u001b[39m\u001b[38;5;241m>\u001b[39m \u001b[38;5;28;01mNone\u001b[39;00m:\n\u001b[0;32m    448\u001b[0m     \u001b[38;5;124;03m\"\"\"Loads a web page in the current browser session.\"\"\"\u001b[39;00m\n\u001b[1;32m--> 449\u001b[0m     \u001b[38;5;28;43mself\u001b[39;49m\u001b[38;5;241;43m.\u001b[39;49m\u001b[43mexecute\u001b[49m\u001b[43m(\u001b[49m\u001b[43mCommand\u001b[49m\u001b[38;5;241;43m.\u001b[39;49m\u001b[43mGET\u001b[49m\u001b[43m,\u001b[49m\u001b[43m \u001b[49m\u001b[43m{\u001b[49m\u001b[38;5;124;43m\"\u001b[39;49m\u001b[38;5;124;43murl\u001b[39;49m\u001b[38;5;124;43m\"\u001b[39;49m\u001b[43m:\u001b[49m\u001b[43m \u001b[49m\u001b[43murl\u001b[49m\u001b[43m}\u001b[49m\u001b[43m)\u001b[49m\n",
      "File \u001b[1;32m~\\anaconda3\\lib\\site-packages\\selenium\\webdriver\\remote\\webdriver.py:440\u001b[0m, in \u001b[0;36mWebDriver.execute\u001b[1;34m(self, driver_command, params)\u001b[0m\n\u001b[0;32m    438\u001b[0m response \u001b[38;5;241m=\u001b[39m \u001b[38;5;28mself\u001b[39m\u001b[38;5;241m.\u001b[39mcommand_executor\u001b[38;5;241m.\u001b[39mexecute(driver_command, params)\n\u001b[0;32m    439\u001b[0m \u001b[38;5;28;01mif\u001b[39;00m response:\n\u001b[1;32m--> 440\u001b[0m     \u001b[38;5;28;43mself\u001b[39;49m\u001b[38;5;241;43m.\u001b[39;49m\u001b[43merror_handler\u001b[49m\u001b[38;5;241;43m.\u001b[39;49m\u001b[43mcheck_response\u001b[49m\u001b[43m(\u001b[49m\u001b[43mresponse\u001b[49m\u001b[43m)\u001b[49m\n\u001b[0;32m    441\u001b[0m     response[\u001b[38;5;124m\"\u001b[39m\u001b[38;5;124mvalue\u001b[39m\u001b[38;5;124m\"\u001b[39m] \u001b[38;5;241m=\u001b[39m \u001b[38;5;28mself\u001b[39m\u001b[38;5;241m.\u001b[39m_unwrap_value(response\u001b[38;5;241m.\u001b[39mget(\u001b[38;5;124m\"\u001b[39m\u001b[38;5;124mvalue\u001b[39m\u001b[38;5;124m\"\u001b[39m, \u001b[38;5;28;01mNone\u001b[39;00m))\n\u001b[0;32m    442\u001b[0m     \u001b[38;5;28;01mreturn\u001b[39;00m response\n",
      "File \u001b[1;32m~\\anaconda3\\lib\\site-packages\\selenium\\webdriver\\remote\\errorhandler.py:245\u001b[0m, in \u001b[0;36mErrorHandler.check_response\u001b[1;34m(self, response)\u001b[0m\n\u001b[0;32m    243\u001b[0m         alert_text \u001b[38;5;241m=\u001b[39m value[\u001b[38;5;124m\"\u001b[39m\u001b[38;5;124malert\u001b[39m\u001b[38;5;124m\"\u001b[39m]\u001b[38;5;241m.\u001b[39mget(\u001b[38;5;124m\"\u001b[39m\u001b[38;5;124mtext\u001b[39m\u001b[38;5;124m\"\u001b[39m)\n\u001b[0;32m    244\u001b[0m     \u001b[38;5;28;01mraise\u001b[39;00m exception_class(message, screen, stacktrace, alert_text)  \u001b[38;5;66;03m# type: ignore[call-arg]  # mypy is not smart enough here\u001b[39;00m\n\u001b[1;32m--> 245\u001b[0m \u001b[38;5;28;01mraise\u001b[39;00m exception_class(message, screen, stacktrace)\n",
      "\u001b[1;31mInvalidArgumentException\u001b[0m: Message: invalid argument: 'url' must be a string\n  (Session info: MicrosoftEdge=112.0.1722.48)\nStacktrace:\nBacktrace:\n\tGetHandleVerifier [0x00007FF742E3DF52+60274]\n\tMicrosoft::Applications::Events::EventProperty::~EventProperty [0x00007FF742DCEBB2+818866]\n\t(No symbol) [0x00007FF742A5DFAE]\n\t(No symbol) [0x00007FF742AD9541]\n\t(No symbol) [0x00007FF742ABF56A]\n\t(No symbol) [0x00007FF742A92751]\n\t(No symbol) [0x00007FF742AD891C]\n\t(No symbol) [0x00007FF742ABF343]\n\t(No symbol) [0x00007FF742A91796]\n\t(No symbol) [0x00007FF742A90975]\n\t(No symbol) [0x00007FF742A91F04]\n\tMicrosoft::Applications::Events::EventProperties::SetLevel [0x00007FF742CD27E7+1593703]\n\tMicrosoft::Applications::Events::EventProperties::SetLevel [0x00007FF742B7AC6D+185837]\n\tMicrosoft::Applications::Events::EventProperty::~EventProperty [0x00007FF742D0FD57+36951]\n\tMicrosoft::Applications::Events::EventProperty::~EventProperty [0x00007FF742D07E65+4453]\n\tMicrosoft::Applications::Events::ILogManager::DispatchEventBroadcast [0x00007FF74300FD73+1319011]\n\tMicrosoft::Applications::Events::EventProperty::~EventProperty [0x00007FF742DD6C6C+851820]\n\tMicrosoft::Applications::Events::EventProperty::~EventProperty [0x00007FF742DD2CD4+835540]\n\tMicrosoft::Applications::Events::EventProperty::~EventProperty [0x00007FF742DD2E2C+835884]\n\tMicrosoft::Applications::Events::EventProperty::~EventProperty [0x00007FF742DC8A01+793857]\n\tBaseThreadInitThunk [0x00007FFC36517604+20]\n\tRtlUserThreadStart [0x00007FFC37E226A1+33]\n"
     ]
    }
   ],
   "source": [
    "JD = []\n",
    "for i in product_url:\n",
    "    driver.get(i)\n",
    "    time.sleep(5)\n",
    "    try:\n",
    "        description = driver.find_elements(By.XPATH,'//div[@class=\"_3k-BhJ\"]')\n",
    "        JD.append(description.text)\n",
    "    except NoSuchElementException:\n",
    "        JD.append('-')"
   ]
  },
  {
   "cell_type": "code",
   "execution_count": null,
   "id": "4915d3a5",
   "metadata": {},
   "outputs": [],
   "source": [
    "question 5"
   ]
  },
  {
   "cell_type": "code",
   "execution_count": 5,
   "id": "a6ba0991",
   "metadata": {},
   "outputs": [],
   "source": [
    "driver.get(\"http://digit.in/\")"
   ]
  },
  {
   "cell_type": "code",
   "execution_count": 7,
   "id": "3a7f5aa3",
   "metadata": {},
   "outputs": [],
   "source": [
    "best = driver.find_element(By.XPATH,'/html/body/div[7]/div/div[2]/div[2]/div[3]/ul/li[9]/a')\n",
    "best.click()"
   ]
  },
  {
   "cell_type": "code",
   "execution_count": 17,
   "id": "ffdba46d",
   "metadata": {},
   "outputs": [],
   "source": [
    "product_url = []\n",
    "start = 0\n",
    "end = 1\n",
    "for page in range(start,end):\n",
    "    url=driver.find_elements(By.XPATH,'//div[@class=\"left_side\"]')\n",
    "    for i in url:\n",
    "        product_url.append(i.get_attribute('herf'))"
   ]
  },
  {
   "cell_type": "code",
   "execution_count": 18,
   "id": "aaa2b5c1",
   "metadata": {},
   "outputs": [
    {
     "data": {
      "text/plain": [
       "[None, None, None, None, None, None, None, None, None, None, None]"
      ]
     },
     "execution_count": 18,
     "metadata": {},
     "output_type": "execute_result"
    }
   ],
   "source": [
    "product_url"
   ]
  },
  {
   "cell_type": "code",
   "execution_count": 20,
   "id": "a741cff7",
   "metadata": {},
   "outputs": [],
   "source": [
    "driver.close()"
   ]
  },
  {
   "cell_type": "code",
   "execution_count": 23,
   "id": "de1d353a",
   "metadata": {},
   "outputs": [],
   "source": [
    "driver.get('http://www.forbes.com/')"
   ]
  },
  {
   "cell_type": "code",
   "execution_count": 29,
   "id": "d295506a",
   "metadata": {},
   "outputs": [],
   "source": [
    "product_url = []\n",
    "start = 0\n",
    "end = 2\n",
    "for page in range(start,end):\n",
    "    url=driver.find_elements(By.XPATH,'//div[@class=\"rank first table-cell    rank\"]')\n",
    "    for i in url:\n",
    "        product_url.append(i.get_attribute('herf'))"
   ]
  },
  {
   "cell_type": "code",
   "execution_count": 31,
   "id": "fc890477",
   "metadata": {},
   "outputs": [
    {
     "data": {
      "text/plain": [
       "200"
      ]
     },
     "execution_count": 31,
     "metadata": {},
     "output_type": "execute_result"
    }
   ],
   "source": [
    "len(product_url)"
   ]
  }
 ],
 "metadata": {
  "kernelspec": {
   "display_name": "Python 3 (ipykernel)",
   "language": "python",
   "name": "python3"
  },
  "language_info": {
   "codemirror_mode": {
    "name": "ipython",
    "version": 3
   },
   "file_extension": ".py",
   "mimetype": "text/x-python",
   "name": "python",
   "nbconvert_exporter": "python",
   "pygments_lexer": "ipython3",
   "version": "3.9.12"
  }
 },
 "nbformat": 4,
 "nbformat_minor": 5
}
