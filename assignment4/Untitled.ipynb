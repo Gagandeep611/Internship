{
 "cells": [
  {
   "cell_type": "code",
   "execution_count": 1,
   "id": "0a697b87",
   "metadata": {},
   "outputs": [
    {
     "name": "stdout",
     "output_type": "stream",
     "text": [
      "Requirement already satisfied: selenium in c:\\users\\gagan\\anaconda3\\lib\\site-packages (4.8.3)\n",
      "Requirement already satisfied: certifi>=2021.10.8 in c:\\users\\gagan\\anaconda3\\lib\\site-packages (from selenium) (2021.10.8)\n",
      "Requirement already satisfied: trio~=0.17 in c:\\users\\gagan\\anaconda3\\lib\\site-packages (from selenium) (0.22.0)\n",
      "Requirement already satisfied: urllib3[socks]~=1.26 in c:\\users\\gagan\\anaconda3\\lib\\site-packages (from selenium) (1.26.9)\n",
      "Requirement already satisfied: trio-websocket~=0.9 in c:\\users\\gagan\\anaconda3\\lib\\site-packages (from selenium) (0.10.2)\n",
      "Requirement already satisfied: sortedcontainers in c:\\users\\gagan\\anaconda3\\lib\\site-packages (from trio~=0.17->selenium) (2.4.0)\n",
      "Requirement already satisfied: exceptiongroup>=1.0.0rc9 in c:\\users\\gagan\\anaconda3\\lib\\site-packages (from trio~=0.17->selenium) (1.1.1)\n",
      "Requirement already satisfied: idna in c:\\users\\gagan\\anaconda3\\lib\\site-packages (from trio~=0.17->selenium) (3.3)\n",
      "Requirement already satisfied: async-generator>=1.9 in c:\\users\\gagan\\anaconda3\\lib\\site-packages (from trio~=0.17->selenium) (1.10)\n",
      "Requirement already satisfied: cffi>=1.14 in c:\\users\\gagan\\anaconda3\\lib\\site-packages (from trio~=0.17->selenium) (1.15.0)\n",
      "Requirement already satisfied: outcome in c:\\users\\gagan\\anaconda3\\lib\\site-packages (from trio~=0.17->selenium) (1.2.0)\n",
      "Requirement already satisfied: attrs>=19.2.0 in c:\\users\\gagan\\anaconda3\\lib\\site-packages (from trio~=0.17->selenium) (21.4.0)\n",
      "Requirement already satisfied: sniffio in c:\\users\\gagan\\anaconda3\\lib\\site-packages (from trio~=0.17->selenium) (1.2.0)\n",
      "Requirement already satisfied: pycparser in c:\\users\\gagan\\anaconda3\\lib\\site-packages (from cffi>=1.14->trio~=0.17->selenium) (2.21)\n",
      "Requirement already satisfied: wsproto>=0.14 in c:\\users\\gagan\\anaconda3\\lib\\site-packages (from trio-websocket~=0.9->selenium) (1.2.0)\n",
      "Requirement already satisfied: PySocks!=1.5.7,<2.0,>=1.5.6 in c:\\users\\gagan\\anaconda3\\lib\\site-packages (from urllib3[socks]~=1.26->selenium) (1.7.1)\n",
      "Requirement already satisfied: h11<1,>=0.9.0 in c:\\users\\gagan\\anaconda3\\lib\\site-packages (from wsproto>=0.14->trio-websocket~=0.9->selenium) (0.14.0)\n"
     ]
    }
   ],
   "source": [
    "!pip install selenium"
   ]
  },
  {
   "cell_type": "code",
   "execution_count": 2,
   "id": "760bb307",
   "metadata": {},
   "outputs": [],
   "source": [
    "import selenium\n",
    "import pandas as pd\n",
    "from selenium import webdriver\n",
    "import warnings\n",
    "warnings.filterwarnings('ignore')\n",
    "from selenium.webdriver.common.by import By\n",
    "import time\n",
    "import requests\n",
    "from selenium.common.exceptions import NoSuchElementException"
   ]
  },
  {
   "cell_type": "markdown",
   "id": "5cc9da8e",
   "metadata": {},
   "source": [
    "# q1"
   ]
  },
  {
   "cell_type": "code",
   "execution_count": 3,
   "id": "7c370429",
   "metadata": {},
   "outputs": [],
   "source": [
    "driver = webdriver.Edge(r\"C:\\Users\\Gagan\\Downloads\\edgedriver_win64.zip\\edgedriver.exe\")"
   ]
  },
  {
   "cell_type": "code",
   "execution_count": 4,
   "id": "dfd43d0a",
   "metadata": {},
   "outputs": [],
   "source": [
    "driver.get('https://en.wikipedia.org/wiki/List_of_most-viewed_YouTube_videos')"
   ]
  },
  {
   "cell_type": "code",
   "execution_count": 5,
   "id": "2241a38e",
   "metadata": {},
   "outputs": [],
   "source": [
    "rank_numbers=[]"
   ]
  },
  {
   "cell_type": "code",
   "execution_count": 7,
   "id": "2ae3284a",
   "metadata": {},
   "outputs": [],
   "source": [
    "start=0\n",
    "end=1\n",
    "for page in range(start,end):\n",
    "    url = driver.find_elements(By.XPATH,'//table[@class=\"wikitable sortable jquery-tablesorter\"][2]/tbody/tr[1]/td[1]')\n",
    "    for i in url:\n",
    "        rank_numbers.append(i.get_attribute('td'))"
   ]
  },
  {
   "cell_type": "code",
   "execution_count": 12,
   "id": "2260ef32",
   "metadata": {},
   "outputs": [],
   "source": [
    "name=[]"
   ]
  },
  {
   "cell_type": "code",
   "execution_count": 13,
   "id": "c52b82b1",
   "metadata": {},
   "outputs": [],
   "source": [
    "start=0\n",
    "end=1\n",
    "for page in range(start,end):\n",
    "    url = driver.find_elements(By.XPATH,'//table[@class=\"wikitable sortable jquery-tablesorter\"][2]/tbody/tr[1]/td[2]/a')\n",
    "    for i in url:\n",
    "        name.append(i.get_attribute('href'))"
   ]
  },
  {
   "cell_type": "code",
   "execution_count": 14,
   "id": "8d3965a5",
   "metadata": {},
   "outputs": [],
   "source": [
    "artist=[]"
   ]
  },
  {
   "cell_type": "code",
   "execution_count": 16,
   "id": "ad9fe5f9",
   "metadata": {},
   "outputs": [],
   "source": [
    "start=0\n",
    "end=1\n",
    "for page in range(start,end):\n",
    "    url = driver.find_elements(By.XPATH,'//table[@class=\"wikitable sortable jquery-tablesorter\"][3]/tbody/tr[1]/td[2]/a')\n",
    "    for i in url:\n",
    "        artist.append(i.get_attribute('href'))"
   ]
  },
  {
   "cell_type": "code",
   "execution_count": 17,
   "id": "e8570103",
   "metadata": {},
   "outputs": [],
   "source": [
    "upload_date=[]"
   ]
  },
  {
   "cell_type": "code",
   "execution_count": 18,
   "id": "4cf9f0be",
   "metadata": {},
   "outputs": [],
   "source": [
    "start=0\n",
    "end=1\n",
    "for page in range(start,end):\n",
    "    url = driver.find_elements(By.XPATH,'//table[@class=\"wikitable sortable jquery-tablesorter\"][2]/tbody/tr[1]/td[5]')\n",
    "    for i in url:\n",
    "        upload_date.append(i.get_attribute('td'))"
   ]
  },
  {
   "cell_type": "code",
   "execution_count": 21,
   "id": "eb0ee735",
   "metadata": {},
   "outputs": [],
   "source": [
    "views=[]"
   ]
  },
  {
   "cell_type": "code",
   "execution_count": 22,
   "id": "4a673c79",
   "metadata": {},
   "outputs": [],
   "source": [
    "start=0\n",
    "end=1\n",
    "for page in range(start,end):\n",
    "    url = driver.find_elements(By.XPATH,'//table[@class=\"wikitable sortable jquery-tablesorter\"][2]/tbody/tr[1]/td[4]')\n",
    "    for i in url:\n",
    "        views.append(i.get_attribute('td'))"
   ]
  },
  {
   "cell_type": "code",
   "execution_count": 23,
   "id": "9b6b0a76",
   "metadata": {},
   "outputs": [],
   "source": [
    "df = pd.DataFrame=({'Rank_Numbers':rank_numbers, 'Name':name, 'Artist':artist, 'Upload_Date':upload_date, 'Views':views})"
   ]
  },
  {
   "cell_type": "markdown",
   "id": "04a2f650",
   "metadata": {},
   "source": [
    "# q3"
   ]
  },
  {
   "cell_type": "code",
   "execution_count": 28,
   "id": "b3abf700",
   "metadata": {},
   "outputs": [],
   "source": [
    "driver = webdriver.Edge(r\"C:\\Users\\Gagan\\Downloads\\edgedriver_win64.zip\\edgedriver.exe\")"
   ]
  },
  {
   "cell_type": "code",
   "execution_count": 29,
   "id": "4af5c9e2",
   "metadata": {},
   "outputs": [],
   "source": [
    "driver.get('http://statisticstimes.com/')"
   ]
  },
  {
   "cell_type": "code",
   "execution_count": 31,
   "id": "d9c2be58",
   "metadata": {},
   "outputs": [],
   "source": [
    "economy=driver.find_element(By.CLASS_NAME,\"dropbtn\")\n",
    "economy.click()"
   ]
  },
  {
   "cell_type": "code",
   "execution_count": 32,
   "id": "d5dd7b35",
   "metadata": {},
   "outputs": [
    {
     "ename": "AttributeError",
     "evalue": "'list' object has no attribute 'click'",
     "output_type": "error",
     "traceback": [
      "\u001b[1;31m---------------------------------------------------------------------------\u001b[0m",
      "\u001b[1;31mAttributeError\u001b[0m                            Traceback (most recent call last)",
      "Input \u001b[1;32mIn [32]\u001b[0m, in \u001b[0;36m<cell line: 2>\u001b[1;34m()\u001b[0m\n\u001b[0;32m      1\u001b[0m india\u001b[38;5;241m=\u001b[39mdriver\u001b[38;5;241m.\u001b[39mfind_elements(By\u001b[38;5;241m.\u001b[39mXPATH,\u001b[38;5;124m'\u001b[39m\u001b[38;5;124m/html/body/div[2]/div[1]/div[2]/div[2]/div/a[3]\u001b[39m\u001b[38;5;124m'\u001b[39m)\n\u001b[1;32m----> 2\u001b[0m \u001b[43mindia\u001b[49m\u001b[38;5;241;43m.\u001b[39;49m\u001b[43mclick\u001b[49m()\n",
      "\u001b[1;31mAttributeError\u001b[0m: 'list' object has no attribute 'click'"
     ]
    }
   ],
   "source": [
    "india=driver.find_elements(By.XPATH,'/html/body/div[2]/div[1]/div[2]/div[2]/div/a[3]')\n",
    "india.click()"
   ]
  },
  {
   "cell_type": "code",
   "execution_count": 37,
   "id": "50a45905",
   "metadata": {},
   "outputs": [],
   "source": [
    "ranks = []"
   ]
  },
  {
   "cell_type": "code",
   "execution_count": 38,
   "id": "08489bc3",
   "metadata": {},
   "outputs": [],
   "source": [
    "url = driver.find_elements(By.XPATH,'//td[@class=\"data1\"]')\n",
    "for i in url[0:33]:\n",
    "    titles = i.text\n",
    "    ranks.append(titles)"
   ]
  },
  {
   "cell_type": "code",
   "execution_count": 54,
   "id": "045f43d7",
   "metadata": {},
   "outputs": [
    {
     "data": {
      "text/plain": [
       "33"
      ]
     },
     "execution_count": 54,
     "metadata": {},
     "output_type": "execute_result"
    }
   ],
   "source": [
    "len(ranks)"
   ]
  },
  {
   "cell_type": "code",
   "execution_count": 40,
   "id": "f2a23c0e",
   "metadata": {},
   "outputs": [],
   "source": [
    "state=[]"
   ]
  },
  {
   "cell_type": "code",
   "execution_count": 41,
   "id": "c5c0f87c",
   "metadata": {},
   "outputs": [],
   "source": [
    "url = driver.find_elements(By.XPATH,'//td[@class=\"name\"]')\n",
    "for i in url[0:33]:\n",
    "    titles = i.text\n",
    "    state.append(titles)"
   ]
  },
  {
   "cell_type": "code",
   "execution_count": 53,
   "id": "1502e808",
   "metadata": {},
   "outputs": [
    {
     "data": {
      "text/plain": [
       "33"
      ]
     },
     "execution_count": 53,
     "metadata": {},
     "output_type": "execute_result"
    }
   ],
   "source": [
    "len(state)"
   ]
  },
  {
   "cell_type": "code",
   "execution_count": 49,
   "id": "478f23bf",
   "metadata": {},
   "outputs": [],
   "source": [
    "gsdps_18_19=[]"
   ]
  },
  {
   "cell_type": "code",
   "execution_count": 50,
   "id": "fee180f6",
   "metadata": {},
   "outputs": [],
   "source": [
    "url = driver.find_elements(By.XPATH,'//td[@class=\"data sorting_1\"]')\n",
    "for i in url[0:33]:\n",
    "    titles=i.text\n",
    "    gsdps_18_19.append(titles)"
   ]
  },
  {
   "cell_type": "code",
   "execution_count": 52,
   "id": "2567a247",
   "metadata": {},
   "outputs": [
    {
     "data": {
      "text/plain": [
       "33"
      ]
     },
     "execution_count": 52,
     "metadata": {},
     "output_type": "execute_result"
    }
   ],
   "source": [
    "len(gsdps_18_19)"
   ]
  },
  {
   "cell_type": "code",
   "execution_count": 59,
   "id": "7d31b102",
   "metadata": {},
   "outputs": [],
   "source": [
    "gsdp_19_20=[]"
   ]
  },
  {
   "cell_type": "code",
   "execution_count": 60,
   "id": "88f3d4cf",
   "metadata": {},
   "outputs": [
    {
     "data": {
      "text/plain": [
       "['-',\n",
       " '13.94%',\n",
       " '399.921',\n",
       " '-',\n",
       " '2,039,074',\n",
       " '1,845,853',\n",
       " '8.63%',\n",
       " '247.629',\n",
       " '1,312,929',\n",
       " '1,215,307',\n",
       " '1,687,818',\n",
       " '8.39%',\n",
       " '240.726',\n",
       " '1,166,817',\n",
       " '1,123,982',\n",
       " '-',\n",
       " '7.96%',\n",
       " '228.290',\n",
       " '-',\n",
       " '1,186,379',\n",
       " '1,631,977',\n",
       " '7.91%',\n",
       " '226.806',\n",
       " '1,156,039',\n",
       " '1,091,077',\n",
       " '1,253,832',\n",
       " '5.77%',\n",
       " '165.556',\n",
       " '793,223',\n",
       " '739,525',\n",
       " '1,020,989',\n",
       " '4.99%',\n",
       " '143.179']"
      ]
     },
     "execution_count": 60,
     "metadata": {},
     "output_type": "execute_result"
    }
   ],
   "source": [
    "url=driver.find_elements(By.XPATH,'//td[@class=\"data\"]')\n",
    "for i in url[0:33]:\n",
    "    titles=i.text\n",
    "    gsdp_19_20.append(titles)\n",
    "gsdp_19_20"
   ]
  },
  {
   "cell_type": "code",
   "execution_count": 73,
   "id": "5060e2fb",
   "metadata": {},
   "outputs": [
    {
     "data": {
      "text/plain": [
       "33"
      ]
     },
     "execution_count": 73,
     "metadata": {},
     "output_type": "execute_result"
    }
   ],
   "source": [
    "len(gsdp_19_20)"
   ]
  },
  {
   "cell_type": "code",
   "execution_count": 61,
   "id": "486b93a0",
   "metadata": {},
   "outputs": [],
   "source": [
    "share_18_19=[]"
   ]
  },
  {
   "cell_type": "code",
   "execution_count": 62,
   "id": "2c93aad7",
   "metadata": {},
   "outputs": [
    {
     "data": {
      "text/plain": [
       "33"
      ]
     },
     "execution_count": 62,
     "metadata": {},
     "output_type": "execute_result"
    }
   ],
   "source": [
    "url = driver.find_elements(By.XPATH,'//td[@class=\"data1\"]')\n",
    "for i in url[0:33]:\n",
    "    titles = i.text\n",
    "    share_18_19.append(titles)\n",
    "len(share_18_19)"
   ]
  },
  {
   "cell_type": "code",
   "execution_count": 65,
   "id": "cc1dc6f9",
   "metadata": {},
   "outputs": [],
   "source": [
    "gdp_in_billion=[]"
   ]
  },
  {
   "cell_type": "code",
   "execution_count": 66,
   "id": "fc198b0e",
   "metadata": {},
   "outputs": [
    {
     "data": {
      "text/plain": [
       "33"
      ]
     },
     "execution_count": 66,
     "metadata": {},
     "output_type": "execute_result"
    }
   ],
   "source": [
    "url = driver.find_elements(By.XPATH,'//td[@class=\"data\"]')\n",
    "for i in url[0:33]:\n",
    "    titles = i.text\n",
    "    gdp_in_billion.append(titles)\n",
    "len(gdp_in_billion)"
   ]
  },
  {
   "cell_type": "code",
   "execution_count": 74,
   "id": "eaf80453",
   "metadata": {},
   "outputs": [
    {
     "ename": "TypeError",
     "evalue": "'dict' object is not callable",
     "output_type": "error",
     "traceback": [
      "\u001b[1;31m---------------------------------------------------------------------------\u001b[0m",
      "\u001b[1;31mTypeError\u001b[0m                                 Traceback (most recent call last)",
      "Input \u001b[1;32mIn [74]\u001b[0m, in \u001b[0;36m<cell line: 1>\u001b[1;34m()\u001b[0m\n\u001b[1;32m----> 1\u001b[0m df \u001b[38;5;241m=\u001b[39m \u001b[43mpd\u001b[49m\u001b[38;5;241;43m.\u001b[39;49m\u001b[43mDataFrame\u001b[49m\u001b[43m(\u001b[49m\u001b[43m{\u001b[49m\u001b[38;5;124;43m'\u001b[39;49m\u001b[38;5;124;43mRanks\u001b[39;49m\u001b[38;5;124;43m'\u001b[39;49m\u001b[43m:\u001b[49m\u001b[43mranks\u001b[49m\u001b[43m,\u001b[49m\u001b[43m \u001b[49m\u001b[38;5;124;43m'\u001b[39;49m\u001b[38;5;124;43mState\u001b[39;49m\u001b[38;5;124;43m'\u001b[39;49m\u001b[43m:\u001b[49m\u001b[43mstate\u001b[49m\u001b[43m,\u001b[49m\u001b[43m \u001b[49m\u001b[38;5;124;43m'\u001b[39;49m\u001b[38;5;124;43mGsdp_18_19\u001b[39;49m\u001b[38;5;124;43m'\u001b[39;49m\u001b[43m:\u001b[49m\u001b[43mgsdps_18_19\u001b[49m\u001b[43m,\u001b[49m\u001b[43m \u001b[49m\u001b[38;5;124;43m'\u001b[39;49m\u001b[38;5;124;43mGsdp_19_20\u001b[39;49m\u001b[38;5;124;43m'\u001b[39;49m\u001b[43m:\u001b[49m\u001b[43mgsdp_19_20\u001b[49m\u001b[43m,\u001b[49m\u001b[43m \u001b[49m\u001b[38;5;124;43m'\u001b[39;49m\u001b[38;5;124;43mShare_18_19\u001b[39;49m\u001b[38;5;124;43m'\u001b[39;49m\u001b[43m:\u001b[49m\u001b[43mshare_18_19\u001b[49m\u001b[43m,\u001b[49m\u001b[43m \u001b[49m\u001b[38;5;124;43m'\u001b[39;49m\u001b[38;5;124;43mGdp_In_Billion\u001b[39;49m\u001b[38;5;124;43m'\u001b[39;49m\u001b[43m:\u001b[49m\u001b[43mgdp_in_billion\u001b[49m\u001b[43m}\u001b[49m\u001b[43m)\u001b[49m\n",
      "\u001b[1;31mTypeError\u001b[0m: 'dict' object is not callable"
     ]
    }
   ],
   "source": [
    "df = pd.DataFrame({'Ranks':ranks, 'State':state, 'Gsdp_18_19':gsdps_18_19, 'Gsdp_19_20':gsdp_19_20, 'Share_18_19':share_18_19, 'Gdp_In_Billion':gdp_in_billion})\n"
   ]
  },
  {
   "cell_type": "markdown",
   "id": "18508d33",
   "metadata": {},
   "source": [
    "# Q4"
   ]
  },
  {
   "cell_type": "code",
   "execution_count": 86,
   "id": "4533215d",
   "metadata": {},
   "outputs": [],
   "source": [
    "driver = webdriver.Edge(r\"C:\\Users\\Gagan\\Downloads\\edgedriver_win64.zip\\edgedriver.exe\")"
   ]
  },
  {
   "cell_type": "code",
   "execution_count": 87,
   "id": "df6e09a1",
   "metadata": {},
   "outputs": [],
   "source": [
    "driver.get('https://github.com/')"
   ]
  },
  {
   "cell_type": "code",
   "execution_count": 77,
   "id": "7edca66e",
   "metadata": {},
   "outputs": [],
   "source": [
    "repository_detail=[]"
   ]
  },
  {
   "cell_type": "code",
   "execution_count": 88,
   "id": "79815bd2",
   "metadata": {},
   "outputs": [
    {
     "data": {
      "text/plain": [
       "25"
      ]
     },
     "execution_count": 88,
     "metadata": {},
     "output_type": "execute_result"
    }
   ],
   "source": [
    "url = driver.find_elements(By.XPATH,'//h2[@class=\"h3 lh-condensed\"]')\n",
    "for i in url:\n",
    "    titles = i.text\n",
    "    repository_detail.append(titles)\n",
    "len(repository_detail)"
   ]
  },
  {
   "cell_type": "code",
   "execution_count": 89,
   "id": "390b4b35",
   "metadata": {},
   "outputs": [],
   "source": [
    "product_url=[]"
   ]
  },
  {
   "cell_type": "code",
   "execution_count": 91,
   "id": "43a7b9d4",
   "metadata": {},
   "outputs": [],
   "source": [
    "start=0\n",
    "end=1\n",
    "for page in range(start,end):\n",
    "    URL=driver.find_elements(By.XPATH,'//h2[@class=\"h3 lh-condensed\"]')\n",
    "    for i in URL:\n",
    "        product_url.append(i.get_attribute('href'))"
   ]
  },
  {
   "cell_type": "code",
   "execution_count": 92,
   "id": "726948c7",
   "metadata": {},
   "outputs": [
    {
     "data": {
      "text/plain": [
       "25"
      ]
     },
     "execution_count": 92,
     "metadata": {},
     "output_type": "execute_result"
    }
   ],
   "source": [
    "len(product_url)"
   ]
  },
  {
   "cell_type": "code",
   "execution_count": 93,
   "id": "597d9abe",
   "metadata": {},
   "outputs": [],
   "source": [
    "RD=[]"
   ]
  },
  {
   "cell_type": "code",
   "execution_count": 97,
   "id": "87bbaa50",
   "metadata": {},
   "outputs": [
    {
     "ename": "InvalidArgumentException",
     "evalue": "Message: invalid argument: 'url' must be a string\n  (Session info: MicrosoftEdge=112.0.1722.58)\nStacktrace:\nBacktrace:\n\tGetHandleVerifier [0x00007FF70AE9DB52+60274]\n\tMicrosoft::Applications::Events::EventProperty::~EventProperty [0x00007FF70AE2E7B2+818914]\n\t(No symbol) [0x00007FF70AAADFAE]\n\t(No symbol) [0x00007FF70AB29541]\n\t(No symbol) [0x00007FF70AB0F56A]\n\t(No symbol) [0x00007FF70AAE2751]\n\t(No symbol) [0x00007FF70AB2891C]\n\t(No symbol) [0x00007FF70AB0F343]\n\t(No symbol) [0x00007FF70AAE1796]\n\t(No symbol) [0x00007FF70AAE0975]\n\t(No symbol) [0x00007FF70AAE1F04]\n\tMicrosoft::Applications::Events::EventProperties::SetLevel [0x00007FF70AD36C17+1676711]\n\tMicrosoft::Applications::Events::EventProperties::SetLevel [0x00007FF70ABDEEDD+268397]\n\tMicrosoft::Applications::Events::EventProperty::~EventProperty [0x00007FF70AD6F927+36951]\n\tMicrosoft::Applications::Events::EventProperty::~EventProperty [0x00007FF70AD67A35+4453]\n\tMicrosoft::Applications::Events::ILogManager::DispatchEventBroadcast [0x00007FF70B067EF3+1319011]\n\tMicrosoft::Applications::Events::EventProperty::~EventProperty [0x00007FF70AE3686C+851868]\n\tMicrosoft::Applications::Events::EventProperty::~EventProperty [0x00007FF70AE328D4+835588]\n\tMicrosoft::Applications::Events::EventProperty::~EventProperty [0x00007FF70AE32A2C+835932]\n\tMicrosoft::Applications::Events::EventProperty::~EventProperty [0x00007FF70AE28601+793905]\n\tBaseThreadInitThunk [0x00007FF8B6037604+20]\n\tRtlUserThreadStart [0x00007FF8B7E426A1+33]\n",
     "output_type": "error",
     "traceback": [
      "\u001b[1;31m---------------------------------------------------------------------------\u001b[0m",
      "\u001b[1;31mInvalidArgumentException\u001b[0m                  Traceback (most recent call last)",
      "Input \u001b[1;32mIn [97]\u001b[0m, in \u001b[0;36m<cell line: 1>\u001b[1;34m()\u001b[0m\n\u001b[0;32m      1\u001b[0m \u001b[38;5;28;01mfor\u001b[39;00m urls \u001b[38;5;129;01min\u001b[39;00m product_url:\n\u001b[1;32m----> 2\u001b[0m     \u001b[43mdriver\u001b[49m\u001b[38;5;241;43m.\u001b[39;49m\u001b[43mget\u001b[49m\u001b[43m(\u001b[49m\u001b[43murls\u001b[49m\u001b[43m)\u001b[49m\n\u001b[0;32m      3\u001b[0m     time\u001b[38;5;241m.\u001b[39msleep(\u001b[38;5;241m3\u001b[39m)\n\u001b[0;32m      5\u001b[0m     \u001b[38;5;28;01mtry\u001b[39;00m:\n",
      "File \u001b[1;32m~\\anaconda3\\lib\\site-packages\\selenium\\webdriver\\remote\\webdriver.py:449\u001b[0m, in \u001b[0;36mWebDriver.get\u001b[1;34m(self, url)\u001b[0m\n\u001b[0;32m    447\u001b[0m \u001b[38;5;28;01mdef\u001b[39;00m \u001b[38;5;21mget\u001b[39m(\u001b[38;5;28mself\u001b[39m, url: \u001b[38;5;28mstr\u001b[39m) \u001b[38;5;241m-\u001b[39m\u001b[38;5;241m>\u001b[39m \u001b[38;5;28;01mNone\u001b[39;00m:\n\u001b[0;32m    448\u001b[0m     \u001b[38;5;124;03m\"\"\"Loads a web page in the current browser session.\"\"\"\u001b[39;00m\n\u001b[1;32m--> 449\u001b[0m     \u001b[38;5;28;43mself\u001b[39;49m\u001b[38;5;241;43m.\u001b[39;49m\u001b[43mexecute\u001b[49m\u001b[43m(\u001b[49m\u001b[43mCommand\u001b[49m\u001b[38;5;241;43m.\u001b[39;49m\u001b[43mGET\u001b[49m\u001b[43m,\u001b[49m\u001b[43m \u001b[49m\u001b[43m{\u001b[49m\u001b[38;5;124;43m\"\u001b[39;49m\u001b[38;5;124;43murl\u001b[39;49m\u001b[38;5;124;43m\"\u001b[39;49m\u001b[43m:\u001b[49m\u001b[43m \u001b[49m\u001b[43murl\u001b[49m\u001b[43m}\u001b[49m\u001b[43m)\u001b[49m\n",
      "File \u001b[1;32m~\\anaconda3\\lib\\site-packages\\selenium\\webdriver\\remote\\webdriver.py:440\u001b[0m, in \u001b[0;36mWebDriver.execute\u001b[1;34m(self, driver_command, params)\u001b[0m\n\u001b[0;32m    438\u001b[0m response \u001b[38;5;241m=\u001b[39m \u001b[38;5;28mself\u001b[39m\u001b[38;5;241m.\u001b[39mcommand_executor\u001b[38;5;241m.\u001b[39mexecute(driver_command, params)\n\u001b[0;32m    439\u001b[0m \u001b[38;5;28;01mif\u001b[39;00m response:\n\u001b[1;32m--> 440\u001b[0m     \u001b[38;5;28;43mself\u001b[39;49m\u001b[38;5;241;43m.\u001b[39;49m\u001b[43merror_handler\u001b[49m\u001b[38;5;241;43m.\u001b[39;49m\u001b[43mcheck_response\u001b[49m\u001b[43m(\u001b[49m\u001b[43mresponse\u001b[49m\u001b[43m)\u001b[49m\n\u001b[0;32m    441\u001b[0m     response[\u001b[38;5;124m\"\u001b[39m\u001b[38;5;124mvalue\u001b[39m\u001b[38;5;124m\"\u001b[39m] \u001b[38;5;241m=\u001b[39m \u001b[38;5;28mself\u001b[39m\u001b[38;5;241m.\u001b[39m_unwrap_value(response\u001b[38;5;241m.\u001b[39mget(\u001b[38;5;124m\"\u001b[39m\u001b[38;5;124mvalue\u001b[39m\u001b[38;5;124m\"\u001b[39m, \u001b[38;5;28;01mNone\u001b[39;00m))\n\u001b[0;32m    442\u001b[0m     \u001b[38;5;28;01mreturn\u001b[39;00m response\n",
      "File \u001b[1;32m~\\anaconda3\\lib\\site-packages\\selenium\\webdriver\\remote\\errorhandler.py:245\u001b[0m, in \u001b[0;36mErrorHandler.check_response\u001b[1;34m(self, response)\u001b[0m\n\u001b[0;32m    243\u001b[0m         alert_text \u001b[38;5;241m=\u001b[39m value[\u001b[38;5;124m\"\u001b[39m\u001b[38;5;124malert\u001b[39m\u001b[38;5;124m\"\u001b[39m]\u001b[38;5;241m.\u001b[39mget(\u001b[38;5;124m\"\u001b[39m\u001b[38;5;124mtext\u001b[39m\u001b[38;5;124m\"\u001b[39m)\n\u001b[0;32m    244\u001b[0m     \u001b[38;5;28;01mraise\u001b[39;00m exception_class(message, screen, stacktrace, alert_text)  \u001b[38;5;66;03m# type: ignore[call-arg]  # mypy is not smart enough here\u001b[39;00m\n\u001b[1;32m--> 245\u001b[0m \u001b[38;5;28;01mraise\u001b[39;00m exception_class(message, screen, stacktrace)\n",
      "\u001b[1;31mInvalidArgumentException\u001b[0m: Message: invalid argument: 'url' must be a string\n  (Session info: MicrosoftEdge=112.0.1722.58)\nStacktrace:\nBacktrace:\n\tGetHandleVerifier [0x00007FF70AE9DB52+60274]\n\tMicrosoft::Applications::Events::EventProperty::~EventProperty [0x00007FF70AE2E7B2+818914]\n\t(No symbol) [0x00007FF70AAADFAE]\n\t(No symbol) [0x00007FF70AB29541]\n\t(No symbol) [0x00007FF70AB0F56A]\n\t(No symbol) [0x00007FF70AAE2751]\n\t(No symbol) [0x00007FF70AB2891C]\n\t(No symbol) [0x00007FF70AB0F343]\n\t(No symbol) [0x00007FF70AAE1796]\n\t(No symbol) [0x00007FF70AAE0975]\n\t(No symbol) [0x00007FF70AAE1F04]\n\tMicrosoft::Applications::Events::EventProperties::SetLevel [0x00007FF70AD36C17+1676711]\n\tMicrosoft::Applications::Events::EventProperties::SetLevel [0x00007FF70ABDEEDD+268397]\n\tMicrosoft::Applications::Events::EventProperty::~EventProperty [0x00007FF70AD6F927+36951]\n\tMicrosoft::Applications::Events::EventProperty::~EventProperty [0x00007FF70AD67A35+4453]\n\tMicrosoft::Applications::Events::ILogManager::DispatchEventBroadcast [0x00007FF70B067EF3+1319011]\n\tMicrosoft::Applications::Events::EventProperty::~EventProperty [0x00007FF70AE3686C+851868]\n\tMicrosoft::Applications::Events::EventProperty::~EventProperty [0x00007FF70AE328D4+835588]\n\tMicrosoft::Applications::Events::EventProperty::~EventProperty [0x00007FF70AE32A2C+835932]\n\tMicrosoft::Applications::Events::EventProperty::~EventProperty [0x00007FF70AE28601+793905]\n\tBaseThreadInitThunk [0x00007FF8B6037604+20]\n\tRtlUserThreadStart [0x00007FF8B7E426A1+33]\n"
     ]
    }
   ],
   "source": [
    "for urls in product_url:\n",
    "    driver.get(urls)\n",
    "    time.sleep(3)\n",
    "    \n",
    "    try:\n",
    "        description=driver.find_elements(By.XPATH,'//a[@class=\"js-navigation-open Link--primary\"]')\n",
    "        RD.append(description.text)\n",
    "    except NoSuchElementException:\n",
    "        RD.append('-')"
   ]
  },
  {
   "cell_type": "code",
   "execution_count": 98,
   "id": "5518701c",
   "metadata": {},
   "outputs": [],
   "source": [
    "contributor=[]"
   ]
  },
  {
   "cell_type": "code",
   "execution_count": 100,
   "id": "04906adb",
   "metadata": {},
   "outputs": [
    {
     "ename": "IndentationError",
     "evalue": "unindent does not match any outer indentation level (<tokenize>, line 4)",
     "output_type": "error",
     "traceback": [
      "\u001b[1;36m  File \u001b[1;32m<tokenize>:4\u001b[1;36m\u001b[0m\n\u001b[1;33m    except NoSuchElementException:\u001b[0m\n\u001b[1;37m    ^\u001b[0m\n\u001b[1;31mIndentationError\u001b[0m\u001b[1;31m:\u001b[0m unindent does not match any outer indentation level\n"
     ]
    }
   ],
   "source": [
    "try:\n",
    "        description=driver.find_elements(By.XPATH,'//ul[@class=\"list-style-none d-flex flex-wrap mb-n2\"]')\n",
    "        contributor.append(description.text)\n",
    "    except NoSuchElementException:\n",
    "        contributor.append('-')"
   ]
  },
  {
   "cell_type": "markdown",
   "id": "0bc65f5a",
   "metadata": {},
   "source": [
    "# Q5"
   ]
  },
  {
   "cell_type": "code",
   "execution_count": 107,
   "id": "bc74096b",
   "metadata": {},
   "outputs": [],
   "source": [
    "driver = webdriver.Edge(r\"C:\\Users\\Gagan\\Downloads\\edgedriver_win64.zip\\edgedriver.exe\")"
   ]
  },
  {
   "cell_type": "code",
   "execution_count": 108,
   "id": "cb38ba29",
   "metadata": {},
   "outputs": [],
   "source": [
    "driver.get('https://www.billboard.com/')"
   ]
  },
  {
   "cell_type": "code",
   "execution_count": 110,
   "id": "60edffcd",
   "metadata": {},
   "outputs": [],
   "source": [
    "charts=driver.find_element(By.XPATH,'/html/body/div[3]/div[9]/div/div/div/ul/li[1]/h3/a')\n",
    "charts.click()"
   ]
  },
  {
   "cell_type": "code",
   "execution_count": 115,
   "id": "ee4b4d35",
   "metadata": {},
   "outputs": [],
   "source": [
    "bill_board=driver.find_element(By.XPATH,'/html/body/div[3]/main/div[2]/div[1]/div[1]/div/div/div[1]/div[1]/div[2]/span/a')\n",
    "bill_board.click()"
   ]
  },
  {
   "cell_type": "code",
   "execution_count": 155,
   "id": "452eb1a5",
   "metadata": {},
   "outputs": [],
   "source": [
    "song_names=[]"
   ]
  },
  {
   "cell_type": "code",
   "execution_count": 156,
   "id": "8d37a5e2",
   "metadata": {},
   "outputs": [],
   "source": [
    "for _ in range(10):\n",
    "    driver.execute_script('window.scrollBy(0,100)')\n",
    "\n",
    "url=driver.find_elements(By.XPATH,'//h3[@class=\"c-title  a-no-trucate a-font-primary-bold-s u-letter-spacing-0021 u-font-size-23@tablet lrv-u-font-size-16 u-line-height-125 u-line-height-normal@mobile-max a-truncate-ellipsis u-max-width-245 u-max-width-230@tablet-only u-letter-spacing-0028@tablet\"]')\n",
    "for i in url[0:100]:\n",
    "    song_names.append(i.get_attribute('href'))b"
   ]
  },
  {
   "cell_type": "code",
   "execution_count": 157,
   "id": "a1af4cd3",
   "metadata": {},
   "outputs": [
    {
     "data": {
      "text/plain": [
       "[None]"
      ]
     },
     "execution_count": 157,
     "metadata": {},
     "output_type": "execute_result"
    }
   ],
   "source": [
    "song_names"
   ]
  },
  {
   "cell_type": "code",
   "execution_count": 158,
   "id": "7bd26423",
   "metadata": {},
   "outputs": [],
   "source": [
    "artist_name=[]"
   ]
  },
  {
   "cell_type": "code",
   "execution_count": 159,
   "id": "2059085b",
   "metadata": {},
   "outputs": [],
   "source": [
    "url=driver.find_elements(By.XPATH,'//span[@class=\"c-label  a-no-trucate a-font-primary-s lrv-u-font-size-14@mobile-max u-line-height-normal@mobile-max u-letter-spacing-0021 lrv-u-display-block a-truncate-ellipsis-2line u-max-width-330 u-max-width-230@tablet-only u-font-size-20@tablet\"]')\n",
    "for i in url[0:100]:\n",
    "    artist_name.append(i.get_attribute('href'))"
   ]
  },
  {
   "cell_type": "code",
   "execution_count": 160,
   "id": "e6a88a34",
   "metadata": {},
   "outputs": [
    {
     "data": {
      "text/plain": [
       "[None]"
      ]
     },
     "execution_count": 160,
     "metadata": {},
     "output_type": "execute_result"
    }
   ],
   "source": [
    "artist_name"
   ]
  },
  {
   "cell_type": "code",
   "execution_count": null,
   "id": "45fd48d8",
   "metadata": {},
   "outputs": [],
   "source": [
    "no href value present neither in parent class nor in other class"
   ]
  },
  {
   "cell_type": "markdown",
   "id": "8d48d5f2",
   "metadata": {},
   "source": [
    "# Q6"
   ]
  },
  {
   "cell_type": "code",
   "execution_count": 184,
   "id": "2372f280",
   "metadata": {},
   "outputs": [],
   "source": [
    "driver = webdriver.Edge(r\"C:\\Users\\Gagan\\Downloads\\edgedriver_win64.zip\\edgedriver.exe\")"
   ]
  },
  {
   "cell_type": "code",
   "execution_count": 185,
   "id": "bb6e0927",
   "metadata": {},
   "outputs": [],
   "source": [
    "driver.get('https://www.theguardian.com/news/datablog/2012/aug/09/best-selling-books-all-time-fifty-shades-grey-compare')"
   ]
  },
  {
   "cell_type": "code",
   "execution_count": 219,
   "id": "8b54633d",
   "metadata": {},
   "outputs": [],
   "source": [
    "book_name=[]"
   ]
  },
  {
   "cell_type": "code",
   "execution_count": 226,
   "id": "1a95094b",
   "metadata": {},
   "outputs": [],
   "source": [
    "url=driver.find_elements(By.XPATH,'//td[@class=\"left\"]')\n",
    "for i in url:\n",
    "    titles=i.text\n",
    "    book_name.append(titles)"
   ]
  },
  {
   "cell_type": "code",
   "execution_count": 227,
   "id": "6dcc6a25",
   "metadata": {},
   "outputs": [
    {
     "data": {
      "text/plain": [
       "['1',\n",
       " 'Da Vinci Code,The',\n",
       " 'Brown, Dan',\n",
       " '5,094,805',\n",
       " 'Transworld',\n",
       " '2',\n",
       " 'Harry Potter and the Deathly Hallows',\n",
       " 'Rowling, J.K.',\n",
       " '4,475,152',\n",
       " 'Bloomsbury',\n",
       " '3',\n",
       " \"Harry Potter and the Philosopher's Stone\",\n",
       " 'Rowling, J.K.',\n",
       " '4,200,654',\n",
       " 'Bloomsbury',\n",
       " '4',\n",
       " 'Harry Potter and the Order of the Phoenix',\n",
       " 'Rowling, J.K.',\n",
       " '4,179,479',\n",
       " 'Bloomsbury',\n",
       " '5',\n",
       " 'Fifty Shades of Grey',\n",
       " 'James, E. L.',\n",
       " '3,758,936',\n",
       " 'Random House',\n",
       " '6',\n",
       " 'Harry Potter and the Goblet of Fire',\n",
       " 'Rowling, J.K.',\n",
       " '3,583,215',\n",
       " 'Bloomsbury',\n",
       " '7',\n",
       " 'Harry Potter and the Chamber of Secrets',\n",
       " 'Rowling, J.K.',\n",
       " '3,484,047',\n",
       " 'Bloomsbury',\n",
       " '8',\n",
       " 'Harry Potter and the Prisoner of Azkaban',\n",
       " 'Rowling, J.K.',\n",
       " '3,377,906',\n",
       " 'Bloomsbury',\n",
       " '9',\n",
       " 'Angels and Demons',\n",
       " 'Brown, Dan',\n",
       " '3,193,946',\n",
       " 'Transworld',\n",
       " '10',\n",
       " \"Harry Potter and the Half-blood Prince:Children's Edition\",\n",
       " 'Rowling, J.K.',\n",
       " '2,950,264',\n",
       " 'Bloomsbury',\n",
       " '11',\n",
       " 'Fifty Shades Darker',\n",
       " 'James, E. L.',\n",
       " '2,479,784',\n",
       " 'Random House',\n",
       " '12',\n",
       " 'Twilight',\n",
       " 'Meyer, Stephenie',\n",
       " '2,315,405',\n",
       " 'Little, Brown Book',\n",
       " '13',\n",
       " 'Girl with the Dragon Tattoo,The:Millennium Trilogy',\n",
       " 'Larsson, Stieg',\n",
       " '2,233,570',\n",
       " 'Quercus',\n",
       " '14',\n",
       " 'Fifty Shades Freed',\n",
       " 'James, E. L.',\n",
       " '2,193,928',\n",
       " 'Random House',\n",
       " '15',\n",
       " 'Lost Symbol,The',\n",
       " 'Brown, Dan',\n",
       " '2,183,031',\n",
       " 'Transworld',\n",
       " '16',\n",
       " 'New Moon',\n",
       " 'Meyer, Stephenie',\n",
       " '2,152,737',\n",
       " 'Little, Brown Book',\n",
       " '17',\n",
       " 'Deception Point',\n",
       " 'Brown, Dan',\n",
       " '2,062,145',\n",
       " 'Transworld',\n",
       " '18',\n",
       " 'Eclipse',\n",
       " 'Meyer, Stephenie',\n",
       " '2,052,876',\n",
       " 'Little, Brown Book',\n",
       " '19',\n",
       " 'Lovely Bones,The',\n",
       " 'Sebold, Alice',\n",
       " '2,005,598',\n",
       " 'Pan Macmillan',\n",
       " '20',\n",
       " 'Curious Incident of the Dog in the Night-time,The',\n",
       " 'Haddon, Mark',\n",
       " '1,979,552',\n",
       " 'Random House',\n",
       " '21',\n",
       " 'Digital Fortress',\n",
       " 'Brown, Dan',\n",
       " '1,928,900',\n",
       " 'Transworld',\n",
       " '22',\n",
       " 'Short History of Nearly Everything,A',\n",
       " 'Bryson, Bill',\n",
       " '1,852,919',\n",
       " 'Transworld',\n",
       " '23',\n",
       " 'Girl Who Played with Fire,The:Millennium Trilogy',\n",
       " 'Larsson, Stieg',\n",
       " '1,814,784',\n",
       " 'Quercus',\n",
       " '24',\n",
       " 'Breaking Dawn',\n",
       " 'Meyer, Stephenie',\n",
       " '1,787,118',\n",
       " 'Little, Brown Book',\n",
       " '25',\n",
       " 'Very Hungry Caterpillar,The:The Very Hungry Caterpillar',\n",
       " 'Carle, Eric',\n",
       " '1,783,535',\n",
       " 'Penguin',\n",
       " '26',\n",
       " 'Gruffalo,The',\n",
       " 'Donaldson, Julia',\n",
       " '1,781,269',\n",
       " 'Pan Macmillan',\n",
       " '27',\n",
       " \"Jamie's 30-Minute Meals\",\n",
       " 'Oliver, Jamie',\n",
       " '1,743,266',\n",
       " 'Penguin',\n",
       " '28',\n",
       " 'Kite Runner,The',\n",
       " 'Hosseini, Khaled',\n",
       " '1,629,119',\n",
       " 'Bloomsbury',\n",
       " '29',\n",
       " 'One Day',\n",
       " 'Nicholls, David',\n",
       " '1,616,068',\n",
       " 'Hodder & Stoughton',\n",
       " '30',\n",
       " 'Thousand Splendid Suns,A',\n",
       " 'Hosseini, Khaled',\n",
       " '1,583,992',\n",
       " 'Bloomsbury',\n",
       " '31',\n",
       " \"Girl Who Kicked the Hornets' Nest,The:Millennium Trilogy\",\n",
       " 'Larsson, Stieg',\n",
       " '1,555,135',\n",
       " 'Quercus',\n",
       " '32',\n",
       " \"Time Traveler's Wife,The\",\n",
       " 'Niffenegger, Audrey',\n",
       " '1,546,886',\n",
       " 'Random House',\n",
       " '33',\n",
       " 'Atonement',\n",
       " 'McEwan, Ian',\n",
       " '1,539,428',\n",
       " 'Random House',\n",
       " '34',\n",
       " \"Bridget Jones's Diary:A Novel\",\n",
       " 'Fielding, Helen',\n",
       " '1,508,205',\n",
       " 'Pan Macmillan',\n",
       " '35',\n",
       " 'World According to Clarkson,The',\n",
       " 'Clarkson, Jeremy',\n",
       " '1,489,403',\n",
       " 'Penguin',\n",
       " '36',\n",
       " \"Captain Corelli's Mandolin\",\n",
       " 'Bernieres, Louis de',\n",
       " '1,352,318',\n",
       " 'Random House',\n",
       " '37',\n",
       " 'Sound of Laughter,The',\n",
       " 'Kay, Peter',\n",
       " '1,310,207',\n",
       " 'Random House',\n",
       " '38',\n",
       " 'Life of Pi',\n",
       " 'Martel, Yann',\n",
       " '1,310,176',\n",
       " 'Canongate',\n",
       " '39',\n",
       " 'Billy Connolly',\n",
       " 'Stephenson, Pamela',\n",
       " '1,231,957',\n",
       " 'HarperCollins',\n",
       " '40',\n",
       " 'Child Called It,A',\n",
       " 'Pelzer, Dave',\n",
       " '1,217,712',\n",
       " 'Orion',\n",
       " '41',\n",
       " \"Gruffalo's Child,The\",\n",
       " 'Donaldson, Julia',\n",
       " '1,208,711',\n",
       " 'Pan Macmillan',\n",
       " '42',\n",
       " \"Angela's Ashes:A Memoir of a Childhood\",\n",
       " 'McCourt, Frank',\n",
       " '1,204,058',\n",
       " 'HarperCollins',\n",
       " '43',\n",
       " 'Birdsong',\n",
       " 'Faulks, Sebastian',\n",
       " '1,184,967',\n",
       " 'Random House',\n",
       " '44',\n",
       " 'Northern Lights:His Dark Materials S.',\n",
       " 'Pullman, Philip',\n",
       " '1,181,503',\n",
       " 'Scholastic Ltd.',\n",
       " '45',\n",
       " 'Labyrinth',\n",
       " 'Mosse, Kate',\n",
       " '1,181,093',\n",
       " 'Orion',\n",
       " '46',\n",
       " 'Harry Potter and the Half-blood Prince',\n",
       " 'Rowling, J.K.',\n",
       " '1,153,181',\n",
       " 'Bloomsbury',\n",
       " '47',\n",
       " 'Help,The',\n",
       " 'Stockett, Kathryn',\n",
       " '1,132,336',\n",
       " 'Penguin',\n",
       " '48',\n",
       " 'Man and Boy',\n",
       " 'Parsons, Tony',\n",
       " '1,130,802',\n",
       " 'HarperCollins',\n",
       " '49',\n",
       " 'Memoirs of a Geisha',\n",
       " 'Golden, Arthur',\n",
       " '1,126,337',\n",
       " 'Random House',\n",
       " '50',\n",
       " \"No.1 Ladies' Detective Agency,The:No.1 Ladies' Detective Agency S.\",\n",
       " 'McCall Smith, Alexander',\n",
       " '1,115,549',\n",
       " 'Little, Brown Book',\n",
       " '51',\n",
       " 'Island,The',\n",
       " 'Hislop, Victoria',\n",
       " '1,108,328',\n",
       " 'Headline',\n",
       " '52',\n",
       " 'PS, I Love You',\n",
       " 'Ahern, Cecelia',\n",
       " '1,107,379',\n",
       " 'HarperCollins',\n",
       " '53',\n",
       " 'You are What You Eat:The Plan That Will Change Your Life',\n",
       " 'McKeith, Gillian',\n",
       " '1,104,403',\n",
       " 'Penguin',\n",
       " '54',\n",
       " 'Shadow of the Wind,The',\n",
       " 'Zafon, Carlos Ruiz',\n",
       " '1,092,349',\n",
       " 'Orion',\n",
       " '55',\n",
       " 'Tales of Beedle the Bard,The',\n",
       " 'Rowling, J.K.',\n",
       " '1,090,847',\n",
       " 'Bloomsbury',\n",
       " '56',\n",
       " 'Broker,The',\n",
       " 'Grisham, John',\n",
       " '1,087,262',\n",
       " 'Random House',\n",
       " '57',\n",
       " \"Dr. Atkins' New Diet Revolution:The No-hunger, Luxurious Weight Loss P\",\n",
       " 'Atkins, Robert C.',\n",
       " '1,054,196',\n",
       " 'Random House',\n",
       " '58',\n",
       " 'Subtle Knife,The:His Dark Materials S.',\n",
       " 'Pullman, Philip',\n",
       " '1,037,160',\n",
       " 'Scholastic Ltd.',\n",
       " '59',\n",
       " 'Eats, Shoots and Leaves:The Zero Tolerance Approach to Punctuation',\n",
       " 'Truss, Lynne',\n",
       " '1,023,688',\n",
       " 'Profile Books Group',\n",
       " '60',\n",
       " \"Delia's How to Cook:(Bk.1)\",\n",
       " 'Smith, Delia',\n",
       " '1,015,956',\n",
       " 'Random House',\n",
       " '61',\n",
       " 'Chocolat',\n",
       " 'Harris, Joanne',\n",
       " '1,009,873',\n",
       " 'Transworld',\n",
       " '62',\n",
       " 'Boy in the Striped Pyjamas,The',\n",
       " 'Boyne, John',\n",
       " '1,004,414',\n",
       " 'Random House Childrens Books G',\n",
       " '63',\n",
       " \"My Sister's Keeper\",\n",
       " 'Picoult, Jodi',\n",
       " '1,003,780',\n",
       " 'Hodder & Stoughton',\n",
       " '64',\n",
       " 'Amber Spyglass,The:His Dark Materials S.',\n",
       " 'Pullman, Philip',\n",
       " '1,002,314',\n",
       " 'Scholastic Ltd.',\n",
       " '65',\n",
       " 'To Kill a Mockingbird',\n",
       " 'Lee, Harper',\n",
       " '998,213',\n",
       " 'Random House',\n",
       " '66',\n",
       " 'Men are from Mars, Women are from Venus:A Practical Guide for Improvin',\n",
       " 'Gray, John',\n",
       " '992,846',\n",
       " 'HarperCollins',\n",
       " '67',\n",
       " 'Dear Fatty',\n",
       " 'French, Dawn',\n",
       " '986,753',\n",
       " 'Random House',\n",
       " '68',\n",
       " 'Short History of Tractors in Ukrainian,A',\n",
       " 'Lewycka, Marina',\n",
       " '986,115',\n",
       " 'Penguin',\n",
       " '69',\n",
       " 'Hannibal',\n",
       " 'Harris, Thomas',\n",
       " '970,509',\n",
       " 'Random House',\n",
       " '70',\n",
       " 'Lord of the Rings,The',\n",
       " 'Tolkien, J. R. R.',\n",
       " '967,466',\n",
       " 'HarperCollins',\n",
       " '71',\n",
       " 'Stupid White Men:...and Other Sorry Excuses for the State of the Natio',\n",
       " 'Moore, Michael',\n",
       " '963,353',\n",
       " 'Penguin',\n",
       " '72',\n",
       " 'Interpretation of Murder,The',\n",
       " 'Rubenfeld, Jed',\n",
       " '962,515',\n",
       " 'Headline',\n",
       " '73',\n",
       " 'Sharon Osbourne Extreme:My Autobiography',\n",
       " 'Osbourne, Sharon',\n",
       " '959,496',\n",
       " 'Little, Brown Book',\n",
       " '74',\n",
       " 'Alchemist,The:A Fable About Following Your Dream',\n",
       " 'Coelho, Paulo',\n",
       " '956,114',\n",
       " 'HarperCollins',\n",
       " '75',\n",
       " \"At My Mother's Knee ...:and Other Low Joints\",\n",
       " \"O'Grady, Paul\",\n",
       " '945,640',\n",
       " 'Transworld',\n",
       " '76',\n",
       " 'Notes from a Small Island',\n",
       " 'Bryson, Bill',\n",
       " '931,312',\n",
       " 'Transworld',\n",
       " '77',\n",
       " 'Return of the Naked Chef,The',\n",
       " 'Oliver, Jamie',\n",
       " '925,425',\n",
       " 'Penguin',\n",
       " '78',\n",
       " 'Bridget Jones: The Edge of Reason',\n",
       " 'Fielding, Helen',\n",
       " '924,695',\n",
       " 'Pan Macmillan',\n",
       " '79',\n",
       " \"Jamie's Italy\",\n",
       " 'Oliver, Jamie',\n",
       " '906,968',\n",
       " 'Penguin',\n",
       " '80',\n",
       " 'I Can Make You Thin',\n",
       " 'McKenna, Paul',\n",
       " '905,086',\n",
       " 'Transworld',\n",
       " '81',\n",
       " 'Down Under',\n",
       " 'Bryson, Bill',\n",
       " '890,847',\n",
       " 'Transworld',\n",
       " '82',\n",
       " 'Summons,The',\n",
       " 'Grisham, John',\n",
       " '869,671',\n",
       " 'Random House',\n",
       " '83',\n",
       " 'Small Island',\n",
       " 'Levy, Andrea',\n",
       " '869,659',\n",
       " 'Headline',\n",
       " '84',\n",
       " 'Nigella Express',\n",
       " 'Lawson, Nigella',\n",
       " '862,602',\n",
       " 'Random House',\n",
       " '85',\n",
       " 'Brick Lane',\n",
       " 'Ali, Monica',\n",
       " '856,540',\n",
       " 'Transworld',\n",
       " '86',\n",
       " \"Memory Keeper's Daughter,The\",\n",
       " 'Edwards, Kim',\n",
       " '845,858',\n",
       " 'Penguin',\n",
       " '87',\n",
       " 'Room on the Broom',\n",
       " 'Donaldson, Julia',\n",
       " '842,535',\n",
       " 'Pan Macmillan',\n",
       " '88',\n",
       " 'About a Boy',\n",
       " 'Hornby, Nick',\n",
       " '828,215',\n",
       " 'Penguin',\n",
       " '89',\n",
       " 'My Booky Wook',\n",
       " 'Brand, Russell',\n",
       " '820,563',\n",
       " 'Hodder & Stoughton',\n",
       " '90',\n",
       " 'God Delusion,The',\n",
       " 'Dawkins, Richard',\n",
       " '816,907',\n",
       " 'Transworld',\n",
       " '91',\n",
       " '\"Beano\" Annual,The',\n",
       " '0',\n",
       " '816,585',\n",
       " 'D.C. Thomson',\n",
       " '92',\n",
       " 'White Teeth',\n",
       " 'Smith, Zadie',\n",
       " '815,586',\n",
       " 'Penguin',\n",
       " '93',\n",
       " 'House at Riverton,The',\n",
       " 'Morton, Kate',\n",
       " '814,370',\n",
       " 'Pan Macmillan',\n",
       " '94',\n",
       " 'Book Thief,The',\n",
       " 'Zusak, Markus',\n",
       " '809,641',\n",
       " 'Transworld',\n",
       " '95',\n",
       " 'Nights of Rain and Stars',\n",
       " 'Binchy, Maeve',\n",
       " '808,900',\n",
       " 'Orion',\n",
       " '96',\n",
       " 'Ghost,The',\n",
       " 'Harris, Robert',\n",
       " '807,311',\n",
       " 'Random House',\n",
       " '97',\n",
       " 'Happy Days with the Naked Chef',\n",
       " 'Oliver, Jamie',\n",
       " '794,201',\n",
       " 'Penguin',\n",
       " '98',\n",
       " 'Hunger Games,The:Hunger Games Trilogy',\n",
       " 'Collins, Suzanne',\n",
       " '792,187',\n",
       " 'Scholastic Ltd.',\n",
       " '99',\n",
       " \"Lost Boy,The:A Foster Child's Search for the Love of a Family\",\n",
       " 'Pelzer, Dave',\n",
       " '791,507',\n",
       " 'Orion',\n",
       " '100',\n",
       " \"Jamie's Ministry of Food:Anyone Can Learn to Cook in 24 Hours\",\n",
       " 'Oliver, Jamie',\n",
       " '791,095',\n",
       " 'Penguin']"
      ]
     },
     "execution_count": 227,
     "metadata": {},
     "output_type": "execute_result"
    }
   ],
   "source": [
    "book_name"
   ]
  },
  {
   "cell_type": "markdown",
   "id": "d492f46b",
   "metadata": {},
   "source": [
    "# Q7"
   ]
  },
  {
   "cell_type": "code",
   "execution_count": 228,
   "id": "62b53bfe",
   "metadata": {},
   "outputs": [],
   "source": [
    "driver = webdriver.Edge(r\"C:\\Users\\Gagan\\Downloads\\edgedriver_win64.zip\\edgedriver.exe\")"
   ]
  },
  {
   "cell_type": "code",
   "execution_count": 229,
   "id": "6ca93288",
   "metadata": {},
   "outputs": [],
   "source": [
    "driver.get('http://www.imdb.com/list/ls095964455/')"
   ]
  },
  {
   "cell_type": "code",
   "execution_count": 245,
   "id": "e6724f68",
   "metadata": {},
   "outputs": [],
   "source": [
    "names=[]"
   ]
  },
  {
   "cell_type": "code",
   "execution_count": 246,
   "id": "15527da0",
   "metadata": {},
   "outputs": [],
   "source": [
    "url=driver.find_elements(By.XPATH,'/html/body/div[2]/div/div[2]/div[3]/div[1]/div/div[3]/div[3]/div[1]/div[2]/h3/a')\n",
    "for i in url:\n",
    "    names.append(i.get_attribute('href'))"
   ]
  },
  {
   "cell_type": "code",
   "execution_count": 247,
   "id": "63ff7d9f",
   "metadata": {},
   "outputs": [
    {
     "data": {
      "text/plain": [
       "['https://www.imdb.com/title/tt0944947/?ref_=ttls_li_tt']"
      ]
     },
     "execution_count": 247,
     "metadata": {},
     "output_type": "execute_result"
    }
   ],
   "source": [
    "names"
   ]
  },
  {
   "cell_type": "code",
   "execution_count": 252,
   "id": "340a514d",
   "metadata": {},
   "outputs": [],
   "source": [
    "rating=[]"
   ]
  },
  {
   "cell_type": "code",
   "execution_count": 253,
   "id": "b5e02cf0",
   "metadata": {},
   "outputs": [],
   "source": [
    "url=driver.find_elements(By.XPATH,'//div[@class=\"ipl-rating-star small\"]')\n",
    "for i in url:\n",
    "    titles=i.text\n",
    "    rating.append(titles)"
   ]
  },
  {
   "cell_type": "code",
   "execution_count": 259,
   "id": "efc04735",
   "metadata": {},
   "outputs": [
    {
     "data": {
      "text/plain": [
       "100"
      ]
     },
     "execution_count": 259,
     "metadata": {},
     "output_type": "execute_result"
    }
   ],
   "source": [
    "len(rating)"
   ]
  },
  {
   "cell_type": "code",
   "execution_count": 256,
   "id": "46eb5083",
   "metadata": {},
   "outputs": [],
   "source": [
    "run_time=[]"
   ]
  },
  {
   "cell_type": "code",
   "execution_count": 257,
   "id": "b2ecbc88",
   "metadata": {},
   "outputs": [],
   "source": [
    "url=driver.find_elements(By.XPATH,'//span[@class=\"runtime\"]')\n",
    "for i in url:\n",
    "    titles=i.text\n",
    "    run_time.append(titles)"
   ]
  },
  {
   "cell_type": "code",
   "execution_count": 260,
   "id": "1bf3d68e",
   "metadata": {},
   "outputs": [
    {
     "data": {
      "text/plain": [
       "100"
      ]
     },
     "execution_count": 260,
     "metadata": {},
     "output_type": "execute_result"
    }
   ],
   "source": [
    "len(run_time)"
   ]
  },
  {
   "cell_type": "code",
   "execution_count": 261,
   "id": "4b886378",
   "metadata": {},
   "outputs": [],
   "source": [
    "year_span=[]"
   ]
  },
  {
   "cell_type": "code",
   "execution_count": 262,
   "id": "ccc00455",
   "metadata": {},
   "outputs": [],
   "source": [
    "url=driver.find_elements(By.XPATH,'//span[@class=\"lister-item-year text-muted unbold\"]')\n",
    "for i in url:\n",
    "    titles=i.text\n",
    "    year_span.append(titles)"
   ]
  },
  {
   "cell_type": "code",
   "execution_count": 263,
   "id": "b6691f95",
   "metadata": {},
   "outputs": [
    {
     "data": {
      "text/plain": [
       "100"
      ]
     },
     "execution_count": 263,
     "metadata": {},
     "output_type": "execute_result"
    }
   ],
   "source": [
    "len(year_span)"
   ]
  },
  {
   "cell_type": "code",
   "execution_count": 275,
   "id": "a9591d45",
   "metadata": {},
   "outputs": [],
   "source": [
    "genres=[]"
   ]
  },
  {
   "cell_type": "code",
   "execution_count": 276,
   "id": "4ebba32b",
   "metadata": {},
   "outputs": [
    {
     "data": {
      "text/plain": [
       "100"
      ]
     },
     "execution_count": 276,
     "metadata": {},
     "output_type": "execute_result"
    }
   ],
   "source": [
    "url=driver.find_elements(By.XPATH,'//span[@class=\"genre\"]')\n",
    "for i in url:\n",
    "    titles=i.text\n",
    "    genres.append(titles)\n",
    "len(genres)"
   ]
  },
  {
   "cell_type": "code",
   "execution_count": 277,
   "id": "5d62a004",
   "metadata": {},
   "outputs": [],
   "source": [
    "vote=[]"
   ]
  },
  {
   "cell_type": "code",
   "execution_count": 278,
   "id": "ede06ee9",
   "metadata": {},
   "outputs": [
    {
     "data": {
      "text/plain": [
       "100"
      ]
     },
     "execution_count": 278,
     "metadata": {},
     "output_type": "execute_result"
    }
   ],
   "source": [
    "url=driver.find_elements(By.XPATH,'//span[@class=\"certificate\"]')\n",
    "for i in url:\n",
    "    titles=i.text\n",
    "    vote.append(titles)\n",
    "len(vote)"
   ]
  },
  {
   "cell_type": "code",
   "execution_count": 280,
   "id": "2299d118",
   "metadata": {},
   "outputs": [],
   "source": [
    "import pandas as pd"
   ]
  },
  {
   "cell_type": "code",
   "execution_count": 283,
   "id": "57527616",
   "metadata": {},
   "outputs": [
    {
     "ename": "TypeError",
     "evalue": "'dict' object is not callable",
     "output_type": "error",
     "traceback": [
      "\u001b[1;31m---------------------------------------------------------------------------\u001b[0m",
      "\u001b[1;31mTypeError\u001b[0m                                 Traceback (most recent call last)",
      "Input \u001b[1;32mIn [283]\u001b[0m, in \u001b[0;36m<cell line: 1>\u001b[1;34m()\u001b[0m\n\u001b[1;32m----> 1\u001b[0m df \u001b[38;5;241m=\u001b[39m \u001b[43mpd\u001b[49m\u001b[38;5;241;43m.\u001b[39;49m\u001b[43mDataFrame\u001b[49m\u001b[43m(\u001b[49m\u001b[43m{\u001b[49m\u001b[38;5;124;43m'\u001b[39;49m\u001b[38;5;124;43mRatings\u001b[39;49m\u001b[38;5;124;43m'\u001b[39;49m\u001b[43m:\u001b[49m\u001b[43mrating\u001b[49m\u001b[43m,\u001b[49m\u001b[43m \u001b[49m\u001b[38;5;124;43m'\u001b[39;49m\u001b[38;5;124;43mTime\u001b[39;49m\u001b[38;5;124;43m'\u001b[39;49m\u001b[43m:\u001b[49m\u001b[43mrun_time\u001b[49m\u001b[43m,\u001b[49m\u001b[43m \u001b[49m\u001b[38;5;124;43m'\u001b[39;49m\u001b[38;5;124;43mYear\u001b[39;49m\u001b[38;5;124;43m'\u001b[39;49m\u001b[43m:\u001b[49m\u001b[43myear_span\u001b[49m\u001b[43m,\u001b[49m\u001b[43m \u001b[49m\u001b[38;5;124;43m'\u001b[39;49m\u001b[38;5;124;43mGenre\u001b[39;49m\u001b[38;5;124;43m'\u001b[39;49m\u001b[43m:\u001b[49m\u001b[43mgenres\u001b[49m\u001b[43m,\u001b[49m\u001b[43m \u001b[49m\u001b[38;5;124;43m'\u001b[39;49m\u001b[38;5;124;43mVotes\u001b[39;49m\u001b[38;5;124;43m'\u001b[39;49m\u001b[43m:\u001b[49m\u001b[43mvote\u001b[49m\u001b[43m}\u001b[49m\u001b[43m)\u001b[49m\n\u001b[0;32m      2\u001b[0m df\n",
      "\u001b[1;31mTypeError\u001b[0m: 'dict' object is not callable"
     ]
    }
   ],
   "source": [
    "df = pd.DataFrame({'Ratings':rating, 'Time':run_time, 'Year':year_span, 'Genre':genres, 'Votes':vote})\n",
    "df"
   ]
  },
  {
   "cell_type": "markdown",
   "id": "b7fd4354",
   "metadata": {},
   "source": [
    "# Q8"
   ]
  },
  {
   "cell_type": "code",
   "execution_count": 294,
   "id": "ccd254be",
   "metadata": {},
   "outputs": [],
   "source": [
    "driver = webdriver.Edge(r\"C:\\Users\\Gagan\\Downloads\\edgedriver_win64.zip\\edgedriver.exe\")"
   ]
  },
  {
   "cell_type": "code",
   "execution_count": 295,
   "id": "42478e20",
   "metadata": {},
   "outputs": [],
   "source": [
    "driver.get('https://archive.ics.uci.edu/')"
   ]
  },
  {
   "cell_type": "code",
   "execution_count": 296,
   "id": "6d5f664b",
   "metadata": {},
   "outputs": [],
   "source": [
    "data=driver.find_element(By.XPATH,'/html/body/table[1]/tbody/tr/td[2]/span[2]/a/font/b')\n",
    "data.click()"
   ]
  },
  {
   "cell_type": "code",
   "execution_count": 297,
   "id": "5daf3b15",
   "metadata": {},
   "outputs": [],
   "source": [
    "dataset_names=[]"
   ]
  },
  {
   "cell_type": "code",
   "execution_count": 302,
   "id": "2bac7252",
   "metadata": {},
   "outputs": [],
   "source": [
    "url=driver.find_elements(By.XPATH,'//p[@class=\"normal\"]')\n",
    "for i in url:\n",
    "    dataset_names.append(i.get_attribute('href'))"
   ]
  },
  {
   "cell_type": "code",
   "execution_count": 304,
   "id": "ca125c8b",
   "metadata": {},
   "outputs": [
    {
     "ename": "InvalidArgumentException",
     "evalue": "Message: invalid argument: 'url' must be a string\n  (Session info: MicrosoftEdge=112.0.1722.58)\nStacktrace:\nBacktrace:\n\tGetHandleVerifier [0x00007FF72F61DB12+60274]\n\tMicrosoft::Applications::Events::EventProperty::~EventProperty [0x00007FF72F5AE772+818882]\n\t(No symbol) [0x00007FF72F22DFAE]\n\t(No symbol) [0x00007FF72F2A9541]\n\t(No symbol) [0x00007FF72F28F56A]\n\t(No symbol) [0x00007FF72F262751]\n\t(No symbol) [0x00007FF72F2A891C]\n\t(No symbol) [0x00007FF72F28F343]\n\t(No symbol) [0x00007FF72F261796]\n\t(No symbol) [0x00007FF72F260975]\n\t(No symbol) [0x00007FF72F261F04]\n\tMicrosoft::Applications::Events::EventProperties::SetLevel [0x00007FF72F4B6BF7+1676711]\n\tMicrosoft::Applications::Events::EventProperties::SetLevel [0x00007FF72F35EEBD+268397]\n\tMicrosoft::Applications::Events::EventProperty::~EventProperty [0x00007FF72F4EF907+36951]\n\tMicrosoft::Applications::Events::EventProperty::~EventProperty [0x00007FF72F4E7A15+4453]\n\tMicrosoft::Applications::Events::ILogManager::DispatchEventBroadcast [0x00007FF72F7E7EB3+1319011]\n\tMicrosoft::Applications::Events::EventProperty::~EventProperty [0x00007FF72F5B682C+851836]\n\tMicrosoft::Applications::Events::EventProperty::~EventProperty [0x00007FF72F5B2894+835556]\n\tMicrosoft::Applications::Events::EventProperty::~EventProperty [0x00007FF72F5B29EC+835900]\n\tMicrosoft::Applications::Events::EventProperty::~EventProperty [0x00007FF72F5A85C1+793873]\n\tBaseThreadInitThunk [0x00007FF8B6037604+20]\n\tRtlUserThreadStart [0x00007FF8B7E426A1+33]\n",
     "output_type": "error",
     "traceback": [
      "\u001b[1;31m---------------------------------------------------------------------------\u001b[0m",
      "\u001b[1;31mInvalidArgumentException\u001b[0m                  Traceback (most recent call last)",
      "Input \u001b[1;32mIn [304]\u001b[0m, in \u001b[0;36m<cell line: 1>\u001b[1;34m()\u001b[0m\n\u001b[0;32m      1\u001b[0m \u001b[38;5;28;01mfor\u001b[39;00m url \u001b[38;5;129;01min\u001b[39;00m dataset_names:\n\u001b[1;32m----> 2\u001b[0m     \u001b[43mdriver\u001b[49m\u001b[38;5;241;43m.\u001b[39;49m\u001b[43mget\u001b[49m\u001b[43m(\u001b[49m\u001b[43murl\u001b[49m\u001b[43m)\u001b[49m\n\u001b[0;32m      3\u001b[0m     time\u001b[38;5;241m.\u001b[39msleep(\u001b[38;5;241m2\u001b[39m)\n",
      "File \u001b[1;32m~\\anaconda3\\lib\\site-packages\\selenium\\webdriver\\remote\\webdriver.py:449\u001b[0m, in \u001b[0;36mWebDriver.get\u001b[1;34m(self, url)\u001b[0m\n\u001b[0;32m    447\u001b[0m \u001b[38;5;28;01mdef\u001b[39;00m \u001b[38;5;21mget\u001b[39m(\u001b[38;5;28mself\u001b[39m, url: \u001b[38;5;28mstr\u001b[39m) \u001b[38;5;241m-\u001b[39m\u001b[38;5;241m>\u001b[39m \u001b[38;5;28;01mNone\u001b[39;00m:\n\u001b[0;32m    448\u001b[0m     \u001b[38;5;124;03m\"\"\"Loads a web page in the current browser session.\"\"\"\u001b[39;00m\n\u001b[1;32m--> 449\u001b[0m     \u001b[38;5;28;43mself\u001b[39;49m\u001b[38;5;241;43m.\u001b[39;49m\u001b[43mexecute\u001b[49m\u001b[43m(\u001b[49m\u001b[43mCommand\u001b[49m\u001b[38;5;241;43m.\u001b[39;49m\u001b[43mGET\u001b[49m\u001b[43m,\u001b[49m\u001b[43m \u001b[49m\u001b[43m{\u001b[49m\u001b[38;5;124;43m\"\u001b[39;49m\u001b[38;5;124;43murl\u001b[39;49m\u001b[38;5;124;43m\"\u001b[39;49m\u001b[43m:\u001b[49m\u001b[43m \u001b[49m\u001b[43murl\u001b[49m\u001b[43m}\u001b[49m\u001b[43m)\u001b[49m\n",
      "File \u001b[1;32m~\\anaconda3\\lib\\site-packages\\selenium\\webdriver\\remote\\webdriver.py:440\u001b[0m, in \u001b[0;36mWebDriver.execute\u001b[1;34m(self, driver_command, params)\u001b[0m\n\u001b[0;32m    438\u001b[0m response \u001b[38;5;241m=\u001b[39m \u001b[38;5;28mself\u001b[39m\u001b[38;5;241m.\u001b[39mcommand_executor\u001b[38;5;241m.\u001b[39mexecute(driver_command, params)\n\u001b[0;32m    439\u001b[0m \u001b[38;5;28;01mif\u001b[39;00m response:\n\u001b[1;32m--> 440\u001b[0m     \u001b[38;5;28;43mself\u001b[39;49m\u001b[38;5;241;43m.\u001b[39;49m\u001b[43merror_handler\u001b[49m\u001b[38;5;241;43m.\u001b[39;49m\u001b[43mcheck_response\u001b[49m\u001b[43m(\u001b[49m\u001b[43mresponse\u001b[49m\u001b[43m)\u001b[49m\n\u001b[0;32m    441\u001b[0m     response[\u001b[38;5;124m\"\u001b[39m\u001b[38;5;124mvalue\u001b[39m\u001b[38;5;124m\"\u001b[39m] \u001b[38;5;241m=\u001b[39m \u001b[38;5;28mself\u001b[39m\u001b[38;5;241m.\u001b[39m_unwrap_value(response\u001b[38;5;241m.\u001b[39mget(\u001b[38;5;124m\"\u001b[39m\u001b[38;5;124mvalue\u001b[39m\u001b[38;5;124m\"\u001b[39m, \u001b[38;5;28;01mNone\u001b[39;00m))\n\u001b[0;32m    442\u001b[0m     \u001b[38;5;28;01mreturn\u001b[39;00m response\n",
      "File \u001b[1;32m~\\anaconda3\\lib\\site-packages\\selenium\\webdriver\\remote\\errorhandler.py:245\u001b[0m, in \u001b[0;36mErrorHandler.check_response\u001b[1;34m(self, response)\u001b[0m\n\u001b[0;32m    243\u001b[0m         alert_text \u001b[38;5;241m=\u001b[39m value[\u001b[38;5;124m\"\u001b[39m\u001b[38;5;124malert\u001b[39m\u001b[38;5;124m\"\u001b[39m]\u001b[38;5;241m.\u001b[39mget(\u001b[38;5;124m\"\u001b[39m\u001b[38;5;124mtext\u001b[39m\u001b[38;5;124m\"\u001b[39m)\n\u001b[0;32m    244\u001b[0m     \u001b[38;5;28;01mraise\u001b[39;00m exception_class(message, screen, stacktrace, alert_text)  \u001b[38;5;66;03m# type: ignore[call-arg]  # mypy is not smart enough here\u001b[39;00m\n\u001b[1;32m--> 245\u001b[0m \u001b[38;5;28;01mraise\u001b[39;00m exception_class(message, screen, stacktrace)\n",
      "\u001b[1;31mInvalidArgumentException\u001b[0m: Message: invalid argument: 'url' must be a string\n  (Session info: MicrosoftEdge=112.0.1722.58)\nStacktrace:\nBacktrace:\n\tGetHandleVerifier [0x00007FF72F61DB12+60274]\n\tMicrosoft::Applications::Events::EventProperty::~EventProperty [0x00007FF72F5AE772+818882]\n\t(No symbol) [0x00007FF72F22DFAE]\n\t(No symbol) [0x00007FF72F2A9541]\n\t(No symbol) [0x00007FF72F28F56A]\n\t(No symbol) [0x00007FF72F262751]\n\t(No symbol) [0x00007FF72F2A891C]\n\t(No symbol) [0x00007FF72F28F343]\n\t(No symbol) [0x00007FF72F261796]\n\t(No symbol) [0x00007FF72F260975]\n\t(No symbol) [0x00007FF72F261F04]\n\tMicrosoft::Applications::Events::EventProperties::SetLevel [0x00007FF72F4B6BF7+1676711]\n\tMicrosoft::Applications::Events::EventProperties::SetLevel [0x00007FF72F35EEBD+268397]\n\tMicrosoft::Applications::Events::EventProperty::~EventProperty [0x00007FF72F4EF907+36951]\n\tMicrosoft::Applications::Events::EventProperty::~EventProperty [0x00007FF72F4E7A15+4453]\n\tMicrosoft::Applications::Events::ILogManager::DispatchEventBroadcast [0x00007FF72F7E7EB3+1319011]\n\tMicrosoft::Applications::Events::EventProperty::~EventProperty [0x00007FF72F5B682C+851836]\n\tMicrosoft::Applications::Events::EventProperty::~EventProperty [0x00007FF72F5B2894+835556]\n\tMicrosoft::Applications::Events::EventProperty::~EventProperty [0x00007FF72F5B29EC+835900]\n\tMicrosoft::Applications::Events::EventProperty::~EventProperty [0x00007FF72F5A85C1+793873]\n\tBaseThreadInitThunk [0x00007FF8B6037604+20]\n\tRtlUserThreadStart [0x00007FF8B7E426A1+33]\n"
     ]
    }
   ],
   "source": [
    "for url in dataset_names:\n",
    "    driver.get(url)\n",
    "    time.sleep(2)"
   ]
  },
  {
   "cell_type": "code",
   "execution_count": 314,
   "id": "96493c1b",
   "metadata": {},
   "outputs": [],
   "source": [
    "data_types=[]"
   ]
  },
  {
   "cell_type": "code",
   "execution_count": 327,
   "id": "ba286403",
   "metadata": {},
   "outputs": [],
   "source": [
    "url=driver.find_elements(By.XPATH,'//p[@class=\"normal\"]/td[2]/table[2]/tbody/tr[2]/td[2]/td')\n",
    "for i in url:\n",
    "    titles=i.text\n",
    "    data_types.append(titles)"
   ]
  },
  {
   "cell_type": "code",
   "execution_count": 328,
   "id": "451c1396",
   "metadata": {},
   "outputs": [
    {
     "data": {
      "text/plain": [
       "[]"
      ]
     },
     "execution_count": 328,
     "metadata": {},
     "output_type": "execute_result"
    }
   ],
   "source": [
    "data_types"
   ]
  },
  {
   "cell_type": "markdown",
   "id": "654658bf",
   "metadata": {},
   "source": [
    "# Q9"
   ]
  },
  {
   "cell_type": "code",
   "execution_count": 435,
   "id": "28153f9b",
   "metadata": {},
   "outputs": [],
   "source": [
    "driver = webdriver.Edge(r\"C:\\Users\\Gagan\\Downloads\\edgedriver_win64.zip\\edgedriver.exe\")"
   ]
  },
  {
   "cell_type": "code",
   "execution_count": 436,
   "id": "77086f72",
   "metadata": {},
   "outputs": [],
   "source": [
    "driver.get('https://www.naukri.com/hr-recruiters-consultants')"
   ]
  },
  {
   "cell_type": "code",
   "execution_count": 437,
   "id": "fe87c7b7",
   "metadata": {},
   "outputs": [],
   "source": [
    "designation=driver.find_element(By.XPATH,'/html/body/div[2]/div[2]/div[1]/div[1]/form/div[1]/div/div[1]/div[1]/div[2]/input')\n",
    "designation.send_keys('Data Science')"
   ]
  },
  {
   "cell_type": "code",
   "execution_count": 438,
   "id": "a141474f",
   "metadata": {},
   "outputs": [],
   "source": [
    "search=driver.find_element(By.XPATH,'/html/body/div[2]/div[2]/div[1]/div[1]/form/div[1]/button')\n",
    "search.click()"
   ]
  },
  {
   "cell_type": "code",
   "execution_count": 402,
   "id": "d68d0d7b",
   "metadata": {},
   "outputs": [],
   "source": [
    "product_url=[]"
   ]
  },
  {
   "cell_type": "code",
   "execution_count": 403,
   "id": "1a6c6313",
   "metadata": {},
   "outputs": [],
   "source": [
    "start=0\n",
    "end=2\n",
    "for page in range(start,end):\n",
    "    url=driver.find_elements(By.XPATH,'//a[@class=\"ellipsis\"]')\n",
    "    for i in url:\n",
    "        product_url.append(i.get_attribute('href'))\n",
    "    next_button=driver.find_elements(By.XPATH,'/html/body/div[3]/div/div[2]/div/div[3]/button')"
   ]
  },
  {
   "cell_type": "code",
   "execution_count": 404,
   "id": "7cab3c35",
   "metadata": {},
   "outputs": [
    {
     "data": {
      "text/plain": [
       "['https://www.naukri.com/recruiters/aakashharit-1986742?xid=168280449877959600&xp=1',\n",
       " 'https://www.naukri.com/data-science-network-recruiters?qsp=1',\n",
       " 'https://www.naukri.com/recruiters/shravankumargaddam-353487?xid=168280449877959600&xp=2',\n",
       " 'https://www.naukri.com/shore-infotech-india-pvt-dot-ltd-recruiters?qsp=1',\n",
       " 'https://www.naukri.com/recruiters/marsiantech?xid=168280449877959600&xp=3',\n",
       " 'https://www.naukri.com/marsian-technologies-llp-recruiters?qsp=1',\n",
       " 'https://www.naukri.com/recruiters/anikagrawal-3647208?xid=168280449877959600&xp=4',\n",
       " 'https://www.naukri.com/enerlytics-software-solutions-pvt-ltd-recruiters?qsp=1',\n",
       " 'https://www.naukri.com/recruiters/LXP-DATASCIENCE?xid=168280449877959600&xp=5',\n",
       " 'https://www.naukri.com/libraryxproject-recruiters?qsp=1',\n",
       " 'https://www.naukri.com/recruiters/abhishekyadav-3450244?xid=168280449877959600&xp=6',\n",
       " 'https://www.naukri.com/apidel-technologies-division-of-transpower-recruiters?qsp=1',\n",
       " 'https://www.naukri.com/recruiters/menakav-3213816?xid=168280449877959600&xp=7',\n",
       " 'https://www.naukri.com/ifmr-recruiters?qsp=1',\n",
       " 'https://www.naukri.com/recruiters/techvantage?xid=168280449877959600&xp=8',\n",
       " 'https://www.naukri.com/techvantage-systems-pvt-ltd-recruiters?qsp=1',\n",
       " 'https://www.naukri.com/recruiters/asiflucknowi-4331110?xid=168280449877959600&xp=9',\n",
       " 'https://www.naukri.com/weupskill--live-wire-india-recruiters?qsp=1',\n",
       " 'https://www.naukri.com/recruiters/instafinancials-humanresource?xid=168280449877959600&xp=10',\n",
       " 'https://www.naukri.com/cbl-data-science-private-limited-recruiters?qsp=1',\n",
       " 'https://www.naukri.com/recruiters/kalpana-2078894?xid=168280449877959600&xp=11',\n",
       " 'https://www.naukri.com/innominds-software-recruiters?qsp=1',\n",
       " 'https://www.naukri.com/recruiters/mubarak-2905498?xid=168280449877959600&xp=12',\n",
       " 'https://www.naukri.com/moneytap-recruiters?qsp=1',\n",
       " 'https://www.naukri.com/recruiters/quantmagnum?xid=168280449877959600&xp=13',\n",
       " 'https://www.naukri.com/quantmagnum-technologies-pvt-dot-ltd-dot-recruiters?qsp=1',\n",
       " 'https://www.naukri.com/recruiters/priyankaakiri-5010064?xid=168280449877959600&xp=14',\n",
       " 'https://www.naukri.com/infinitive-software-solutions-recruiters?qsp=1',\n",
       " 'https://www.naukri.com/recruiters/kapildevang-3169734?xid=168280449877959600&xp=15',\n",
       " 'https://www.naukri.com/bisp-solutions-recruiters?qsp=1',\n",
       " 'https://www.naukri.com/recruiters/maheshbabuchanna-1803238?xid=168280449877959600&xp=16',\n",
       " 'https://www.naukri.com/socialprachar-dot-com-recruiters?qsp=1',\n",
       " 'https://www.naukri.com/recruiters/vaishnavikudalkar-5205628?xid=168280449877959600&xp=17',\n",
       " 'https://www.naukri.com/codeachive-learning-recruiters?qsp=1',\n",
       " 'https://www.naukri.com/recruiters/sakshichhikara?xid=168280449877959600&xp=18',\n",
       " 'https://www.naukri.com/biz-infotecno-private-limited-recruiters?qsp=1',\n",
       " 'https://www.naukri.com/recruiters/ruchidhote?xid=168280449877959600&xp=19',\n",
       " 'https://www.naukri.com/bristlecone-india-ltd-recruiters?qsp=1',\n",
       " 'https://www.naukri.com/recruiters/manishayadav-4463916?xid=168280449877959600&xp=20',\n",
       " 'https://www.naukri.com/easi-tax-recruiters?qsp=1',\n",
       " 'https://www.naukri.com/recruiters/riyarajesh-4375878?xid=168280449877959600&xp=21',\n",
       " 'https://www.naukri.com/novelworx-digital-solutions-recruiters?qsp=1',\n",
       " 'https://www.naukri.com/recruiters/rashmibhattacharjee-3921774?xid=168280449877959600&xp=22',\n",
       " 'https://www.naukri.com/axestrack-software-solutions-private-limited-recruiters?qsp=1',\n",
       " 'https://www.naukri.com/recruiters/faizankareem-3685102?xid=168280449877959600&xp=23',\n",
       " 'https://www.naukri.com/firsttech-consaltants-pvt-dot-ltd-recruiters?qsp=1',\n",
       " 'https://www.naukri.com/recruiters/rithikadadwal-3517898?xid=168280449877959600&xp=24',\n",
       " 'https://www.naukri.com/affine-analytics-recruiters?qsp=1',\n",
       " 'https://www.naukri.com/recruiters/ankitshah-21129?xid=168280449877959600&xp=25',\n",
       " 'https://www.naukri.com/compumatrice-multimedia-pvt-ltd-recruiters?qsp=1',\n",
       " 'https://www.naukri.com/recruiters/shaunrao-3020604?xid=168280449877959600&xp=26',\n",
       " 'https://www.naukri.com/exela-technologies-recruiters?qsp=1',\n",
       " 'https://www.naukri.com/recruiters/deeparchisharma?xid=168280449877959600&xp=27',\n",
       " 'https://www.naukri.com/zigram-recruiters?qsp=1',\n",
       " 'https://www.naukri.com/recruiters/azaharshaikh-companyrecruiter?xid=168280449877959600&xp=28',\n",
       " 'https://www.naukri.com/neal-analytics-services-pvt-ltd-recruiters?qsp=1',\n",
       " 'https://www.naukri.com/recruiters/manas-3159036?xid=168280449877959600&xp=29',\n",
       " 'https://www.naukri.com/autumn-leaf-consulting-services-private-limited-recruiters?qsp=1',\n",
       " 'https://www.naukri.com/recruiters/kumar-3378892?xid=168280449877959600&xp=30',\n",
       " 'https://www.naukri.com/trainin-recruiters?qsp=1',\n",
       " 'https://www.naukri.com/recruiters/sunilvedula-3392046?xid=168280449877959600&xp=31',\n",
       " 'https://www.naukri.com/nanoprecise-sci-corp-recruiters?qsp=1',\n",
       " 'https://www.naukri.com/recruiters/rajatkumar-3295096?xid=168280449877959600&xp=32',\n",
       " 'https://www.naukri.com/r-dot-s-consultancy-amp-services-recruiters?qsp=1',\n",
       " 'https://www.naukri.com/recruiters/dhruvdevdubey?xid=168280449877959600&xp=33',\n",
       " 'https://www.naukri.com/netaps-foundation-recruiters?qsp=1',\n",
       " 'https://www.naukri.com/recruiters/avnishmishra-5310575?xid=168280449877959600&xp=34',\n",
       " 'https://www.naukri.com/rms-risk-management-solutions-recruiters?qsp=1',\n",
       " 'https://www.naukri.com/recruiters/jayanthn-3081850?xid=168280449877959600&xp=35',\n",
       " 'https://www.naukri.com/dollarbird-information-services-pvt-ltd-recruiters?qsp=1',\n",
       " 'https://www.naukri.com/recruiters/nikithapalaparthi-5172698?xid=168280449877959600&xp=36',\n",
       " 'https://www.naukri.com/nikitha-palaparthi-recruiters?qsp=1',\n",
       " 'https://www.naukri.com/recruiters/priyakhare-4894796?xid=168280449877959600&xp=37',\n",
       " 'https://www.naukri.com/independent-consultant-recruiters?qsp=1',\n",
       " 'https://www.naukri.com/recruiters/amitsharma-4238940?xid=168280449877959600&xp=38',\n",
       " 'https://www.naukri.com/asco-consulting-recruiters?qsp=1',\n",
       " 'https://www.naukri.com/recruiters/deepali002g?xid=168280449877959600&xp=39',\n",
       " 'https://www.naukri.com/ny-inst-recruiters?qsp=1',\n",
       " 'https://www.naukri.com/recruiters/shashikantchaudhary-4164854?xid=168280449877959600&xp=40',\n",
       " 'https://www.naukri.com/3d-india-staffing-research-amp-consulting-co-dot-india-recruiters?qsp=1',\n",
       " 'https://www.naukri.com/recruiters/brad-4068508?xid=168280449877959600&xp=41',\n",
       " 'https://www.naukri.com/o-dot-c-dot-tanner-recruiters?qsp=1',\n",
       " 'https://www.naukri.com/recruiters/rutujapawar?xid=168280449877959600&xp=42',\n",
       " 'https://www.naukri.com/demand-matrix-recruiters?qsp=1',\n",
       " 'https://www.naukri.com/recruiters/madhusudhansridhar-2705338?xid=168280449877959600&xp=43',\n",
       " 'https://www.naukri.com/madhusudhan-sridhar-recruiters?qsp=1',\n",
       " 'https://www.naukri.com/recruiters/ankitsinha-3398798?xid=168280449877959600&xp=44',\n",
       " 'https://www.naukri.com/suntech-global-recruiters?qsp=1',\n",
       " 'https://www.naukri.com/recruiters/gauravchouhan?xid=168280449877959600&xp=45',\n",
       " 'https://www.naukri.com/strategic-consulting-lab-recruiters?qsp=1',\n",
       " 'https://www.naukri.com/recruiters/impel?xid=168280449877959600&xp=46',\n",
       " 'https://www.naukri.com/impel-labs-pvt-dot-ltd-dot-recruiters?qsp=1',\n",
       " 'https://www.naukri.com/recruiters/ashwini-3434922?xid=168280449877959600&xp=47',\n",
       " 'https://www.naukri.com/mrp-advisers-recruiters?qsp=1',\n",
       " 'https://www.naukri.com/recruiters/balajikolli-2870676?xid=168280449877959600&xp=48',\n",
       " 'https://www.naukri.com/saras-solutions-india-pvt-ltd-recruiters?qsp=1',\n",
       " 'https://www.naukri.com/recruiters/rajaninagaraj-3387578?xid=168280449877959600&xp=49',\n",
       " 'https://www.naukri.com/wildjasmine-recruiters?qsp=1',\n",
       " 'https://www.naukri.com/recruiters/rohitkumar-3277680?xid=168280449877959600&xp=50',\n",
       " 'https://www.naukri.com/lnt-private-limited-recruiters?qsp=1',\n",
       " 'https://www.naukri.com/recruiters/aakashharit-1986742?xid=168280449877959600&xp=1',\n",
       " 'https://www.naukri.com/data-science-network-recruiters?qsp=1',\n",
       " 'https://www.naukri.com/recruiters/shravankumargaddam-353487?xid=168280449877959600&xp=2',\n",
       " 'https://www.naukri.com/shore-infotech-india-pvt-dot-ltd-recruiters?qsp=1',\n",
       " 'https://www.naukri.com/recruiters/marsiantech?xid=168280449877959600&xp=3',\n",
       " 'https://www.naukri.com/marsian-technologies-llp-recruiters?qsp=1',\n",
       " 'https://www.naukri.com/recruiters/anikagrawal-3647208?xid=168280449877959600&xp=4',\n",
       " 'https://www.naukri.com/enerlytics-software-solutions-pvt-ltd-recruiters?qsp=1',\n",
       " 'https://www.naukri.com/recruiters/LXP-DATASCIENCE?xid=168280449877959600&xp=5',\n",
       " 'https://www.naukri.com/libraryxproject-recruiters?qsp=1',\n",
       " 'https://www.naukri.com/recruiters/abhishekyadav-3450244?xid=168280449877959600&xp=6',\n",
       " 'https://www.naukri.com/apidel-technologies-division-of-transpower-recruiters?qsp=1',\n",
       " 'https://www.naukri.com/recruiters/menakav-3213816?xid=168280449877959600&xp=7',\n",
       " 'https://www.naukri.com/ifmr-recruiters?qsp=1',\n",
       " 'https://www.naukri.com/recruiters/techvantage?xid=168280449877959600&xp=8',\n",
       " 'https://www.naukri.com/techvantage-systems-pvt-ltd-recruiters?qsp=1',\n",
       " 'https://www.naukri.com/recruiters/asiflucknowi-4331110?xid=168280449877959600&xp=9',\n",
       " 'https://www.naukri.com/weupskill--live-wire-india-recruiters?qsp=1',\n",
       " 'https://www.naukri.com/recruiters/instafinancials-humanresource?xid=168280449877959600&xp=10',\n",
       " 'https://www.naukri.com/cbl-data-science-private-limited-recruiters?qsp=1',\n",
       " 'https://www.naukri.com/recruiters/kalpana-2078894?xid=168280449877959600&xp=11',\n",
       " 'https://www.naukri.com/innominds-software-recruiters?qsp=1',\n",
       " 'https://www.naukri.com/recruiters/mubarak-2905498?xid=168280449877959600&xp=12',\n",
       " 'https://www.naukri.com/moneytap-recruiters?qsp=1',\n",
       " 'https://www.naukri.com/recruiters/quantmagnum?xid=168280449877959600&xp=13',\n",
       " 'https://www.naukri.com/quantmagnum-technologies-pvt-dot-ltd-dot-recruiters?qsp=1',\n",
       " 'https://www.naukri.com/recruiters/priyankaakiri-5010064?xid=168280449877959600&xp=14',\n",
       " 'https://www.naukri.com/infinitive-software-solutions-recruiters?qsp=1',\n",
       " 'https://www.naukri.com/recruiters/kapildevang-3169734?xid=168280449877959600&xp=15',\n",
       " 'https://www.naukri.com/bisp-solutions-recruiters?qsp=1',\n",
       " 'https://www.naukri.com/recruiters/maheshbabuchanna-1803238?xid=168280449877959600&xp=16',\n",
       " 'https://www.naukri.com/socialprachar-dot-com-recruiters?qsp=1',\n",
       " 'https://www.naukri.com/recruiters/vaishnavikudalkar-5205628?xid=168280449877959600&xp=17',\n",
       " 'https://www.naukri.com/codeachive-learning-recruiters?qsp=1',\n",
       " 'https://www.naukri.com/recruiters/sakshichhikara?xid=168280449877959600&xp=18',\n",
       " 'https://www.naukri.com/biz-infotecno-private-limited-recruiters?qsp=1',\n",
       " 'https://www.naukri.com/recruiters/ruchidhote?xid=168280449877959600&xp=19',\n",
       " 'https://www.naukri.com/bristlecone-india-ltd-recruiters?qsp=1',\n",
       " 'https://www.naukri.com/recruiters/manishayadav-4463916?xid=168280449877959600&xp=20',\n",
       " 'https://www.naukri.com/easi-tax-recruiters?qsp=1',\n",
       " 'https://www.naukri.com/recruiters/riyarajesh-4375878?xid=168280449877959600&xp=21',\n",
       " 'https://www.naukri.com/novelworx-digital-solutions-recruiters?qsp=1',\n",
       " 'https://www.naukri.com/recruiters/rashmibhattacharjee-3921774?xid=168280449877959600&xp=22',\n",
       " 'https://www.naukri.com/axestrack-software-solutions-private-limited-recruiters?qsp=1',\n",
       " 'https://www.naukri.com/recruiters/faizankareem-3685102?xid=168280449877959600&xp=23',\n",
       " 'https://www.naukri.com/firsttech-consaltants-pvt-dot-ltd-recruiters?qsp=1',\n",
       " 'https://www.naukri.com/recruiters/rithikadadwal-3517898?xid=168280449877959600&xp=24',\n",
       " 'https://www.naukri.com/affine-analytics-recruiters?qsp=1',\n",
       " 'https://www.naukri.com/recruiters/ankitshah-21129?xid=168280449877959600&xp=25',\n",
       " 'https://www.naukri.com/compumatrice-multimedia-pvt-ltd-recruiters?qsp=1',\n",
       " 'https://www.naukri.com/recruiters/shaunrao-3020604?xid=168280449877959600&xp=26',\n",
       " 'https://www.naukri.com/exela-technologies-recruiters?qsp=1',\n",
       " 'https://www.naukri.com/recruiters/deeparchisharma?xid=168280449877959600&xp=27',\n",
       " 'https://www.naukri.com/zigram-recruiters?qsp=1',\n",
       " 'https://www.naukri.com/recruiters/azaharshaikh-companyrecruiter?xid=168280449877959600&xp=28',\n",
       " 'https://www.naukri.com/neal-analytics-services-pvt-ltd-recruiters?qsp=1',\n",
       " 'https://www.naukri.com/recruiters/manas-3159036?xid=168280449877959600&xp=29',\n",
       " 'https://www.naukri.com/autumn-leaf-consulting-services-private-limited-recruiters?qsp=1',\n",
       " 'https://www.naukri.com/recruiters/kumar-3378892?xid=168280449877959600&xp=30',\n",
       " 'https://www.naukri.com/trainin-recruiters?qsp=1',\n",
       " 'https://www.naukri.com/recruiters/sunilvedula-3392046?xid=168280449877959600&xp=31',\n",
       " 'https://www.naukri.com/nanoprecise-sci-corp-recruiters?qsp=1',\n",
       " 'https://www.naukri.com/recruiters/rajatkumar-3295096?xid=168280449877959600&xp=32',\n",
       " 'https://www.naukri.com/r-dot-s-consultancy-amp-services-recruiters?qsp=1',\n",
       " 'https://www.naukri.com/recruiters/dhruvdevdubey?xid=168280449877959600&xp=33',\n",
       " 'https://www.naukri.com/netaps-foundation-recruiters?qsp=1',\n",
       " 'https://www.naukri.com/recruiters/avnishmishra-5310575?xid=168280449877959600&xp=34',\n",
       " 'https://www.naukri.com/rms-risk-management-solutions-recruiters?qsp=1',\n",
       " 'https://www.naukri.com/recruiters/jayanthn-3081850?xid=168280449877959600&xp=35',\n",
       " 'https://www.naukri.com/dollarbird-information-services-pvt-ltd-recruiters?qsp=1',\n",
       " 'https://www.naukri.com/recruiters/nikithapalaparthi-5172698?xid=168280449877959600&xp=36',\n",
       " 'https://www.naukri.com/nikitha-palaparthi-recruiters?qsp=1',\n",
       " 'https://www.naukri.com/recruiters/priyakhare-4894796?xid=168280449877959600&xp=37',\n",
       " 'https://www.naukri.com/independent-consultant-recruiters?qsp=1',\n",
       " 'https://www.naukri.com/recruiters/amitsharma-4238940?xid=168280449877959600&xp=38',\n",
       " 'https://www.naukri.com/asco-consulting-recruiters?qsp=1',\n",
       " 'https://www.naukri.com/recruiters/deepali002g?xid=168280449877959600&xp=39',\n",
       " 'https://www.naukri.com/ny-inst-recruiters?qsp=1',\n",
       " 'https://www.naukri.com/recruiters/shashikantchaudhary-4164854?xid=168280449877959600&xp=40',\n",
       " 'https://www.naukri.com/3d-india-staffing-research-amp-consulting-co-dot-india-recruiters?qsp=1',\n",
       " 'https://www.naukri.com/recruiters/brad-4068508?xid=168280449877959600&xp=41',\n",
       " 'https://www.naukri.com/o-dot-c-dot-tanner-recruiters?qsp=1',\n",
       " 'https://www.naukri.com/recruiters/rutujapawar?xid=168280449877959600&xp=42',\n",
       " 'https://www.naukri.com/demand-matrix-recruiters?qsp=1',\n",
       " 'https://www.naukri.com/recruiters/madhusudhansridhar-2705338?xid=168280449877959600&xp=43',\n",
       " 'https://www.naukri.com/madhusudhan-sridhar-recruiters?qsp=1',\n",
       " 'https://www.naukri.com/recruiters/ankitsinha-3398798?xid=168280449877959600&xp=44',\n",
       " 'https://www.naukri.com/suntech-global-recruiters?qsp=1',\n",
       " 'https://www.naukri.com/recruiters/gauravchouhan?xid=168280449877959600&xp=45',\n",
       " 'https://www.naukri.com/strategic-consulting-lab-recruiters?qsp=1',\n",
       " 'https://www.naukri.com/recruiters/impel?xid=168280449877959600&xp=46',\n",
       " 'https://www.naukri.com/impel-labs-pvt-dot-ltd-dot-recruiters?qsp=1',\n",
       " 'https://www.naukri.com/recruiters/ashwini-3434922?xid=168280449877959600&xp=47',\n",
       " 'https://www.naukri.com/mrp-advisers-recruiters?qsp=1',\n",
       " 'https://www.naukri.com/recruiters/balajikolli-2870676?xid=168280449877959600&xp=48',\n",
       " 'https://www.naukri.com/saras-solutions-india-pvt-ltd-recruiters?qsp=1',\n",
       " 'https://www.naukri.com/recruiters/rajaninagaraj-3387578?xid=168280449877959600&xp=49',\n",
       " 'https://www.naukri.com/wildjasmine-recruiters?qsp=1',\n",
       " 'https://www.naukri.com/recruiters/rohitkumar-3277680?xid=168280449877959600&xp=50',\n",
       " 'https://www.naukri.com/lnt-private-limited-recruiters?qsp=1']"
      ]
     },
     "execution_count": 404,
     "metadata": {},
     "output_type": "execute_result"
    }
   ],
   "source": [
    "product_url"
   ]
  },
  {
   "cell_type": "code",
   "execution_count": 425,
   "id": "06c14d3c",
   "metadata": {},
   "outputs": [],
   "source": [
    "names=[]"
   ]
  },
  {
   "cell_type": "code",
   "execution_count": 426,
   "id": "97965f78",
   "metadata": {},
   "outputs": [
    {
     "ename": "NoSuchWindowException",
     "evalue": "Message: no such window: target window already closed\nfrom unknown error: web view not found\n  (Session info: MicrosoftEdge=112.0.1722.58)\nStacktrace:\nBacktrace:\n\tGetHandleVerifier [0x00007FF72F61DB12+60274]\n\tMicrosoft::Applications::Events::EventProperty::~EventProperty [0x00007FF72F5AE772+818882]\n\t(No symbol) [0x00007FF72F22DFAE]\n\t(No symbol) [0x00007FF72F207B3B]\n\t(No symbol) [0x00007FF72F29341F]\n\t(No symbol) [0x00007FF72F2A820F]\n\t(No symbol) [0x00007FF72F28F343]\n\t(No symbol) [0x00007FF72F261796]\n\t(No symbol) [0x00007FF72F260975]\n\t(No symbol) [0x00007FF72F261F04]\n\tMicrosoft::Applications::Events::EventProperties::SetLevel [0x00007FF72F4B6BF7+1676711]\n\tMicrosoft::Applications::Events::EventProperties::SetLevel [0x00007FF72F35EEBD+268397]\n\tMicrosoft::Applications::Events::EventProperty::~EventProperty [0x00007FF72F4EF907+36951]\n\tMicrosoft::Applications::Events::EventProperty::~EventProperty [0x00007FF72F4E7A15+4453]\n\tMicrosoft::Applications::Events::ILogManager::DispatchEventBroadcast [0x00007FF72F7E7EB3+1319011]\n\tMicrosoft::Applications::Events::EventProperty::~EventProperty [0x00007FF72F5B682C+851836]\n\tMicrosoft::Applications::Events::EventProperty::~EventProperty [0x00007FF72F5B2894+835556]\n\tMicrosoft::Applications::Events::EventProperty::~EventProperty [0x00007FF72F5B29EC+835900]\n\tMicrosoft::Applications::Events::EventProperty::~EventProperty [0x00007FF72F5A85C1+793873]\n\tBaseThreadInitThunk [0x00007FF8B6037604+20]\n\tRtlUserThreadStart [0x00007FF8B7E426A1+33]\n",
     "output_type": "error",
     "traceback": [
      "\u001b[1;31m---------------------------------------------------------------------------\u001b[0m",
      "\u001b[1;31mNoSuchWindowException\u001b[0m                     Traceback (most recent call last)",
      "Input \u001b[1;32mIn [426]\u001b[0m, in \u001b[0;36m<cell line: 1>\u001b[1;34m()\u001b[0m\n\u001b[0;32m      1\u001b[0m \u001b[38;5;28;01mfor\u001b[39;00m i \u001b[38;5;129;01min\u001b[39;00m product_url:\n\u001b[1;32m----> 2\u001b[0m     \u001b[43mdriver\u001b[49m\u001b[38;5;241;43m.\u001b[39;49m\u001b[43mget\u001b[49m\u001b[43m(\u001b[49m\u001b[43mi\u001b[49m\u001b[43m)\u001b[49m\n\u001b[0;32m      3\u001b[0m     time\u001b[38;5;241m.\u001b[39msleep(\u001b[38;5;241m2\u001b[39m)\n\u001b[0;32m      5\u001b[0m     \u001b[38;5;28;01mtry\u001b[39;00m:\n",
      "File \u001b[1;32m~\\anaconda3\\lib\\site-packages\\selenium\\webdriver\\remote\\webdriver.py:449\u001b[0m, in \u001b[0;36mWebDriver.get\u001b[1;34m(self, url)\u001b[0m\n\u001b[0;32m    447\u001b[0m \u001b[38;5;28;01mdef\u001b[39;00m \u001b[38;5;21mget\u001b[39m(\u001b[38;5;28mself\u001b[39m, url: \u001b[38;5;28mstr\u001b[39m) \u001b[38;5;241m-\u001b[39m\u001b[38;5;241m>\u001b[39m \u001b[38;5;28;01mNone\u001b[39;00m:\n\u001b[0;32m    448\u001b[0m     \u001b[38;5;124;03m\"\"\"Loads a web page in the current browser session.\"\"\"\u001b[39;00m\n\u001b[1;32m--> 449\u001b[0m     \u001b[38;5;28;43mself\u001b[39;49m\u001b[38;5;241;43m.\u001b[39;49m\u001b[43mexecute\u001b[49m\u001b[43m(\u001b[49m\u001b[43mCommand\u001b[49m\u001b[38;5;241;43m.\u001b[39;49m\u001b[43mGET\u001b[49m\u001b[43m,\u001b[49m\u001b[43m \u001b[49m\u001b[43m{\u001b[49m\u001b[38;5;124;43m\"\u001b[39;49m\u001b[38;5;124;43murl\u001b[39;49m\u001b[38;5;124;43m\"\u001b[39;49m\u001b[43m:\u001b[49m\u001b[43m \u001b[49m\u001b[43murl\u001b[49m\u001b[43m}\u001b[49m\u001b[43m)\u001b[49m\n",
      "File \u001b[1;32m~\\anaconda3\\lib\\site-packages\\selenium\\webdriver\\remote\\webdriver.py:440\u001b[0m, in \u001b[0;36mWebDriver.execute\u001b[1;34m(self, driver_command, params)\u001b[0m\n\u001b[0;32m    438\u001b[0m response \u001b[38;5;241m=\u001b[39m \u001b[38;5;28mself\u001b[39m\u001b[38;5;241m.\u001b[39mcommand_executor\u001b[38;5;241m.\u001b[39mexecute(driver_command, params)\n\u001b[0;32m    439\u001b[0m \u001b[38;5;28;01mif\u001b[39;00m response:\n\u001b[1;32m--> 440\u001b[0m     \u001b[38;5;28;43mself\u001b[39;49m\u001b[38;5;241;43m.\u001b[39;49m\u001b[43merror_handler\u001b[49m\u001b[38;5;241;43m.\u001b[39;49m\u001b[43mcheck_response\u001b[49m\u001b[43m(\u001b[49m\u001b[43mresponse\u001b[49m\u001b[43m)\u001b[49m\n\u001b[0;32m    441\u001b[0m     response[\u001b[38;5;124m\"\u001b[39m\u001b[38;5;124mvalue\u001b[39m\u001b[38;5;124m\"\u001b[39m] \u001b[38;5;241m=\u001b[39m \u001b[38;5;28mself\u001b[39m\u001b[38;5;241m.\u001b[39m_unwrap_value(response\u001b[38;5;241m.\u001b[39mget(\u001b[38;5;124m\"\u001b[39m\u001b[38;5;124mvalue\u001b[39m\u001b[38;5;124m\"\u001b[39m, \u001b[38;5;28;01mNone\u001b[39;00m))\n\u001b[0;32m    442\u001b[0m     \u001b[38;5;28;01mreturn\u001b[39;00m response\n",
      "File \u001b[1;32m~\\anaconda3\\lib\\site-packages\\selenium\\webdriver\\remote\\errorhandler.py:245\u001b[0m, in \u001b[0;36mErrorHandler.check_response\u001b[1;34m(self, response)\u001b[0m\n\u001b[0;32m    243\u001b[0m         alert_text \u001b[38;5;241m=\u001b[39m value[\u001b[38;5;124m\"\u001b[39m\u001b[38;5;124malert\u001b[39m\u001b[38;5;124m\"\u001b[39m]\u001b[38;5;241m.\u001b[39mget(\u001b[38;5;124m\"\u001b[39m\u001b[38;5;124mtext\u001b[39m\u001b[38;5;124m\"\u001b[39m)\n\u001b[0;32m    244\u001b[0m     \u001b[38;5;28;01mraise\u001b[39;00m exception_class(message, screen, stacktrace, alert_text)  \u001b[38;5;66;03m# type: ignore[call-arg]  # mypy is not smart enough here\u001b[39;00m\n\u001b[1;32m--> 245\u001b[0m \u001b[38;5;28;01mraise\u001b[39;00m exception_class(message, screen, stacktrace)\n",
      "\u001b[1;31mNoSuchWindowException\u001b[0m: Message: no such window: target window already closed\nfrom unknown error: web view not found\n  (Session info: MicrosoftEdge=112.0.1722.58)\nStacktrace:\nBacktrace:\n\tGetHandleVerifier [0x00007FF72F61DB12+60274]\n\tMicrosoft::Applications::Events::EventProperty::~EventProperty [0x00007FF72F5AE772+818882]\n\t(No symbol) [0x00007FF72F22DFAE]\n\t(No symbol) [0x00007FF72F207B3B]\n\t(No symbol) [0x00007FF72F29341F]\n\t(No symbol) [0x00007FF72F2A820F]\n\t(No symbol) [0x00007FF72F28F343]\n\t(No symbol) [0x00007FF72F261796]\n\t(No symbol) [0x00007FF72F260975]\n\t(No symbol) [0x00007FF72F261F04]\n\tMicrosoft::Applications::Events::EventProperties::SetLevel [0x00007FF72F4B6BF7+1676711]\n\tMicrosoft::Applications::Events::EventProperties::SetLevel [0x00007FF72F35EEBD+268397]\n\tMicrosoft::Applications::Events::EventProperty::~EventProperty [0x00007FF72F4EF907+36951]\n\tMicrosoft::Applications::Events::EventProperty::~EventProperty [0x00007FF72F4E7A15+4453]\n\tMicrosoft::Applications::Events::ILogManager::DispatchEventBroadcast [0x00007FF72F7E7EB3+1319011]\n\tMicrosoft::Applications::Events::EventProperty::~EventProperty [0x00007FF72F5B682C+851836]\n\tMicrosoft::Applications::Events::EventProperty::~EventProperty [0x00007FF72F5B2894+835556]\n\tMicrosoft::Applications::Events::EventProperty::~EventProperty [0x00007FF72F5B29EC+835900]\n\tMicrosoft::Applications::Events::EventProperty::~EventProperty [0x00007FF72F5A85C1+793873]\n\tBaseThreadInitThunk [0x00007FF8B6037604+20]\n\tRtlUserThreadStart [0x00007FF8B7E426A1+33]\n"
     ]
    }
   ],
   "source": [
    "for i in product_url:\n",
    "    driver.get(i)\n",
    "    time.sleep(2)\n",
    "    \n",
    "    try:\n",
    "        first=driver.find_element(By.XPATH,'/html/body/div[3]/div/div[2]/div/div[2]/div[1]/div[1]/div[1]/div[1]/p/a[1]/span')\n",
    "        names.append(first.text)\n",
    "    except NoSuchElementException:\n",
    "        names.append('not present')"
   ]
  },
  {
   "cell_type": "code",
   "execution_count": 407,
   "id": "8b49c4a8",
   "metadata": {},
   "outputs": [
    {
     "data": {
      "text/plain": [
       "['not present',\n",
       " 'Aakash Harit',\n",
       " 'not present',\n",
       " 'Geetha',\n",
       " 'not present',\n",
       " 'MARSIAN Technologies LLP',\n",
       " 'not present',\n",
       " 'Anik Agrawal',\n",
       " 'not present',\n",
       " 'subhas patel',\n",
       " 'not present',\n",
       " 'Abhishek - Only Analytics Hiring - India and',\n",
       " 'not present',\n",
       " 'Divya Dharmaraj',\n",
       " 'not present',\n",
       " 'Balu Ramesh',\n",
       " 'not present',\n",
       " 'Asif Lucknowi',\n",
       " 'not present',\n",
       " 'InstaFinancials',\n",
       " 'not present',\n",
       " 'Kalpana Dumpala',\n",
       " 'not present',\n",
       " 'Mubarak',\n",
       " 'not present',\n",
       " 'Kushal Rastogi',\n",
       " 'not present',\n",
       " 'Priyanka Akiri',\n",
       " 'not present',\n",
       " 'Kapil Devang',\n",
       " 'not present',\n",
       " 'Mahesh Babu Channa',\n",
       " 'not present',\n",
       " 'Vaishnavi Kudalkar',\n",
       " 'not present',\n",
       " 'Sakshi Chhikara',\n",
       " 'not present',\n",
       " 'Ruchi Dhote',\n",
       " 'not present',\n",
       " 'Manisha Yadav',\n",
       " 'not present',\n",
       " 'Venkatesh Pai',\n",
       " 'not present',\n",
       " 'Nikita panchal',\n",
       " 'not present',\n",
       " 'Faizan Kareem',\n",
       " 'not present',\n",
       " 'Rithika dadwal',\n",
       " 'not present',\n",
       " 'Sandhya Khandagale',\n",
       " 'not present',\n",
       " 'Arvind Arthur',\n",
       " 'not present',\n",
       " 'Deeparchi Sharma',\n",
       " 'not present',\n",
       " 'Azahar Shaikh',\n",
       " 'not present',\n",
       " 'Manas',\n",
       " 'not present',\n",
       " 'kumar',\n",
       " 'not present',\n",
       " 'Sunil Vedula',\n",
       " 'not present',\n",
       " 'not present',\n",
       " 'not present',\n",
       " 'Dhruv Dev Dubey',\n",
       " 'not present',\n",
       " 'Avnish Mishra',\n",
       " 'not present',\n",
       " 'Jayanth N',\n",
       " 'not present',\n",
       " 'Avodha',\n",
       " 'not present',\n",
       " 'Sharath',\n",
       " 'not present',\n",
       " 'Amit Sharma',\n",
       " 'not present',\n",
       " 'Kanan',\n",
       " 'not present',\n",
       " 'not present',\n",
       " 'not present',\n",
       " 'Brad',\n",
       " 'not present',\n",
       " 'Rutuja Pawar',\n",
       " 'not present',\n",
       " 'Madhusudhan Sridhar',\n",
       " 'not present',\n",
       " 'Tanya Kashyap',\n",
       " 'not present',\n",
       " 'Gaurav Chouhan',\n",
       " 'not present',\n",
       " 'Rashi Kacker',\n",
       " 'not present',\n",
       " 'Ashwini',\n",
       " 'not present',\n",
       " 'Balaji Kolli',\n",
       " 'not present',\n",
       " 'Rajani Nagaraj',\n",
       " 'not present',\n",
       " 'ROHIT Kumar',\n",
       " 'not present',\n",
       " 'Aakash Harit',\n",
       " 'not present',\n",
       " 'Geetha',\n",
       " 'not present',\n",
       " 'MARSIAN Technologies LLP',\n",
       " 'not present',\n",
       " 'Anik Agrawal',\n",
       " 'not present',\n",
       " 'subhas patel',\n",
       " 'not present',\n",
       " 'Abhishek - Only Analytics Hiring - India and',\n",
       " 'not present',\n",
       " 'Divya Dharmaraj',\n",
       " 'not present',\n",
       " 'Balu Ramesh',\n",
       " 'not present',\n",
       " 'Asif Lucknowi',\n",
       " 'not present',\n",
       " 'InstaFinancials',\n",
       " 'not present',\n",
       " 'Kalpana Dumpala',\n",
       " 'not present',\n",
       " 'Mubarak',\n",
       " 'not present',\n",
       " 'Kushal Rastogi',\n",
       " 'not present',\n",
       " 'Priyanka Akiri',\n",
       " 'not present',\n",
       " 'Kapil Devang',\n",
       " 'not present',\n",
       " 'Mahesh Babu Channa',\n",
       " 'not present',\n",
       " 'Vaishnavi Kudalkar',\n",
       " 'not present',\n",
       " 'Sakshi Chhikara',\n",
       " 'not present',\n",
       " 'Ruchi Dhote',\n",
       " 'not present',\n",
       " 'Manisha Yadav',\n",
       " 'not present',\n",
       " 'Venkatesh Pai',\n",
       " 'not present',\n",
       " 'Nikita panchal',\n",
       " 'not present',\n",
       " 'Faizan Kareem',\n",
       " 'not present',\n",
       " 'Rithika dadwal',\n",
       " 'not present',\n",
       " 'Sandhya Khandagale',\n",
       " 'not present',\n",
       " 'Arvind Arthur',\n",
       " 'not present',\n",
       " 'Deeparchi Sharma',\n",
       " 'not present',\n",
       " 'Azahar Shaikh',\n",
       " 'not present',\n",
       " 'Manas',\n",
       " 'not present',\n",
       " 'kumar',\n",
       " 'not present',\n",
       " 'Sunil Vedula',\n",
       " 'not present']"
      ]
     },
     "execution_count": 407,
     "metadata": {},
     "output_type": "execute_result"
    }
   ],
   "source": [
    "name"
   ]
  },
  {
   "cell_type": "code",
   "execution_count": 415,
   "id": "168b6be4",
   "metadata": {},
   "outputs": [],
   "source": [
    "designation=[]"
   ]
  },
  {
   "cell_type": "code",
   "execution_count": 416,
   "id": "a67ea3fc",
   "metadata": {},
   "outputs": [],
   "source": [
    "for i in product_url:\n",
    "    driver.get(i)\n",
    "    time.sleep(2)\n",
    "    \n",
    "    try:\n",
    "        second=driver.find_element(By.XPATH,'/html/body/div[2]/div[1]/div[1]/div[2]/div[3]')\n",
    "        designation.append(second.text)\n",
    "    except NoSuchElementException:\n",
    "        designation.append('not present')"
   ]
  },
  {
   "cell_type": "code",
   "execution_count": 418,
   "id": "a055f465",
   "metadata": {},
   "outputs": [
    {
     "data": {
      "text/plain": [
       "['HR Manager',\n",
       " 'not present',\n",
       " 'Company Recruiter',\n",
       " 'not present',\n",
       " 'Company HR',\n",
       " 'not present',\n",
       " 'Company Recruiter',\n",
       " 'not present',\n",
       " 'Founder & CEO',\n",
       " 'not present',\n",
       " 'Recruitment - Lead Consultant',\n",
       " 'not present',\n",
       " 'Programme Manager',\n",
       " 'not present',\n",
       " 'HR Administrator',\n",
       " 'not present',\n",
       " 'Director',\n",
       " 'not present',\n",
       " 'Human Resource',\n",
       " 'not present',\n",
       " 'Executive Hiring',\n",
       " 'not present',\n",
       " 'Company HR',\n",
       " 'not present',\n",
       " 'Company HR',\n",
       " 'not present',\n",
       " 'HR Manager',\n",
       " 'not present',\n",
       " 'HR Manager',\n",
       " 'not present',\n",
       " 'HR Team Lead',\n",
       " 'not present',\n",
       " 'HR Executive',\n",
       " 'not present',\n",
       " 'Assistant Manager HR',\n",
       " 'not present',\n",
       " 'Senior Executive Talent Acquisition',\n",
       " 'not present',\n",
       " 'HR Executive',\n",
       " 'not present',\n",
       " 'Manager Talent Acquisition',\n",
       " 'not present',\n",
       " 'HR Head',\n",
       " 'not present',\n",
       " 'HR MANAGER',\n",
       " 'not present',\n",
       " 'HR Recruiter',\n",
       " 'not present',\n",
       " 'HR Recruiter',\n",
       " 'not present',\n",
       " 'Manager - Human Resources',\n",
       " 'not present',\n",
       " 'Company Recruiter',\n",
       " 'not present',\n",
       " 'Company Recruiter',\n",
       " 'not present',\n",
       " 'Lead Talent acquisition',\n",
       " 'not present',\n",
       " 'Proprietor',\n",
       " 'not present',\n",
       " 'CEO',\n",
       " 'not present',\n",
       " 'Founder & CEO',\n",
       " 'not present',\n",
       " 'Company Recruitment Head',\n",
       " 'not present',\n",
       " 'Senior Technical & Corporate Recruiter',\n",
       " 'not present',\n",
       " 'Project Manager',\n",
       " 'not present',\n",
       " 'Business Development Associate',\n",
       " 'not present',\n",
       " 'Senior Manager',\n",
       " 'not present',\n",
       " 'Consultant',\n",
       " 'not present',\n",
       " 'senior technology instructor',\n",
       " 'not present',\n",
       " 'HR Recruiter/HR Excutive',\n",
       " 'not present',\n",
       " 'Manager, Technical Recruiting',\n",
       " 'not present',\n",
       " 'Technical Recruiter',\n",
       " 'not present',\n",
       " 'Erp Implementer',\n",
       " 'not present',\n",
       " 'Head-Analytics',\n",
       " 'not present',\n",
       " 'Chief Technical Officer',\n",
       " 'not present',\n",
       " 'Sr Product Manager',\n",
       " 'not present',\n",
       " 'Director, Global Delivery',\n",
       " 'not present',\n",
       " 'Co-Founder',\n",
       " 'not present',\n",
       " 'HR Manager',\n",
       " 'not present',\n",
       " 'Architect',\n",
       " 'not present',\n",
       " 'HR Manager',\n",
       " 'not present',\n",
       " 'Company Recruiter',\n",
       " 'not present',\n",
       " 'Company HR',\n",
       " 'not present',\n",
       " 'Company Recruiter',\n",
       " 'not present',\n",
       " 'Founder & CEO',\n",
       " 'not present',\n",
       " 'Recruitment - Lead Consultant',\n",
       " 'not present',\n",
       " 'Programme Manager',\n",
       " 'not present',\n",
       " 'HR Administrator',\n",
       " 'not present',\n",
       " 'Director',\n",
       " 'not present',\n",
       " 'Human Resource',\n",
       " 'not present',\n",
       " 'Executive Hiring',\n",
       " 'not present',\n",
       " 'Company HR',\n",
       " 'not present',\n",
       " 'Company HR',\n",
       " 'not present',\n",
       " 'HR Manager',\n",
       " 'not present',\n",
       " 'HR Manager',\n",
       " 'not present',\n",
       " 'HR Team Lead',\n",
       " 'not present',\n",
       " 'HR Executive',\n",
       " 'not present',\n",
       " 'Assistant Manager HR',\n",
       " 'not present',\n",
       " 'Senior Executive Talent Acquisition',\n",
       " 'not present',\n",
       " 'HR Executive',\n",
       " 'not present',\n",
       " 'Manager Talent Acquisition',\n",
       " 'not present',\n",
       " 'HR Head',\n",
       " 'not present',\n",
       " 'HR MANAGER',\n",
       " 'not present',\n",
       " 'HR Recruiter',\n",
       " 'not present',\n",
       " 'HR Recruiter',\n",
       " 'not present',\n",
       " 'Manager - Human Resources',\n",
       " 'not present',\n",
       " 'Company Recruiter',\n",
       " 'not present',\n",
       " 'Company Recruiter',\n",
       " 'not present',\n",
       " 'Lead Talent acquisition',\n",
       " 'not present',\n",
       " 'Proprietor',\n",
       " 'not present',\n",
       " 'CEO',\n",
       " 'not present',\n",
       " 'Founder & CEO',\n",
       " 'not present',\n",
       " 'Company Recruitment Head',\n",
       " 'not present',\n",
       " 'Senior Technical & Corporate Recruiter',\n",
       " 'not present',\n",
       " 'Project Manager',\n",
       " 'not present',\n",
       " 'Business Development Associate',\n",
       " 'not present',\n",
       " 'Senior Manager',\n",
       " 'not present',\n",
       " 'Consultant',\n",
       " 'not present',\n",
       " 'senior technology instructor',\n",
       " 'not present',\n",
       " 'HR Recruiter/HR Excutive',\n",
       " 'not present',\n",
       " 'Manager, Technical Recruiting',\n",
       " 'not present',\n",
       " 'Technical Recruiter',\n",
       " 'not present',\n",
       " 'Erp Implementer',\n",
       " 'not present',\n",
       " 'Head-Analytics',\n",
       " 'not present',\n",
       " 'Chief Technical Officer',\n",
       " 'not present',\n",
       " 'Sr Product Manager',\n",
       " 'not present',\n",
       " 'Director, Global Delivery',\n",
       " 'not present',\n",
       " 'Co-Founder',\n",
       " 'not present',\n",
       " 'HR Manager',\n",
       " 'not present',\n",
       " 'Architect',\n",
       " 'not present']"
      ]
     },
     "execution_count": 418,
     "metadata": {},
     "output_type": "execute_result"
    }
   ],
   "source": [
    "designation"
   ]
  },
  {
   "cell_type": "code",
   "execution_count": 423,
   "id": "51edee2e",
   "metadata": {},
   "outputs": [],
   "source": [
    "company=[]"
   ]
  },
  {
   "cell_type": "code",
   "execution_count": 424,
   "id": "4b71f674",
   "metadata": {},
   "outputs": [],
   "source": [
    "for i in product_url:\n",
    "    driver.get(i)\n",
    "    time.sleep(2)\n",
    "    try:\n",
    "        third=driver.find_element(By.XPATH,'/html/body/div[3]/div/div[2]/div/div[2]/div[1]/div[1]/div[1]/div[1]/p/a[2]')\n",
    "        company.append(third.text)\n",
    "    except NoSuchElementException:\n",
    "        company.append('not present')"
   ]
  },
  {
   "cell_type": "code",
   "execution_count": 431,
   "id": "ab1f2e9f",
   "metadata": {},
   "outputs": [],
   "source": [
    "skills=[]"
   ]
  },
  {
   "cell_type": "code",
   "execution_count": 433,
   "id": "b722210a",
   "metadata": {},
   "outputs": [],
   "source": [
    "for i in product_url:\n",
    "    driver.get(i)\n",
    "    time.sleep(2)\n",
    "    try:\n",
    "        fourth=driver.find_element(By.XPATH,'/html/body/div[2]/div[1]/div[2]/div[2]/div[1]/p[1]')\n",
    "        skills.append(fourth.text)\n",
    "    except NoSuchElementException:\n",
    "        skills.append('not present')"
   ]
  },
  {
   "cell_type": "code",
   "execution_count": 434,
   "id": "6ec67867",
   "metadata": {},
   "outputs": [],
   "source": [
    "location=[]"
   ]
  },
  {
   "cell_type": "code",
   "execution_count": 439,
   "id": "ee95eaa8",
   "metadata": {},
   "outputs": [],
   "source": [
    "for i in product_url:\n",
    "    driver.get(i)\n",
    "    time.sleep(2)\n",
    "    try:\n",
    "        fifth=driver.find_element(By.XPATH,'/html/body/div[3]/div/div[2]/div/div[2]/div[1]/div[1]/div[1]/div[1]/p/span[2]/small')\n",
    "        location.append(fifth.text)\n",
    "    except NoSuchElementException:\n",
    "        location.append('not present')"
   ]
  }
 ],
 "metadata": {
  "kernelspec": {
   "display_name": "Python 3 (ipykernel)",
   "language": "python",
   "name": "python3"
  },
  "language_info": {
   "codemirror_mode": {
    "name": "ipython",
    "version": 3
   },
   "file_extension": ".py",
   "mimetype": "text/x-python",
   "name": "python",
   "nbconvert_exporter": "python",
   "pygments_lexer": "ipython3",
   "version": "3.9.12"
  }
 },
 "nbformat": 4,
 "nbformat_minor": 5
}
