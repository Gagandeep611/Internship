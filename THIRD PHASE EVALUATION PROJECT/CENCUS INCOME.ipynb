{
 "cells": [
  {
   "cell_type": "code",
   "execution_count": 1,
   "id": "b55fd223",
   "metadata": {},
   "outputs": [],
   "source": [
    "import pandas as pd\n",
    "import numpy as np\n",
    "import matplotlib.pyplot as plt\n",
    "import seaborn as sns\n",
    "import warnings\n",
    "warnings.filterwarnings('ignore')"
   ]
  },
  {
   "cell_type": "code",
   "execution_count": 3,
   "id": "c54937b3",
   "metadata": {
    "scrolled": true
   },
   "outputs": [
    {
     "data": {
      "text/html": [
       "<div>\n",
       "<style scoped>\n",
       "    .dataframe tbody tr th:only-of-type {\n",
       "        vertical-align: middle;\n",
       "    }\n",
       "\n",
       "    .dataframe tbody tr th {\n",
       "        vertical-align: top;\n",
       "    }\n",
       "\n",
       "    .dataframe thead th {\n",
       "        text-align: right;\n",
       "    }\n",
       "</style>\n",
       "<table border=\"1\" class=\"dataframe\">\n",
       "  <thead>\n",
       "    <tr style=\"text-align: right;\">\n",
       "      <th></th>\n",
       "      <th>Age</th>\n",
       "      <th>Workclass</th>\n",
       "      <th>Fnlwgt</th>\n",
       "      <th>Education</th>\n",
       "      <th>Education_num</th>\n",
       "      <th>Marital_status</th>\n",
       "      <th>Occupation</th>\n",
       "      <th>Relationship</th>\n",
       "      <th>Race</th>\n",
       "      <th>Sex</th>\n",
       "      <th>Capital_gain</th>\n",
       "      <th>Capital_loss</th>\n",
       "      <th>Hours_per_week</th>\n",
       "      <th>Native_country</th>\n",
       "      <th>Income</th>\n",
       "    </tr>\n",
       "  </thead>\n",
       "  <tbody>\n",
       "    <tr>\n",
       "      <th>0</th>\n",
       "      <td>50</td>\n",
       "      <td>Self-emp-not-inc</td>\n",
       "      <td>83311</td>\n",
       "      <td>Bachelors</td>\n",
       "      <td>13</td>\n",
       "      <td>Married-civ-spouse</td>\n",
       "      <td>Exec-managerial</td>\n",
       "      <td>Husband</td>\n",
       "      <td>White</td>\n",
       "      <td>Male</td>\n",
       "      <td>0</td>\n",
       "      <td>0</td>\n",
       "      <td>13</td>\n",
       "      <td>United-States</td>\n",
       "      <td>&lt;=50K</td>\n",
       "    </tr>\n",
       "    <tr>\n",
       "      <th>1</th>\n",
       "      <td>38</td>\n",
       "      <td>Private</td>\n",
       "      <td>215646</td>\n",
       "      <td>HS-grad</td>\n",
       "      <td>9</td>\n",
       "      <td>Divorced</td>\n",
       "      <td>Handlers-cleaners</td>\n",
       "      <td>Not-in-family</td>\n",
       "      <td>White</td>\n",
       "      <td>Male</td>\n",
       "      <td>0</td>\n",
       "      <td>0</td>\n",
       "      <td>40</td>\n",
       "      <td>United-States</td>\n",
       "      <td>&lt;=50K</td>\n",
       "    </tr>\n",
       "    <tr>\n",
       "      <th>2</th>\n",
       "      <td>53</td>\n",
       "      <td>Private</td>\n",
       "      <td>234721</td>\n",
       "      <td>11th</td>\n",
       "      <td>7</td>\n",
       "      <td>Married-civ-spouse</td>\n",
       "      <td>Handlers-cleaners</td>\n",
       "      <td>Husband</td>\n",
       "      <td>Black</td>\n",
       "      <td>Male</td>\n",
       "      <td>0</td>\n",
       "      <td>0</td>\n",
       "      <td>40</td>\n",
       "      <td>United-States</td>\n",
       "      <td>&lt;=50K</td>\n",
       "    </tr>\n",
       "    <tr>\n",
       "      <th>3</th>\n",
       "      <td>28</td>\n",
       "      <td>Private</td>\n",
       "      <td>338409</td>\n",
       "      <td>Bachelors</td>\n",
       "      <td>13</td>\n",
       "      <td>Married-civ-spouse</td>\n",
       "      <td>Prof-specialty</td>\n",
       "      <td>Wife</td>\n",
       "      <td>Black</td>\n",
       "      <td>Female</td>\n",
       "      <td>0</td>\n",
       "      <td>0</td>\n",
       "      <td>40</td>\n",
       "      <td>Cuba</td>\n",
       "      <td>&lt;=50K</td>\n",
       "    </tr>\n",
       "    <tr>\n",
       "      <th>4</th>\n",
       "      <td>37</td>\n",
       "      <td>Private</td>\n",
       "      <td>284582</td>\n",
       "      <td>Masters</td>\n",
       "      <td>14</td>\n",
       "      <td>Married-civ-spouse</td>\n",
       "      <td>Exec-managerial</td>\n",
       "      <td>Wife</td>\n",
       "      <td>White</td>\n",
       "      <td>Female</td>\n",
       "      <td>0</td>\n",
       "      <td>0</td>\n",
       "      <td>40</td>\n",
       "      <td>United-States</td>\n",
       "      <td>&lt;=50K</td>\n",
       "    </tr>\n",
       "    <tr>\n",
       "      <th>...</th>\n",
       "      <td>...</td>\n",
       "      <td>...</td>\n",
       "      <td>...</td>\n",
       "      <td>...</td>\n",
       "      <td>...</td>\n",
       "      <td>...</td>\n",
       "      <td>...</td>\n",
       "      <td>...</td>\n",
       "      <td>...</td>\n",
       "      <td>...</td>\n",
       "      <td>...</td>\n",
       "      <td>...</td>\n",
       "      <td>...</td>\n",
       "      <td>...</td>\n",
       "      <td>...</td>\n",
       "    </tr>\n",
       "    <tr>\n",
       "      <th>32555</th>\n",
       "      <td>27</td>\n",
       "      <td>Private</td>\n",
       "      <td>257302</td>\n",
       "      <td>Assoc-acdm</td>\n",
       "      <td>12</td>\n",
       "      <td>Married-civ-spouse</td>\n",
       "      <td>Tech-support</td>\n",
       "      <td>Wife</td>\n",
       "      <td>White</td>\n",
       "      <td>Female</td>\n",
       "      <td>0</td>\n",
       "      <td>0</td>\n",
       "      <td>38</td>\n",
       "      <td>United-States</td>\n",
       "      <td>&lt;=50K</td>\n",
       "    </tr>\n",
       "    <tr>\n",
       "      <th>32556</th>\n",
       "      <td>40</td>\n",
       "      <td>Private</td>\n",
       "      <td>154374</td>\n",
       "      <td>HS-grad</td>\n",
       "      <td>9</td>\n",
       "      <td>Married-civ-spouse</td>\n",
       "      <td>Machine-op-inspct</td>\n",
       "      <td>Husband</td>\n",
       "      <td>White</td>\n",
       "      <td>Male</td>\n",
       "      <td>0</td>\n",
       "      <td>0</td>\n",
       "      <td>40</td>\n",
       "      <td>United-States</td>\n",
       "      <td>&gt;50K</td>\n",
       "    </tr>\n",
       "    <tr>\n",
       "      <th>32557</th>\n",
       "      <td>58</td>\n",
       "      <td>Private</td>\n",
       "      <td>151910</td>\n",
       "      <td>HS-grad</td>\n",
       "      <td>9</td>\n",
       "      <td>Widowed</td>\n",
       "      <td>Adm-clerical</td>\n",
       "      <td>Unmarried</td>\n",
       "      <td>White</td>\n",
       "      <td>Female</td>\n",
       "      <td>0</td>\n",
       "      <td>0</td>\n",
       "      <td>40</td>\n",
       "      <td>United-States</td>\n",
       "      <td>&lt;=50K</td>\n",
       "    </tr>\n",
       "    <tr>\n",
       "      <th>32558</th>\n",
       "      <td>22</td>\n",
       "      <td>Private</td>\n",
       "      <td>201490</td>\n",
       "      <td>HS-grad</td>\n",
       "      <td>9</td>\n",
       "      <td>Never-married</td>\n",
       "      <td>Adm-clerical</td>\n",
       "      <td>Own-child</td>\n",
       "      <td>White</td>\n",
       "      <td>Male</td>\n",
       "      <td>0</td>\n",
       "      <td>0</td>\n",
       "      <td>20</td>\n",
       "      <td>United-States</td>\n",
       "      <td>&lt;=50K</td>\n",
       "    </tr>\n",
       "    <tr>\n",
       "      <th>32559</th>\n",
       "      <td>52</td>\n",
       "      <td>Self-emp-inc</td>\n",
       "      <td>287927</td>\n",
       "      <td>HS-grad</td>\n",
       "      <td>9</td>\n",
       "      <td>Married-civ-spouse</td>\n",
       "      <td>Exec-managerial</td>\n",
       "      <td>Wife</td>\n",
       "      <td>White</td>\n",
       "      <td>Female</td>\n",
       "      <td>15024</td>\n",
       "      <td>0</td>\n",
       "      <td>40</td>\n",
       "      <td>United-States</td>\n",
       "      <td>&gt;50K</td>\n",
       "    </tr>\n",
       "  </tbody>\n",
       "</table>\n",
       "<p>32560 rows × 15 columns</p>\n",
       "</div>"
      ],
      "text/plain": [
       "       Age          Workclass  Fnlwgt    Education  Education_num  \\\n",
       "0       50   Self-emp-not-inc   83311    Bachelors             13   \n",
       "1       38            Private  215646      HS-grad              9   \n",
       "2       53            Private  234721         11th              7   \n",
       "3       28            Private  338409    Bachelors             13   \n",
       "4       37            Private  284582      Masters             14   \n",
       "...    ...                ...     ...          ...            ...   \n",
       "32555   27            Private  257302   Assoc-acdm             12   \n",
       "32556   40            Private  154374      HS-grad              9   \n",
       "32557   58            Private  151910      HS-grad              9   \n",
       "32558   22            Private  201490      HS-grad              9   \n",
       "32559   52       Self-emp-inc  287927      HS-grad              9   \n",
       "\n",
       "            Marital_status          Occupation    Relationship    Race  \\\n",
       "0       Married-civ-spouse     Exec-managerial         Husband   White   \n",
       "1                 Divorced   Handlers-cleaners   Not-in-family   White   \n",
       "2       Married-civ-spouse   Handlers-cleaners         Husband   Black   \n",
       "3       Married-civ-spouse      Prof-specialty            Wife   Black   \n",
       "4       Married-civ-spouse     Exec-managerial            Wife   White   \n",
       "...                    ...                 ...             ...     ...   \n",
       "32555   Married-civ-spouse        Tech-support            Wife   White   \n",
       "32556   Married-civ-spouse   Machine-op-inspct         Husband   White   \n",
       "32557              Widowed        Adm-clerical       Unmarried   White   \n",
       "32558        Never-married        Adm-clerical       Own-child   White   \n",
       "32559   Married-civ-spouse     Exec-managerial            Wife   White   \n",
       "\n",
       "           Sex  Capital_gain  Capital_loss  Hours_per_week  Native_country  \\\n",
       "0         Male             0             0              13   United-States   \n",
       "1         Male             0             0              40   United-States   \n",
       "2         Male             0             0              40   United-States   \n",
       "3       Female             0             0              40            Cuba   \n",
       "4       Female             0             0              40   United-States   \n",
       "...        ...           ...           ...             ...             ...   \n",
       "32555   Female             0             0              38   United-States   \n",
       "32556     Male             0             0              40   United-States   \n",
       "32557   Female             0             0              40   United-States   \n",
       "32558     Male             0             0              20   United-States   \n",
       "32559   Female         15024             0              40   United-States   \n",
       "\n",
       "       Income  \n",
       "0       <=50K  \n",
       "1       <=50K  \n",
       "2       <=50K  \n",
       "3       <=50K  \n",
       "4       <=50K  \n",
       "...       ...  \n",
       "32555   <=50K  \n",
       "32556    >50K  \n",
       "32557   <=50K  \n",
       "32558   <=50K  \n",
       "32559    >50K  \n",
       "\n",
       "[32560 rows x 15 columns]"
      ]
     },
     "execution_count": 3,
     "metadata": {},
     "output_type": "execute_result"
    }
   ],
   "source": [
    "df=pd.read_csv(\"https://raw.githubusercontent.com/dsrscientist/dataset1/master/census_income.csv\")\n",
    "df"
   ]
  },
  {
   "cell_type": "code",
   "execution_count": 4,
   "id": "1249964a",
   "metadata": {},
   "outputs": [
    {
     "data": {
      "text/plain": [
       "(32560, 15)"
      ]
     },
     "execution_count": 4,
     "metadata": {},
     "output_type": "execute_result"
    }
   ],
   "source": [
    "df.shape"
   ]
  },
  {
   "cell_type": "code",
   "execution_count": 5,
   "id": "c1602eb2",
   "metadata": {},
   "outputs": [
    {
     "data": {
      "text/html": [
       "<div>\n",
       "<style scoped>\n",
       "    .dataframe tbody tr th:only-of-type {\n",
       "        vertical-align: middle;\n",
       "    }\n",
       "\n",
       "    .dataframe tbody tr th {\n",
       "        vertical-align: top;\n",
       "    }\n",
       "\n",
       "    .dataframe thead th {\n",
       "        text-align: right;\n",
       "    }\n",
       "</style>\n",
       "<table border=\"1\" class=\"dataframe\">\n",
       "  <thead>\n",
       "    <tr style=\"text-align: right;\">\n",
       "      <th></th>\n",
       "      <th>Age</th>\n",
       "      <th>Workclass</th>\n",
       "      <th>Fnlwgt</th>\n",
       "      <th>Education</th>\n",
       "      <th>Education_num</th>\n",
       "      <th>Marital_status</th>\n",
       "      <th>Occupation</th>\n",
       "      <th>Relationship</th>\n",
       "      <th>Race</th>\n",
       "      <th>Sex</th>\n",
       "      <th>Capital_gain</th>\n",
       "      <th>Capital_loss</th>\n",
       "      <th>Hours_per_week</th>\n",
       "      <th>Native_country</th>\n",
       "      <th>Income</th>\n",
       "    </tr>\n",
       "  </thead>\n",
       "  <tbody>\n",
       "    <tr>\n",
       "      <th>0</th>\n",
       "      <td>50</td>\n",
       "      <td>Self-emp-not-inc</td>\n",
       "      <td>83311</td>\n",
       "      <td>Bachelors</td>\n",
       "      <td>13</td>\n",
       "      <td>Married-civ-spouse</td>\n",
       "      <td>Exec-managerial</td>\n",
       "      <td>Husband</td>\n",
       "      <td>White</td>\n",
       "      <td>Male</td>\n",
       "      <td>0</td>\n",
       "      <td>0</td>\n",
       "      <td>13</td>\n",
       "      <td>United-States</td>\n",
       "      <td>&lt;=50K</td>\n",
       "    </tr>\n",
       "    <tr>\n",
       "      <th>1</th>\n",
       "      <td>38</td>\n",
       "      <td>Private</td>\n",
       "      <td>215646</td>\n",
       "      <td>HS-grad</td>\n",
       "      <td>9</td>\n",
       "      <td>Divorced</td>\n",
       "      <td>Handlers-cleaners</td>\n",
       "      <td>Not-in-family</td>\n",
       "      <td>White</td>\n",
       "      <td>Male</td>\n",
       "      <td>0</td>\n",
       "      <td>0</td>\n",
       "      <td>40</td>\n",
       "      <td>United-States</td>\n",
       "      <td>&lt;=50K</td>\n",
       "    </tr>\n",
       "    <tr>\n",
       "      <th>2</th>\n",
       "      <td>53</td>\n",
       "      <td>Private</td>\n",
       "      <td>234721</td>\n",
       "      <td>11th</td>\n",
       "      <td>7</td>\n",
       "      <td>Married-civ-spouse</td>\n",
       "      <td>Handlers-cleaners</td>\n",
       "      <td>Husband</td>\n",
       "      <td>Black</td>\n",
       "      <td>Male</td>\n",
       "      <td>0</td>\n",
       "      <td>0</td>\n",
       "      <td>40</td>\n",
       "      <td>United-States</td>\n",
       "      <td>&lt;=50K</td>\n",
       "    </tr>\n",
       "    <tr>\n",
       "      <th>3</th>\n",
       "      <td>28</td>\n",
       "      <td>Private</td>\n",
       "      <td>338409</td>\n",
       "      <td>Bachelors</td>\n",
       "      <td>13</td>\n",
       "      <td>Married-civ-spouse</td>\n",
       "      <td>Prof-specialty</td>\n",
       "      <td>Wife</td>\n",
       "      <td>Black</td>\n",
       "      <td>Female</td>\n",
       "      <td>0</td>\n",
       "      <td>0</td>\n",
       "      <td>40</td>\n",
       "      <td>Cuba</td>\n",
       "      <td>&lt;=50K</td>\n",
       "    </tr>\n",
       "    <tr>\n",
       "      <th>4</th>\n",
       "      <td>37</td>\n",
       "      <td>Private</td>\n",
       "      <td>284582</td>\n",
       "      <td>Masters</td>\n",
       "      <td>14</td>\n",
       "      <td>Married-civ-spouse</td>\n",
       "      <td>Exec-managerial</td>\n",
       "      <td>Wife</td>\n",
       "      <td>White</td>\n",
       "      <td>Female</td>\n",
       "      <td>0</td>\n",
       "      <td>0</td>\n",
       "      <td>40</td>\n",
       "      <td>United-States</td>\n",
       "      <td>&lt;=50K</td>\n",
       "    </tr>\n",
       "  </tbody>\n",
       "</table>\n",
       "</div>"
      ],
      "text/plain": [
       "   Age          Workclass  Fnlwgt   Education  Education_num  \\\n",
       "0   50   Self-emp-not-inc   83311   Bachelors             13   \n",
       "1   38            Private  215646     HS-grad              9   \n",
       "2   53            Private  234721        11th              7   \n",
       "3   28            Private  338409   Bachelors             13   \n",
       "4   37            Private  284582     Masters             14   \n",
       "\n",
       "        Marital_status          Occupation    Relationship    Race      Sex  \\\n",
       "0   Married-civ-spouse     Exec-managerial         Husband   White     Male   \n",
       "1             Divorced   Handlers-cleaners   Not-in-family   White     Male   \n",
       "2   Married-civ-spouse   Handlers-cleaners         Husband   Black     Male   \n",
       "3   Married-civ-spouse      Prof-specialty            Wife   Black   Female   \n",
       "4   Married-civ-spouse     Exec-managerial            Wife   White   Female   \n",
       "\n",
       "   Capital_gain  Capital_loss  Hours_per_week  Native_country  Income  \n",
       "0             0             0              13   United-States   <=50K  \n",
       "1             0             0              40   United-States   <=50K  \n",
       "2             0             0              40   United-States   <=50K  \n",
       "3             0             0              40            Cuba   <=50K  \n",
       "4             0             0              40   United-States   <=50K  "
      ]
     },
     "execution_count": 5,
     "metadata": {},
     "output_type": "execute_result"
    }
   ],
   "source": [
    "df.head()"
   ]
  },
  {
   "cell_type": "code",
   "execution_count": 6,
   "id": "3bfeed6c",
   "metadata": {},
   "outputs": [
    {
     "data": {
      "text/html": [
       "<div>\n",
       "<style scoped>\n",
       "    .dataframe tbody tr th:only-of-type {\n",
       "        vertical-align: middle;\n",
       "    }\n",
       "\n",
       "    .dataframe tbody tr th {\n",
       "        vertical-align: top;\n",
       "    }\n",
       "\n",
       "    .dataframe thead th {\n",
       "        text-align: right;\n",
       "    }\n",
       "</style>\n",
       "<table border=\"1\" class=\"dataframe\">\n",
       "  <thead>\n",
       "    <tr style=\"text-align: right;\">\n",
       "      <th></th>\n",
       "      <th>Age</th>\n",
       "      <th>Workclass</th>\n",
       "      <th>Fnlwgt</th>\n",
       "      <th>Education</th>\n",
       "      <th>Education_num</th>\n",
       "      <th>Marital_status</th>\n",
       "      <th>Occupation</th>\n",
       "      <th>Relationship</th>\n",
       "      <th>Race</th>\n",
       "      <th>Sex</th>\n",
       "      <th>Capital_gain</th>\n",
       "      <th>Capital_loss</th>\n",
       "      <th>Hours_per_week</th>\n",
       "      <th>Native_country</th>\n",
       "      <th>Income</th>\n",
       "    </tr>\n",
       "  </thead>\n",
       "  <tbody>\n",
       "    <tr>\n",
       "      <th>32555</th>\n",
       "      <td>27</td>\n",
       "      <td>Private</td>\n",
       "      <td>257302</td>\n",
       "      <td>Assoc-acdm</td>\n",
       "      <td>12</td>\n",
       "      <td>Married-civ-spouse</td>\n",
       "      <td>Tech-support</td>\n",
       "      <td>Wife</td>\n",
       "      <td>White</td>\n",
       "      <td>Female</td>\n",
       "      <td>0</td>\n",
       "      <td>0</td>\n",
       "      <td>38</td>\n",
       "      <td>United-States</td>\n",
       "      <td>&lt;=50K</td>\n",
       "    </tr>\n",
       "    <tr>\n",
       "      <th>32556</th>\n",
       "      <td>40</td>\n",
       "      <td>Private</td>\n",
       "      <td>154374</td>\n",
       "      <td>HS-grad</td>\n",
       "      <td>9</td>\n",
       "      <td>Married-civ-spouse</td>\n",
       "      <td>Machine-op-inspct</td>\n",
       "      <td>Husband</td>\n",
       "      <td>White</td>\n",
       "      <td>Male</td>\n",
       "      <td>0</td>\n",
       "      <td>0</td>\n",
       "      <td>40</td>\n",
       "      <td>United-States</td>\n",
       "      <td>&gt;50K</td>\n",
       "    </tr>\n",
       "    <tr>\n",
       "      <th>32557</th>\n",
       "      <td>58</td>\n",
       "      <td>Private</td>\n",
       "      <td>151910</td>\n",
       "      <td>HS-grad</td>\n",
       "      <td>9</td>\n",
       "      <td>Widowed</td>\n",
       "      <td>Adm-clerical</td>\n",
       "      <td>Unmarried</td>\n",
       "      <td>White</td>\n",
       "      <td>Female</td>\n",
       "      <td>0</td>\n",
       "      <td>0</td>\n",
       "      <td>40</td>\n",
       "      <td>United-States</td>\n",
       "      <td>&lt;=50K</td>\n",
       "    </tr>\n",
       "    <tr>\n",
       "      <th>32558</th>\n",
       "      <td>22</td>\n",
       "      <td>Private</td>\n",
       "      <td>201490</td>\n",
       "      <td>HS-grad</td>\n",
       "      <td>9</td>\n",
       "      <td>Never-married</td>\n",
       "      <td>Adm-clerical</td>\n",
       "      <td>Own-child</td>\n",
       "      <td>White</td>\n",
       "      <td>Male</td>\n",
       "      <td>0</td>\n",
       "      <td>0</td>\n",
       "      <td>20</td>\n",
       "      <td>United-States</td>\n",
       "      <td>&lt;=50K</td>\n",
       "    </tr>\n",
       "    <tr>\n",
       "      <th>32559</th>\n",
       "      <td>52</td>\n",
       "      <td>Self-emp-inc</td>\n",
       "      <td>287927</td>\n",
       "      <td>HS-grad</td>\n",
       "      <td>9</td>\n",
       "      <td>Married-civ-spouse</td>\n",
       "      <td>Exec-managerial</td>\n",
       "      <td>Wife</td>\n",
       "      <td>White</td>\n",
       "      <td>Female</td>\n",
       "      <td>15024</td>\n",
       "      <td>0</td>\n",
       "      <td>40</td>\n",
       "      <td>United-States</td>\n",
       "      <td>&gt;50K</td>\n",
       "    </tr>\n",
       "  </tbody>\n",
       "</table>\n",
       "</div>"
      ],
      "text/plain": [
       "       Age      Workclass  Fnlwgt    Education  Education_num  \\\n",
       "32555   27        Private  257302   Assoc-acdm             12   \n",
       "32556   40        Private  154374      HS-grad              9   \n",
       "32557   58        Private  151910      HS-grad              9   \n",
       "32558   22        Private  201490      HS-grad              9   \n",
       "32559   52   Self-emp-inc  287927      HS-grad              9   \n",
       "\n",
       "            Marital_status          Occupation Relationship    Race      Sex  \\\n",
       "32555   Married-civ-spouse        Tech-support         Wife   White   Female   \n",
       "32556   Married-civ-spouse   Machine-op-inspct      Husband   White     Male   \n",
       "32557              Widowed        Adm-clerical    Unmarried   White   Female   \n",
       "32558        Never-married        Adm-clerical    Own-child   White     Male   \n",
       "32559   Married-civ-spouse     Exec-managerial         Wife   White   Female   \n",
       "\n",
       "       Capital_gain  Capital_loss  Hours_per_week  Native_country  Income  \n",
       "32555             0             0              38   United-States   <=50K  \n",
       "32556             0             0              40   United-States    >50K  \n",
       "32557             0             0              40   United-States   <=50K  \n",
       "32558             0             0              20   United-States   <=50K  \n",
       "32559         15024             0              40   United-States    >50K  "
      ]
     },
     "execution_count": 6,
     "metadata": {},
     "output_type": "execute_result"
    }
   ],
   "source": [
    "df.tail()"
   ]
  },
  {
   "cell_type": "code",
   "execution_count": 7,
   "id": "253df9fb",
   "metadata": {},
   "outputs": [
    {
     "data": {
      "text/plain": [
       "Age               0\n",
       "Workclass         0\n",
       "Fnlwgt            0\n",
       "Education         0\n",
       "Education_num     0\n",
       "Marital_status    0\n",
       "Occupation        0\n",
       "Relationship      0\n",
       "Race              0\n",
       "Sex               0\n",
       "Capital_gain      0\n",
       "Capital_loss      0\n",
       "Hours_per_week    0\n",
       "Native_country    0\n",
       "Income            0\n",
       "dtype: int64"
      ]
     },
     "execution_count": 7,
     "metadata": {},
     "output_type": "execute_result"
    }
   ],
   "source": [
    "df.isna().sum()"
   ]
  },
  {
   "cell_type": "code",
   "execution_count": 8,
   "id": "7d6aba3d",
   "metadata": {},
   "outputs": [
    {
     "name": "stdout",
     "output_type": "stream",
     "text": [
      "<class 'pandas.core.frame.DataFrame'>\n",
      "RangeIndex: 32560 entries, 0 to 32559\n",
      "Data columns (total 15 columns):\n",
      " #   Column          Non-Null Count  Dtype \n",
      "---  ------          --------------  ----- \n",
      " 0   Age             32560 non-null  int64 \n",
      " 1   Workclass       32560 non-null  object\n",
      " 2   Fnlwgt          32560 non-null  int64 \n",
      " 3   Education       32560 non-null  object\n",
      " 4   Education_num   32560 non-null  int64 \n",
      " 5   Marital_status  32560 non-null  object\n",
      " 6   Occupation      32560 non-null  object\n",
      " 7   Relationship    32560 non-null  object\n",
      " 8   Race            32560 non-null  object\n",
      " 9   Sex             32560 non-null  object\n",
      " 10  Capital_gain    32560 non-null  int64 \n",
      " 11  Capital_loss    32560 non-null  int64 \n",
      " 12  Hours_per_week  32560 non-null  int64 \n",
      " 13  Native_country  32560 non-null  object\n",
      " 14  Income          32560 non-null  object\n",
      "dtypes: int64(6), object(9)\n",
      "memory usage: 3.7+ MB\n"
     ]
    }
   ],
   "source": [
    "df.info()"
   ]
  },
  {
   "cell_type": "code",
   "execution_count": 9,
   "id": "d29c3e9e",
   "metadata": {},
   "outputs": [
    {
     "name": "stdout",
     "output_type": "stream",
     "text": [
      "36    898\n",
      "31    888\n",
      "34    886\n",
      "23    877\n",
      "35    876\n",
      "     ... \n",
      "83      6\n",
      "88      3\n",
      "85      3\n",
      "86      1\n",
      "87      1\n",
      "Name: Age, Length: 73, dtype: int64\n",
      "\n",
      "\n",
      " Private             22696\n",
      " Self-emp-not-inc     2541\n",
      " Local-gov            2093\n",
      " ?                    1836\n",
      " State-gov            1297\n",
      " Self-emp-inc         1116\n",
      " Federal-gov           960\n",
      " Without-pay            14\n",
      " Never-worked            7\n",
      "Name: Workclass, dtype: int64\n",
      "\n",
      "\n",
      "164190    13\n",
      "203488    13\n",
      "123011    13\n",
      "148995    12\n",
      "126675    12\n",
      "          ..\n",
      "325573     1\n",
      "140176     1\n",
      "318264     1\n",
      "329205     1\n",
      "257302     1\n",
      "Name: Fnlwgt, Length: 21647, dtype: int64\n",
      "\n",
      "\n",
      " HS-grad         10501\n",
      " Some-college     7291\n",
      " Bachelors        5354\n",
      " Masters          1723\n",
      " Assoc-voc        1382\n",
      " 11th             1175\n",
      " Assoc-acdm       1067\n",
      " 10th              933\n",
      " 7th-8th           646\n",
      " Prof-school       576\n",
      " 9th               514\n",
      " 12th              433\n",
      " Doctorate         413\n",
      " 5th-6th           333\n",
      " 1st-4th           168\n",
      " Preschool          51\n",
      "Name: Education, dtype: int64\n",
      "\n",
      "\n",
      "9     10501\n",
      "10     7291\n",
      "13     5354\n",
      "14     1723\n",
      "11     1382\n",
      "7      1175\n",
      "12     1067\n",
      "6       933\n",
      "4       646\n",
      "15      576\n",
      "5       514\n",
      "8       433\n",
      "16      413\n",
      "3       333\n",
      "2       168\n",
      "1        51\n",
      "Name: Education_num, dtype: int64\n",
      "\n",
      "\n",
      " Married-civ-spouse       14976\n",
      " Never-married            10682\n",
      " Divorced                  4443\n",
      " Separated                 1025\n",
      " Widowed                    993\n",
      " Married-spouse-absent      418\n",
      " Married-AF-spouse           23\n",
      "Name: Marital_status, dtype: int64\n",
      "\n",
      "\n",
      " Prof-specialty       4140\n",
      " Craft-repair         4099\n",
      " Exec-managerial      4066\n",
      " Adm-clerical         3769\n",
      " Sales                3650\n",
      " Other-service        3295\n",
      " Machine-op-inspct    2002\n",
      " ?                    1843\n",
      " Transport-moving     1597\n",
      " Handlers-cleaners    1370\n",
      " Farming-fishing       994\n",
      " Tech-support          928\n",
      " Protective-serv       649\n",
      " Priv-house-serv       149\n",
      " Armed-Forces            9\n",
      "Name: Occupation, dtype: int64\n",
      "\n",
      "\n",
      " Husband           13193\n",
      " Not-in-family      8304\n",
      " Own-child          5068\n",
      " Unmarried          3446\n",
      " Wife               1568\n",
      " Other-relative      981\n",
      "Name: Relationship, dtype: int64\n",
      "\n",
      "\n",
      " White                 27815\n",
      " Black                  3124\n",
      " Asian-Pac-Islander     1039\n",
      " Amer-Indian-Eskimo      311\n",
      " Other                   271\n",
      "Name: Race, dtype: int64\n",
      "\n",
      "\n",
      " Male      21789\n",
      " Female    10771\n",
      "Name: Sex, dtype: int64\n",
      "\n",
      "\n",
      "0        29849\n",
      "15024      347\n",
      "7688       284\n",
      "7298       246\n",
      "99999      159\n",
      "         ...  \n",
      "1111         1\n",
      "2538         1\n",
      "22040        1\n",
      "4931         1\n",
      "5060         1\n",
      "Name: Capital_gain, Length: 119, dtype: int64\n",
      "\n",
      "\n",
      "0       31041\n",
      "1902      202\n",
      "1977      168\n",
      "1887      159\n",
      "1848       51\n",
      "        ...  \n",
      "2080        1\n",
      "1539        1\n",
      "1844        1\n",
      "2489        1\n",
      "1411        1\n",
      "Name: Capital_loss, Length: 92, dtype: int64\n",
      "\n",
      "\n",
      "40    15216\n",
      "50     2819\n",
      "45     1824\n",
      "60     1475\n",
      "35     1297\n",
      "      ...  \n",
      "82        1\n",
      "94        1\n",
      "92        1\n",
      "74        1\n",
      "87        1\n",
      "Name: Hours_per_week, Length: 94, dtype: int64\n",
      "\n",
      "\n",
      " United-States                 29169\n",
      " Mexico                          643\n",
      " ?                               583\n",
      " Philippines                     198\n",
      " Germany                         137\n",
      " Canada                          121\n",
      " Puerto-Rico                     114\n",
      " El-Salvador                     106\n",
      " India                           100\n",
      " Cuba                             95\n",
      " England                          90\n",
      " Jamaica                          81\n",
      " South                            80\n",
      " China                            75\n",
      " Italy                            73\n",
      " Dominican-Republic               70\n",
      " Vietnam                          67\n",
      " Guatemala                        64\n",
      " Japan                            62\n",
      " Poland                           60\n",
      " Columbia                         59\n",
      " Taiwan                           51\n",
      " Haiti                            44\n",
      " Iran                             43\n",
      " Portugal                         37\n",
      " Nicaragua                        34\n",
      " Peru                             31\n",
      " France                           29\n",
      " Greece                           29\n",
      " Ecuador                          28\n",
      " Ireland                          24\n",
      " Hong                             20\n",
      " Cambodia                         19\n",
      " Trinadad&Tobago                  19\n",
      " Laos                             18\n",
      " Thailand                         18\n",
      " Yugoslavia                       16\n",
      " Outlying-US(Guam-USVI-etc)       14\n",
      " Honduras                         13\n",
      " Hungary                          13\n",
      " Scotland                         12\n",
      " Holand-Netherlands                1\n",
      "Name: Native_country, dtype: int64\n",
      "\n",
      "\n",
      " <=50K    24719\n",
      " >50K      7841\n",
      "Name: Income, dtype: int64\n",
      "\n",
      "\n"
     ]
    }
   ],
   "source": [
    "for i in df.columns:\n",
    "    print(df[i].value_counts())\n",
    "    print('\\n')"
   ]
  },
  {
   "cell_type": "code",
   "execution_count": 10,
   "id": "ad28102a",
   "metadata": {},
   "outputs": [
    {
     "data": {
      "text/plain": [
       "Age                int64\n",
       "Workclass         object\n",
       "Fnlwgt             int64\n",
       "Education         object\n",
       "Education_num      int64\n",
       "Marital_status    object\n",
       "Occupation        object\n",
       "Relationship      object\n",
       "Race              object\n",
       "Sex               object\n",
       "Capital_gain       int64\n",
       "Capital_loss       int64\n",
       "Hours_per_week     int64\n",
       "Native_country    object\n",
       "Income            object\n",
       "dtype: object"
      ]
     },
     "execution_count": 10,
     "metadata": {},
     "output_type": "execute_result"
    }
   ],
   "source": [
    "df.dtypes"
   ]
  },
  {
   "cell_type": "code",
   "execution_count": 11,
   "id": "6ea3b60e",
   "metadata": {},
   "outputs": [
    {
     "data": {
      "text/plain": [
       "<AxesSubplot:>"
      ]
     },
     "execution_count": 11,
     "metadata": {},
     "output_type": "execute_result"
    },
    {
     "data": {
      "image/png": "[encoded data removed]",
      "text/plain": [
       "<Figure size 720x720 with 2 Axes>"
      ]
     },
     "metadata": {
      "needs_background": "light"
     },
     "output_type": "display_data"
    }
   ],
   "source": [
    "plt.figure(figsize=(10,10))\n",
    "sns.heatmap(df.isna())"
   ]
  },
  {
   "cell_type": "markdown",
   "id": "657abd4e",
   "metadata": {},
   "source": [
    "# observation\n",
    "Check the shape of the data set (32560 rows & 15 columns)\n",
    "Check the head and tail\n",
    "Check the null values and there are no null values\n",
    "There are value like ? and let replace with nan value\n",
    "Check for the data types and there object and int datatype and for the object data type we need to convert the object\n",
    "into int data type\n",
    "We have drawn the heatmap to check for the null values"
   ]
  },
  {
   "cell_type": "code",
   "execution_count": 12,
   "id": "08e297f5",
   "metadata": {},
   "outputs": [
    {
     "data": {
      "text/plain": [
       " Prof-specialty       4140\n",
       " Craft-repair         4099\n",
       " Exec-managerial      4066\n",
       " Adm-clerical         3769\n",
       " Sales                3650\n",
       " Other-service        3295\n",
       " Machine-op-inspct    2002\n",
       " ?                    1843\n",
       " Transport-moving     1597\n",
       " Handlers-cleaners    1370\n",
       " Farming-fishing       994\n",
       " Tech-support          928\n",
       " Protective-serv       649\n",
       " Priv-house-serv       149\n",
       " Armed-Forces            9\n",
       "Name: Occupation, dtype: int64"
      ]
     },
     "execution_count": 12,
     "metadata": {},
     "output_type": "execute_result"
    }
   ],
   "source": [
    "df['Occupation'].replace(\"?\",np.nan)\n",
    "df[\"Occupation\"].value_counts()"
   ]
  },
  {
   "cell_type": "code",
   "execution_count": 13,
   "id": "16b87692",
   "metadata": {},
   "outputs": [
    {
     "data": {
      "text/plain": [
       " Private             22696\n",
       " Self-emp-not-inc     2541\n",
       " Local-gov            2093\n",
       " ?                    1836\n",
       " State-gov            1297\n",
       " Self-emp-inc         1116\n",
       " Federal-gov           960\n",
       " Without-pay            14\n",
       " Never-worked            7\n",
       "Name: Workclass, dtype: int64"
      ]
     },
     "execution_count": 13,
     "metadata": {},
     "output_type": "execute_result"
    }
   ],
   "source": [
    "df['Workclass'].replace({'?':np.nan})\n",
    "df['Workclass'].value_counts()"
   ]
  },
  {
   "cell_type": "markdown",
   "id": "2d787163",
   "metadata": {},
   "source": [
    "# I HAVE TRIED MANY TIMES TO REPLACE THAT VALUE BUT ITS NOT WORKING I THINK THERE IS PROBLEM IN MY JUPITER NOTEBOOK PLEASE GIVE EXCEPTION FOR THIS"
   ]
  },
  {
   "cell_type": "markdown",
   "id": "e0960245",
   "metadata": {},
   "source": [
    "# LETS MOVE TOWARD THE EDA "
   ]
  },
  {
   "cell_type": "code",
   "execution_count": 14,
   "id": "77a6fb5b",
   "metadata": {},
   "outputs": [
    {
     "data": {
      "text/plain": [
       "<AxesSubplot:xlabel='Income', ylabel='count'>"
      ]
     },
     "execution_count": 14,
     "metadata": {},
     "output_type": "execute_result"
    },
    {
     "data": {
      "image/png": "[encoded data removed]",
      "text/plain": [
       "<Figure size 432x288 with 1 Axes>"
      ]
     },
     "metadata": {
      "needs_background": "light"
     },
     "output_type": "display_data"
    }
   ],
   "source": [
    "sns.countplot(x='Income',data=df)"
   ]
  },
  {
   "cell_type": "markdown",
   "id": "4013c953",
   "metadata": {},
   "source": [
    "# observation\n",
    "From the above graph we can see that there are many people those who are having income less than or equal to\n",
    "50k nearly about 24000 people that means nearly 75% people and other than that nearly7000 people\n",
    "are having income more that 50k"
   ]
  },
  {
   "cell_type": "code",
   "execution_count": 15,
   "id": "23ad1c7c",
   "metadata": {
    "scrolled": true
   },
   "outputs": [
    {
     "data": {
      "text/plain": [
       "<AxesSubplot:xlabel='Age', ylabel='count'>"
      ]
     },
     "execution_count": 15,
     "metadata": {},
     "output_type": "execute_result"
    },
    {
     "data": {
      "image/png": "[encoded data removed]",
      "text/plain": [
       "<Figure size 1440x1800 with 1 Axes>"
      ]
     },
     "metadata": {
      "needs_background": "light"
     },
     "output_type": "display_data"
    }
   ],
   "source": [
    "plt.figure(figsize=(20,25))\n",
    "sns.countplot(x='Age', hue='Income', data=df)"
   ]
  },
  {
   "cell_type": "markdown",
   "id": "e0f278cc",
   "metadata": {},
   "source": [
    "# observation\n",
    "We can clearly say that those who are having age between 36-49 are having income more than 50k\n",
    "and the age between 23-35 are having income less than or equal to 50k "
   ]
  },
  {
   "cell_type": "code",
   "execution_count": 16,
   "id": "2a19472c",
   "metadata": {},
   "outputs": [
    {
     "data": {
      "text/plain": [
       "<AxesSubplot:xlabel='Marital_status', ylabel='Age'>"
      ]
     },
     "execution_count": 16,
     "metadata": {},
     "output_type": "execute_result"
    },
    {
     "data": {
      "image/png": "[encoded data removed]",
      "text/plain": [
       "<Figure size 1080x1080 with 1 Axes>"
      ]
     },
     "metadata": {
      "needs_background": "light"
     },
     "output_type": "display_data"
    }
   ],
   "source": [
    "plt.figure(figsize=(15,15))\n",
    "sns.barplot(x='Marital_status',y='Age',hue='Income',data=df)"
   ]
  },
  {
   "cell_type": "markdown",
   "id": "3a0e1fec",
   "metadata": {},
   "source": [
    "# observation\n",
    "IN THE ABOVE GRAPH THE WIDOWED THE AGE IS BETWEEN 55-60 HAVING THE HIGHER INCOME \n",
    "AND IN MARRIED SPOUSE ABSENT THESE NUMBER OF PEOPLE HAVING INCOME MORE THAN 50K AND DIVORCED ALSO HAVING MORE\n",
    "NUMBER OF PEOPLE HAVING MORE THAN 50K"
   ]
  },
  {
   "cell_type": "code",
   "execution_count": 17,
   "id": "a36b0988",
   "metadata": {},
   "outputs": [
    {
     "data": {
      "text/plain": [
       "<AxesSubplot:xlabel='Age', ylabel='Occupation'>"
      ]
     },
     "execution_count": 17,
     "metadata": {},
     "output_type": "execute_result"
    },
    {
     "data": {
      "image/png": "[encoded data removed]",
      "text/plain": [
       "<Figure size 1080x1080 with 1 Axes>"
      ]
     },
     "metadata": {
      "needs_background": "light"
     },
     "output_type": "display_data"
    }
   ],
   "source": [
    "plt.figure(figsize=(15,15))\n",
    "sns.barplot(x='Age', y='Occupation', hue='Income',data=df)"
   ]
  },
  {
   "cell_type": "code",
   "execution_count": 18,
   "id": "6e4e90d5",
   "metadata": {},
   "outputs": [
    {
     "data": {
      "text/plain": [
       "<AxesSubplot:xlabel='Education', ylabel='count'>"
      ]
     },
     "execution_count": 18,
     "metadata": {},
     "output_type": "execute_result"
    },
    {
     "data": {
      "image/png": "[encoded data removed]",
      "text/plain": [
       "<Figure size 1440x1440 with 1 Axes>"
      ]
     },
     "metadata": {
      "needs_background": "light"
     },
     "output_type": "display_data"
    }
   ],
   "source": [
    "plt.figure(figsize=(20,20))\n",
    "sns.countplot(x='Education',hue='Income',data=df)"
   ]
  },
  {
   "cell_type": "markdown",
   "id": "ad821c98",
   "metadata": {},
   "source": [
    "# OBSERVATION\n",
    "IT IS CLEAR THAT HS-GRAD,SOME-COLLEGE HAVING INCOME LESS THAN 50K\n",
    "AND MASTERS HAVING INCOME MORE THAN 50K\n",
    "ALSO WE CAN CONCLUDE THAT BACHELORS ALSO HAVING INCOME MORE THAN 50K BUT ALSO THERE ARE PEOPLE HAVING INCOME LESS THAN 50K"
   ]
  },
  {
   "cell_type": "code",
   "execution_count": 24,
   "id": "a96a47b7",
   "metadata": {},
   "outputs": [
    {
     "data": {
      "text/plain": [
       "<AxesSubplot:xlabel='Sex', ylabel='count'>"
      ]
     },
     "execution_count": 24,
     "metadata": {},
     "output_type": "execute_result"
    },
    {
     "data": {
      "image/png": "[encoded data removed]",
      "text/plain": [
       "<Figure size 1080x1080 with 1 Axes>"
      ]
     },
     "metadata": {
      "needs_background": "light"
     },
     "output_type": "display_data"
    }
   ],
   "source": [
    "plt.figure(figsize=(15,15))\n",
    "sns.countplot(x='Sex',hue='Income',data=df)"
   ]
  },
  {
   "cell_type": "markdown",
   "id": "e012b80e",
   "metadata": {},
   "source": [
    "# OBSERVATION\n",
    "aCCORDING TO THE SEX COLUMN WE CAN SAY THAT BOTH MALE AND FEMALE ARE HAVING THE INCOME LESS THAN 50K\n",
    "BUT ON THE OTHER HAND WE CAN SAY THAT MALE IS HAVING HIGHER INCOME THAT IS MORE THAN 50K AS COMPARED\n",
    "TO FEMALE"
   ]
  },
  {
   "cell_type": "code",
   "execution_count": 28,
   "id": "e9cb9b30",
   "metadata": {},
   "outputs": [
    {
     "data": {
      "text/plain": [
       "<AxesSubplot:xlabel='Workclass', ylabel='count'>"
      ]
     },
     "execution_count": 28,
     "metadata": {},
     "output_type": "execute_result"
    },
    {
     "data": {
      "image/png": "[encoded data removed]",
      "text/plain": [
       "<Figure size 1080x1440 with 1 Axes>"
      ]
     },
     "metadata": {
      "needs_background": "light"
     },
     "output_type": "display_data"
    }
   ],
   "source": [
    "plt.figure(figsize=(15,20))\n",
    "sns.countplot(x='Workclass',hue='Income',data=df)"
   ]
  },
  {
   "cell_type": "markdown",
   "id": "03c27b92",
   "metadata": {},
   "source": [
    "# OBSERVATION\n",
    "WE HAVE OBSERVE THAT PRIVATE WORKCLSS HAVING INCOME MORE THAN 50K AS COMPARED TO OTHER WORKCLASS\n",
    "ALSO WE WILL DELETE THE UNWANTED COLUMN AND ENCODE THE REMAINING COLUMN"
   ]
  },
  {
   "cell_type": "code",
   "execution_count": 29,
   "id": "01eedeca",
   "metadata": {},
   "outputs": [],
   "source": [
    "df.drop(['Age','Workclass','Occupation','Sex','Race','Native_country'],axis=1,inplace=True)"
   ]
  },
  {
   "cell_type": "code",
   "execution_count": 30,
   "id": "656531e8",
   "metadata": {},
   "outputs": [
    {
     "data": {
      "text/html": [
       "<div>\n",
       "<style scoped>\n",
       "    .dataframe tbody tr th:only-of-type {\n",
       "        vertical-align: middle;\n",
       "    }\n",
       "\n",
       "    .dataframe tbody tr th {\n",
       "        vertical-align: top;\n",
       "    }\n",
       "\n",
       "    .dataframe thead th {\n",
       "        text-align: right;\n",
       "    }\n",
       "</style>\n",
       "<table border=\"1\" class=\"dataframe\">\n",
       "  <thead>\n",
       "    <tr style=\"text-align: right;\">\n",
       "      <th></th>\n",
       "      <th>Fnlwgt</th>\n",
       "      <th>Education</th>\n",
       "      <th>Education_num</th>\n",
       "      <th>Marital_status</th>\n",
       "      <th>Relationship</th>\n",
       "      <th>Capital_gain</th>\n",
       "      <th>Capital_loss</th>\n",
       "      <th>Hours_per_week</th>\n",
       "      <th>Income</th>\n",
       "    </tr>\n",
       "  </thead>\n",
       "  <tbody>\n",
       "    <tr>\n",
       "      <th>0</th>\n",
       "      <td>83311</td>\n",
       "      <td>Bachelors</td>\n",
       "      <td>13</td>\n",
       "      <td>Married-civ-spouse</td>\n",
       "      <td>Husband</td>\n",
       "      <td>0</td>\n",
       "      <td>0</td>\n",
       "      <td>13</td>\n",
       "      <td>&lt;=50K</td>\n",
       "    </tr>\n",
       "    <tr>\n",
       "      <th>1</th>\n",
       "      <td>215646</td>\n",
       "      <td>HS-grad</td>\n",
       "      <td>9</td>\n",
       "      <td>Divorced</td>\n",
       "      <td>Not-in-family</td>\n",
       "      <td>0</td>\n",
       "      <td>0</td>\n",
       "      <td>40</td>\n",
       "      <td>&lt;=50K</td>\n",
       "    </tr>\n",
       "    <tr>\n",
       "      <th>2</th>\n",
       "      <td>234721</td>\n",
       "      <td>11th</td>\n",
       "      <td>7</td>\n",
       "      <td>Married-civ-spouse</td>\n",
       "      <td>Husband</td>\n",
       "      <td>0</td>\n",
       "      <td>0</td>\n",
       "      <td>40</td>\n",
       "      <td>&lt;=50K</td>\n",
       "    </tr>\n",
       "    <tr>\n",
       "      <th>3</th>\n",
       "      <td>338409</td>\n",
       "      <td>Bachelors</td>\n",
       "      <td>13</td>\n",
       "      <td>Married-civ-spouse</td>\n",
       "      <td>Wife</td>\n",
       "      <td>0</td>\n",
       "      <td>0</td>\n",
       "      <td>40</td>\n",
       "      <td>&lt;=50K</td>\n",
       "    </tr>\n",
       "    <tr>\n",
       "      <th>4</th>\n",
       "      <td>284582</td>\n",
       "      <td>Masters</td>\n",
       "      <td>14</td>\n",
       "      <td>Married-civ-spouse</td>\n",
       "      <td>Wife</td>\n",
       "      <td>0</td>\n",
       "      <td>0</td>\n",
       "      <td>40</td>\n",
       "      <td>&lt;=50K</td>\n",
       "    </tr>\n",
       "    <tr>\n",
       "      <th>...</th>\n",
       "      <td>...</td>\n",
       "      <td>...</td>\n",
       "      <td>...</td>\n",
       "      <td>...</td>\n",
       "      <td>...</td>\n",
       "      <td>...</td>\n",
       "      <td>...</td>\n",
       "      <td>...</td>\n",
       "      <td>...</td>\n",
       "    </tr>\n",
       "    <tr>\n",
       "      <th>32555</th>\n",
       "      <td>257302</td>\n",
       "      <td>Assoc-acdm</td>\n",
       "      <td>12</td>\n",
       "      <td>Married-civ-spouse</td>\n",
       "      <td>Wife</td>\n",
       "      <td>0</td>\n",
       "      <td>0</td>\n",
       "      <td>38</td>\n",
       "      <td>&lt;=50K</td>\n",
       "    </tr>\n",
       "    <tr>\n",
       "      <th>32556</th>\n",
       "      <td>154374</td>\n",
       "      <td>HS-grad</td>\n",
       "      <td>9</td>\n",
       "      <td>Married-civ-spouse</td>\n",
       "      <td>Husband</td>\n",
       "      <td>0</td>\n",
       "      <td>0</td>\n",
       "      <td>40</td>\n",
       "      <td>&gt;50K</td>\n",
       "    </tr>\n",
       "    <tr>\n",
       "      <th>32557</th>\n",
       "      <td>151910</td>\n",
       "      <td>HS-grad</td>\n",
       "      <td>9</td>\n",
       "      <td>Widowed</td>\n",
       "      <td>Unmarried</td>\n",
       "      <td>0</td>\n",
       "      <td>0</td>\n",
       "      <td>40</td>\n",
       "      <td>&lt;=50K</td>\n",
       "    </tr>\n",
       "    <tr>\n",
       "      <th>32558</th>\n",
       "      <td>201490</td>\n",
       "      <td>HS-grad</td>\n",
       "      <td>9</td>\n",
       "      <td>Never-married</td>\n",
       "      <td>Own-child</td>\n",
       "      <td>0</td>\n",
       "      <td>0</td>\n",
       "      <td>20</td>\n",
       "      <td>&lt;=50K</td>\n",
       "    </tr>\n",
       "    <tr>\n",
       "      <th>32559</th>\n",
       "      <td>287927</td>\n",
       "      <td>HS-grad</td>\n",
       "      <td>9</td>\n",
       "      <td>Married-civ-spouse</td>\n",
       "      <td>Wife</td>\n",
       "      <td>15024</td>\n",
       "      <td>0</td>\n",
       "      <td>40</td>\n",
       "      <td>&gt;50K</td>\n",
       "    </tr>\n",
       "  </tbody>\n",
       "</table>\n",
       "<p>32560 rows × 9 columns</p>\n",
       "</div>"
      ],
      "text/plain": [
       "       Fnlwgt    Education  Education_num       Marital_status  \\\n",
       "0       83311    Bachelors             13   Married-civ-spouse   \n",
       "1      215646      HS-grad              9             Divorced   \n",
       "2      234721         11th              7   Married-civ-spouse   \n",
       "3      338409    Bachelors             13   Married-civ-spouse   \n",
       "4      284582      Masters             14   Married-civ-spouse   \n",
       "...       ...          ...            ...                  ...   \n",
       "32555  257302   Assoc-acdm             12   Married-civ-spouse   \n",
       "32556  154374      HS-grad              9   Married-civ-spouse   \n",
       "32557  151910      HS-grad              9              Widowed   \n",
       "32558  201490      HS-grad              9        Never-married   \n",
       "32559  287927      HS-grad              9   Married-civ-spouse   \n",
       "\n",
       "         Relationship  Capital_gain  Capital_loss  Hours_per_week  Income  \n",
       "0             Husband             0             0              13   <=50K  \n",
       "1       Not-in-family             0             0              40   <=50K  \n",
       "2             Husband             0             0              40   <=50K  \n",
       "3                Wife             0             0              40   <=50K  \n",
       "4                Wife             0             0              40   <=50K  \n",
       "...               ...           ...           ...             ...     ...  \n",
       "32555            Wife             0             0              38   <=50K  \n",
       "32556         Husband             0             0              40    >50K  \n",
       "32557       Unmarried             0             0              40   <=50K  \n",
       "32558       Own-child             0             0              20   <=50K  \n",
       "32559            Wife         15024             0              40    >50K  \n",
       "\n",
       "[32560 rows x 9 columns]"
      ]
     },
     "execution_count": 30,
     "metadata": {},
     "output_type": "execute_result"
    }
   ],
   "source": [
    "df"
   ]
  },
  {
   "cell_type": "code",
   "execution_count": 31,
   "id": "ae989110",
   "metadata": {},
   "outputs": [
    {
     "data": {
      "image/png": "[encoded data removed]",
      "text/plain": [
       "<Figure size 576x432 with 1 Axes>"
      ]
     },
     "metadata": {
      "needs_background": "light"
     },
     "output_type": "display_data"
    },
    {
     "data": {
      "image/png": "[encoded data removed]",
      "text/plain": [
       "<Figure size 576x432 with 1 Axes>"
      ]
     },
     "metadata": {
      "needs_background": "light"
     },
     "output_type": "display_data"
    },
    {
     "data": {
      "image/png": "[encoded data removed]",
      "text/plain": [
       "<Figure size 576x432 with 1 Axes>"
      ]
     },
     "metadata": {
      "needs_background": "light"
     },
     "output_type": "display_data"
    }
   ],
   "source": [
    "numeric_columns = ['Fnlwgt', 'Capital_gain', 'Capital_loss']\n",
    "\n",
    "for column in numeric_columns:\n",
    "    plt.figure(figsize=(8, 6))  # Adjust the figure size as needed\n",
    "    sns.histplot(data=df, x=column, kde=True)  # Use kde=True to overlay a kernel density estimate\n",
    "    plt.title(f'Distribution of {column}')\n",
    "    plt.show()"
   ]
  },
  {
   "cell_type": "markdown",
   "id": "c9ee4c6e",
   "metadata": {},
   "source": [
    "# we can conclude that there is skewness in the 3 of the column lets reove them first"
   ]
  },
  {
   "cell_type": "code",
   "execution_count": 33,
   "id": "0140dcf1",
   "metadata": {},
   "outputs": [
    {
     "data": {
      "image/png": "[encoded data removed]",
      "text/plain": [
       "<Figure size 1440x1800 with 3 Axes>"
      ]
     },
     "metadata": {},
     "output_type": "display_data"
    }
   ],
   "source": [
    "plt.figure(figsize=(20,25),facecolor='pink')\n",
    "graph = 1\n",
    "\n",
    "for i in numeric_columns:\n",
    "    if graph<=4:\n",
    "        ax = plt.subplot(2,2,graph)\n",
    "        sns.boxplot(df[i])\n",
    "       \n",
    "    \n",
    "    graph+=1\n",
    "plt.show()"
   ]
  },
  {
   "cell_type": "code",
   "execution_count": 34,
   "id": "89216b6e",
   "metadata": {},
   "outputs": [],
   "source": [
    "q1=df.quantile(0.25)\n",
    "q3=df.quantile(0.75)\n",
    "iqr=q3-q1"
   ]
  },
  {
   "cell_type": "code",
   "execution_count": 35,
   "id": "f9eedced",
   "metadata": {},
   "outputs": [
    {
     "data": {
      "text/plain": [
       "415889.0"
      ]
     },
     "execution_count": 35,
     "metadata": {},
     "output_type": "execute_result"
    }
   ],
   "source": [
    "fn=(q3.Fnlwgt + (1.5* iqr.Fnlwgt))\n",
    "fn"
   ]
  },
  {
   "cell_type": "code",
   "execution_count": 36,
   "id": "31dae610",
   "metadata": {},
   "outputs": [
    {
     "data": {
      "text/plain": [
       "(array([   36,    39,    79,   109,   156,   172,   176,   181,   191,\n",
       "          214,   229,   274,   284,   311,   317,   368,   399,   404,\n",
       "          413,   416,   507,   566,   620,   650,   682,   698,   760,\n",
       "          826,   835,   913,   940,   962,  1011,  1033,  1150,  1156,\n",
       "         1181,  1192,  1235,  1288,  1290,  1300,  1313,  1349,  1368,\n",
       "         1376,  1435,  1453,  1507,  1508,  1543,  1596,  1605,  1627,\n",
       "         1653,  1663,  1678,  1745,  1796,  1821,  1846,  1882,  1894,\n",
       "         1949,  1964,  1970,  1978,  1984,  2017,  2034,  2064,  2122,\n",
       "         2181,  2192,  2265,  2321,  2341,  2346,  2356,  2368,  2398,\n",
       "         2471,  2513,  2532,  2574,  2672,  2674,  2759,  2766,  2769,\n",
       "         2771,  2819,  2821,  2823,  2849,  2875,  2899,  2935,  2941,\n",
       "         2945,  2976,  3025,  3149,  3192,  3193,  3236,  3257,  3280,\n",
       "         3285,  3302,  3375,  3408,  3426,  3457,  3476,  3501,  3568,\n",
       "         3570,  3611,  3705,  3718,  3737,  3743,  3746,  3797,  3804,\n",
       "         3807,  3827,  3869,  3900,  3902,  3905,  3943,  3963,  3982,\n",
       "         4059,  4088,  4097,  4106,  4123,  4164,  4194,  4240,  4244,\n",
       "         4277,  4279,  4299,  4318,  4390,  4422,  4453,  4482,  4548,\n",
       "         4557,  4572,  4696,  4728,  4790,  4822,  4917,  4972,  4978,\n",
       "         5018,  5027,  5048,  5070,  5195,  5213,  5277,  5345,  5349,\n",
       "         5368,  5422,  5439,  5504,  5529,  5552,  5606,  5614,  5621,\n",
       "         5705,  5726,  5767,  5768,  5786,  5856,  5857,  5924,  5934,\n",
       "         6013,  6017,  6066,  6143,  6166,  6171,  6188,  6217,  6242,\n",
       "         6256,  6257,  6286,  6305,  6399,  6459,  6487,  6488,  6521,\n",
       "         6541,  6624,  6648,  6661,  6685,  6701,  6731,  6749,  6782,\n",
       "         6799,  6845,  6851,  6878,  6960,  7018,  7032,  7039,  7112,\n",
       "         7120,  7156,  7165,  7166,  7205,  7231,  7273,  7331,  7337,\n",
       "         7350,  7403,  7427,  7432,  7447,  7454,  7503,  7547,  7550,\n",
       "         7597,  7618,  7640,  7662,  7679,  7691,  7699,  7718,  7753,\n",
       "         7761,  7763,  7875,  7899,  7933,  7965,  7996,  8035,  8218,\n",
       "         8226,  8236,  8257,  8275,  8278,  8286,  8302,  8344,  8404,\n",
       "         8432,  8484,  8485,  8488,  8504,  8547,  8554,  8611,  8639,\n",
       "         8657,  8676,  8728,  8750,  8781,  8810,  8822,  8920,  8966,\n",
       "         8997,  9017,  9045,  9077,  9093,  9122,  9205,  9247,  9321,\n",
       "         9354,  9401,  9409,  9425,  9477,  9518,  9548,  9593,  9615,\n",
       "         9699,  9714,  9735,  9747,  9753,  9755,  9774,  9799,  9809,\n",
       "         9857,  9894,  9903,  9913,  9995, 10006, 10010, 10120, 10191,\n",
       "        10205, 10289, 10323, 10399, 10436, 10441, 10461, 10508, 10525,\n",
       "        10603, 10641, 10677, 10682, 10705, 10706, 10718, 10752, 10864,\n",
       "        10887, 10892, 10913, 10925, 11030, 11038, 11055, 11061, 11070,\n",
       "        11089, 11205, 11265, 11294, 11327, 11335, 11338, 11460, 11694,\n",
       "        11729, 11835, 11873, 11883, 11903, 11976, 12027, 12059, 12077,\n",
       "        12094, 12106, 12115, 12129, 12131, 12148, 12152, 12174, 12183,\n",
       "        12201, 12262, 12290, 12331, 12377, 12380, 12384, 12386, 12411,\n",
       "        12476, 12478, 12485, 12510, 12557, 12659, 12665, 12701, 12759,\n",
       "        12782, 12830, 12841, 12846, 12898, 12965, 13016, 13060, 13093,\n",
       "        13108, 13116, 13118, 13145, 13186, 13229, 13239, 13252, 13304,\n",
       "        13306, 13367, 13374, 13443, 13455, 13500, 13519, 13544, 13637,\n",
       "        13642, 13678, 13701, 13732, 13766, 13771, 13795, 13819, 13836,\n",
       "        13912, 13914, 13970, 14050, 14051, 14131, 14160, 14166, 14280,\n",
       "        14321, 14413, 14419, 14448, 14496, 14595, 14645, 14680, 14715,\n",
       "        14772, 14792, 14820, 14839, 14903, 14938, 15007, 15043, 15086,\n",
       "        15098, 15104, 15153, 15203, 15215, 15226, 15341, 15349, 15352,\n",
       "        15359, 15394, 15409, 15414, 15427, 15496, 15508, 15510, 15521,\n",
       "        15550, 15553, 15568, 15668, 15709, 15714, 15727, 15735, 15830,\n",
       "        15898, 15952, 15956, 16054, 16103, 16120, 16161, 16186, 16199,\n",
       "        16235, 16419, 16434, 16440, 16450, 16471, 16481, 16501, 16638,\n",
       "        16664, 16670, 16723, 16731, 16738, 16739, 16767, 16783, 16844,\n",
       "        16891, 16938, 16990, 17030, 17052, 17081, 17118, 17125, 17183,\n",
       "        17249, 17295, 17316, 17320, 17341, 17342, 17356, 17388, 17399,\n",
       "        17424, 17435, 17447, 17454, 17478, 17513, 17534, 17556, 17583,\n",
       "        17592, 17657, 17673, 17695, 17714, 17737, 17742, 17782, 18057,\n",
       "        18073, 18096, 18126, 18137, 18138, 18141, 18147, 18153, 18193,\n",
       "        18238, 18256, 18274, 18280, 18306, 18313, 18335, 18343, 18348,\n",
       "        18518, 18629, 18637, 18762, 18763, 18774, 18858, 18859, 18873,\n",
       "        18881, 18905, 18909, 18988, 18993, 19006, 19154, 19168, 19223,\n",
       "        19251, 19253, 19310, 19316, 19346, 19363, 19429, 19453, 19629,\n",
       "        19651, 19688, 19701, 19775, 19799, 19804, 19831, 19872, 19998,\n",
       "        20015, 20205, 20217, 20227, 20253, 20282, 20286, 20293, 20308,\n",
       "        20317, 20334, 20384, 20439, 20470, 20483, 20487, 20495, 20530,\n",
       "        20535, 20559, 20595, 20666, 20837, 20939, 20942, 20960, 20972,\n",
       "        21024, 21056, 21065, 21081, 21116, 21177, 21185, 21264, 21292,\n",
       "        21315, 21323, 21380, 21385, 21477, 21510, 21520, 21529, 21565,\n",
       "        21596, 21755, 21789, 21803, 21824, 21908, 21921, 21952, 21960,\n",
       "        21968, 21969, 21990, 22048, 22076, 22081, 22106, 22139, 22155,\n",
       "        22207, 22218, 22247, 22358, 22371, 22382, 22407, 22422, 22569,\n",
       "        22652, 22705, 22745, 22804, 22830, 22859, 22887, 22889, 22913,\n",
       "        22931, 22941, 22991, 23031, 23053, 23070, 23142, 23152, 23155,\n",
       "        23178, 23207, 23231, 23265, 23266, 23285, 23358, 23372, 23400,\n",
       "        23431, 23443, 23452, 23522, 23534, 23599, 23638, 23639, 23657,\n",
       "        23662, 23676, 23700, 23730, 23744, 23766, 23804, 23816, 23882,\n",
       "        23902, 23920, 23926, 23933, 24006, 24015, 24049, 24066, 24089,\n",
       "        24095, 24097, 24098, 24199, 24212, 24352, 24460, 24479, 24520,\n",
       "        24530, 24557, 24562, 24572, 24576, 24636, 24748, 24754, 24777,\n",
       "        24859, 24916, 24940, 24997, 25013, 25074, 25097, 25185, 25208,\n",
       "        25277, 25319, 25348, 25356, 25430, 25449, 25494, 25515, 25532,\n",
       "        25547, 25668, 25710, 25715, 25733, 25749, 25760, 25781, 25795,\n",
       "        25802, 25850, 25859, 25887, 25924, 25933, 25937, 25986, 26061,\n",
       "        26098, 26180, 26185, 26212, 26225, 26254, 26273, 26296, 26353,\n",
       "        26381, 26432, 26452, 26503, 26527, 26572, 26668, 26701, 26772,\n",
       "        26789, 26879, 26923, 26933, 26937, 26955, 26958, 26979, 27012,\n",
       "        27038, 27101, 27130, 27166, 27232, 27242, 27294, 27343, 27364,\n",
       "        27370, 27375, 27387, 27404, 27418, 27427, 27443, 27462, 27471,\n",
       "        27487, 27530, 27550, 27564, 27576, 27607, 27623, 27627, 27630,\n",
       "        27667, 27681, 27741, 27771, 27830, 27886, 27914, 27936, 27972,\n",
       "        28043, 28107, 28153, 28162, 28166, 28186, 28189, 28220, 28319,\n",
       "        28344, 28361, 28376, 28382, 28423, 28428, 28452, 28471, 28498,\n",
       "        28573, 28595, 28601, 28640, 28656, 28712, 28721, 28744, 28774,\n",
       "        28859, 28895, 28956, 29005, 29010, 29076, 29092, 29109, 29149,\n",
       "        29154, 29163, 29200, 29238, 29321, 29345, 29346, 29406, 29411,\n",
       "        29412, 29430, 29436, 29446, 29484, 29501, 29533, 29598, 29628,\n",
       "        29648, 29694, 29836, 29891, 29898, 29906, 29913, 29916, 29946,\n",
       "        29985, 29987, 30006, 30015, 30062, 30077, 30089, 30115, 30116,\n",
       "        30125, 30126, 30195, 30206, 30236, 30293, 30334, 30354, 30359,\n",
       "        30360, 30372, 30420, 30448, 30497, 30509, 30519, 30577, 30654,\n",
       "        30717, 30729, 30759, 30805, 30830, 30931, 30936, 30947, 30999,\n",
       "        31115, 31214, 31219, 31249, 31257, 31273, 31274, 31293, 31315,\n",
       "        31346, 31389, 31406, 31427, 31435, 31453, 31478, 31495, 31540,\n",
       "        31542, 31569, 31571, 31581, 31601, 31629, 31674, 31690, 31708,\n",
       "        31761, 31789, 31791, 31807, 31810, 31819, 31861, 31956, 32034,\n",
       "        32144, 32193, 32204, 32207, 32271, 32285, 32305, 32328, 32469,\n",
       "        32495, 32510], dtype=int64),)"
      ]
     },
     "execution_count": 36,
     "metadata": {},
     "output_type": "execute_result"
    }
   ],
   "source": [
    "Fn=np.where(df['Fnlwgt']>fn)\n",
    "Fn"
   ]
  },
  {
   "cell_type": "code",
   "execution_count": 37,
   "id": "3f44359c",
   "metadata": {},
   "outputs": [
    {
     "data": {
      "text/html": [
       "<div>\n",
       "<style scoped>\n",
       "    .dataframe tbody tr th:only-of-type {\n",
       "        vertical-align: middle;\n",
       "    }\n",
       "\n",
       "    .dataframe tbody tr th {\n",
       "        vertical-align: top;\n",
       "    }\n",
       "\n",
       "    .dataframe thead th {\n",
       "        text-align: right;\n",
       "    }\n",
       "</style>\n",
       "<table border=\"1\" class=\"dataframe\">\n",
       "  <thead>\n",
       "    <tr style=\"text-align: right;\">\n",
       "      <th></th>\n",
       "      <th>Fnlwgt</th>\n",
       "      <th>Education</th>\n",
       "      <th>Education_num</th>\n",
       "      <th>Marital_status</th>\n",
       "      <th>Relationship</th>\n",
       "      <th>Capital_gain</th>\n",
       "      <th>Capital_loss</th>\n",
       "      <th>Hours_per_week</th>\n",
       "      <th>Income</th>\n",
       "    </tr>\n",
       "  </thead>\n",
       "  <tbody>\n",
       "    <tr>\n",
       "      <th>0</th>\n",
       "      <td>83311</td>\n",
       "      <td>Bachelors</td>\n",
       "      <td>13</td>\n",
       "      <td>Married-civ-spouse</td>\n",
       "      <td>Husband</td>\n",
       "      <td>0</td>\n",
       "      <td>0</td>\n",
       "      <td>13</td>\n",
       "      <td>&lt;=50K</td>\n",
       "    </tr>\n",
       "    <tr>\n",
       "      <th>1</th>\n",
       "      <td>215646</td>\n",
       "      <td>HS-grad</td>\n",
       "      <td>9</td>\n",
       "      <td>Divorced</td>\n",
       "      <td>Not-in-family</td>\n",
       "      <td>0</td>\n",
       "      <td>0</td>\n",
       "      <td>40</td>\n",
       "      <td>&lt;=50K</td>\n",
       "    </tr>\n",
       "    <tr>\n",
       "      <th>2</th>\n",
       "      <td>234721</td>\n",
       "      <td>11th</td>\n",
       "      <td>7</td>\n",
       "      <td>Married-civ-spouse</td>\n",
       "      <td>Husband</td>\n",
       "      <td>0</td>\n",
       "      <td>0</td>\n",
       "      <td>40</td>\n",
       "      <td>&lt;=50K</td>\n",
       "    </tr>\n",
       "    <tr>\n",
       "      <th>3</th>\n",
       "      <td>338409</td>\n",
       "      <td>Bachelors</td>\n",
       "      <td>13</td>\n",
       "      <td>Married-civ-spouse</td>\n",
       "      <td>Wife</td>\n",
       "      <td>0</td>\n",
       "      <td>0</td>\n",
       "      <td>40</td>\n",
       "      <td>&lt;=50K</td>\n",
       "    </tr>\n",
       "    <tr>\n",
       "      <th>4</th>\n",
       "      <td>284582</td>\n",
       "      <td>Masters</td>\n",
       "      <td>14</td>\n",
       "      <td>Married-civ-spouse</td>\n",
       "      <td>Wife</td>\n",
       "      <td>0</td>\n",
       "      <td>0</td>\n",
       "      <td>40</td>\n",
       "      <td>&lt;=50K</td>\n",
       "    </tr>\n",
       "    <tr>\n",
       "      <th>...</th>\n",
       "      <td>...</td>\n",
       "      <td>...</td>\n",
       "      <td>...</td>\n",
       "      <td>...</td>\n",
       "      <td>...</td>\n",
       "      <td>...</td>\n",
       "      <td>...</td>\n",
       "      <td>...</td>\n",
       "      <td>...</td>\n",
       "    </tr>\n",
       "    <tr>\n",
       "      <th>32555</th>\n",
       "      <td>257302</td>\n",
       "      <td>Assoc-acdm</td>\n",
       "      <td>12</td>\n",
       "      <td>Married-civ-spouse</td>\n",
       "      <td>Wife</td>\n",
       "      <td>0</td>\n",
       "      <td>0</td>\n",
       "      <td>38</td>\n",
       "      <td>&lt;=50K</td>\n",
       "    </tr>\n",
       "    <tr>\n",
       "      <th>32556</th>\n",
       "      <td>154374</td>\n",
       "      <td>HS-grad</td>\n",
       "      <td>9</td>\n",
       "      <td>Married-civ-spouse</td>\n",
       "      <td>Husband</td>\n",
       "      <td>0</td>\n",
       "      <td>0</td>\n",
       "      <td>40</td>\n",
       "      <td>&gt;50K</td>\n",
       "    </tr>\n",
       "    <tr>\n",
       "      <th>32557</th>\n",
       "      <td>151910</td>\n",
       "      <td>HS-grad</td>\n",
       "      <td>9</td>\n",
       "      <td>Widowed</td>\n",
       "      <td>Unmarried</td>\n",
       "      <td>0</td>\n",
       "      <td>0</td>\n",
       "      <td>40</td>\n",
       "      <td>&lt;=50K</td>\n",
       "    </tr>\n",
       "    <tr>\n",
       "      <th>32558</th>\n",
       "      <td>201490</td>\n",
       "      <td>HS-grad</td>\n",
       "      <td>9</td>\n",
       "      <td>Never-married</td>\n",
       "      <td>Own-child</td>\n",
       "      <td>0</td>\n",
       "      <td>0</td>\n",
       "      <td>20</td>\n",
       "      <td>&lt;=50K</td>\n",
       "    </tr>\n",
       "    <tr>\n",
       "      <th>32559</th>\n",
       "      <td>287927</td>\n",
       "      <td>HS-grad</td>\n",
       "      <td>9</td>\n",
       "      <td>Married-civ-spouse</td>\n",
       "      <td>Wife</td>\n",
       "      <td>15024</td>\n",
       "      <td>0</td>\n",
       "      <td>40</td>\n",
       "      <td>&gt;50K</td>\n",
       "    </tr>\n",
       "  </tbody>\n",
       "</table>\n",
       "<p>31568 rows × 9 columns</p>\n",
       "</div>"
      ],
      "text/plain": [
       "       Fnlwgt    Education  Education_num       Marital_status  \\\n",
       "0       83311    Bachelors             13   Married-civ-spouse   \n",
       "1      215646      HS-grad              9             Divorced   \n",
       "2      234721         11th              7   Married-civ-spouse   \n",
       "3      338409    Bachelors             13   Married-civ-spouse   \n",
       "4      284582      Masters             14   Married-civ-spouse   \n",
       "...       ...          ...            ...                  ...   \n",
       "32555  257302   Assoc-acdm             12   Married-civ-spouse   \n",
       "32556  154374      HS-grad              9   Married-civ-spouse   \n",
       "32557  151910      HS-grad              9              Widowed   \n",
       "32558  201490      HS-grad              9        Never-married   \n",
       "32559  287927      HS-grad              9   Married-civ-spouse   \n",
       "\n",
       "         Relationship  Capital_gain  Capital_loss  Hours_per_week  Income  \n",
       "0             Husband             0             0              13   <=50K  \n",
       "1       Not-in-family             0             0              40   <=50K  \n",
       "2             Husband             0             0              40   <=50K  \n",
       "3                Wife             0             0              40   <=50K  \n",
       "4                Wife             0             0              40   <=50K  \n",
       "...               ...           ...           ...             ...     ...  \n",
       "32555            Wife             0             0              38   <=50K  \n",
       "32556         Husband             0             0              40    >50K  \n",
       "32557       Unmarried             0             0              40   <=50K  \n",
       "32558       Own-child             0             0              20   <=50K  \n",
       "32559            Wife         15024             0              40    >50K  \n",
       "\n",
       "[31568 rows x 9 columns]"
      ]
     },
     "execution_count": 37,
     "metadata": {},
     "output_type": "execute_result"
    }
   ],
   "source": [
    "df=df.drop(df.index[Fn])\n",
    "df"
   ]
  },
  {
   "cell_type": "code",
   "execution_count": 38,
   "id": "efb8b28d",
   "metadata": {},
   "outputs": [
    {
     "data": {
      "text/plain": [
       "0.0"
      ]
     },
     "execution_count": 38,
     "metadata": {},
     "output_type": "execute_result"
    }
   ],
   "source": [
    "cg=(q3.Capital_gain + (1.5 * iqr.Capital_gain))\n",
    "cg"
   ]
  },
  {
   "cell_type": "code",
   "execution_count": 39,
   "id": "ced08b51",
   "metadata": {},
   "outputs": [
    {
     "data": {
      "text/plain": [
       "(array([    7,     8,    56, ..., 31545, 31555, 31567], dtype=int64),)"
      ]
     },
     "execution_count": 39,
     "metadata": {},
     "output_type": "execute_result"
    }
   ],
   "source": [
    "CG=np.where(df['Capital_gain']>cg)\n",
    "CG"
   ]
  },
  {
   "cell_type": "markdown",
   "id": "146df396",
   "metadata": {},
   "source": [
    "# We will not remove the outliers in the other two column because the result is showing 0 which means that might be there are no outliers present in the data frame so no need to remove the outliers bin the other 2 column"
   ]
  },
  {
   "cell_type": "code",
   "execution_count": 40,
   "id": "b832394b",
   "metadata": {},
   "outputs": [
    {
     "data": {
      "text/html": [
       "<div>\n",
       "<style scoped>\n",
       "    .dataframe tbody tr th:only-of-type {\n",
       "        vertical-align: middle;\n",
       "    }\n",
       "\n",
       "    .dataframe tbody tr th {\n",
       "        vertical-align: top;\n",
       "    }\n",
       "\n",
       "    .dataframe thead th {\n",
       "        text-align: right;\n",
       "    }\n",
       "</style>\n",
       "<table border=\"1\" class=\"dataframe\">\n",
       "  <thead>\n",
       "    <tr style=\"text-align: right;\">\n",
       "      <th></th>\n",
       "      <th>Fnlwgt</th>\n",
       "      <th>Education_num</th>\n",
       "      <th>Capital_gain</th>\n",
       "      <th>Capital_loss</th>\n",
       "      <th>Hours_per_week</th>\n",
       "      <th>Education_ 11th</th>\n",
       "      <th>Education_ 12th</th>\n",
       "      <th>Education_ 1st-4th</th>\n",
       "      <th>Education_ 5th-6th</th>\n",
       "      <th>Education_ 7th-8th</th>\n",
       "      <th>...</th>\n",
       "      <th>Marital_status_ Married-spouse-absent</th>\n",
       "      <th>Marital_status_ Never-married</th>\n",
       "      <th>Marital_status_ Separated</th>\n",
       "      <th>Marital_status_ Widowed</th>\n",
       "      <th>Relationship_ Not-in-family</th>\n",
       "      <th>Relationship_ Other-relative</th>\n",
       "      <th>Relationship_ Own-child</th>\n",
       "      <th>Relationship_ Unmarried</th>\n",
       "      <th>Relationship_ Wife</th>\n",
       "      <th>Income_ &gt;50K</th>\n",
       "    </tr>\n",
       "  </thead>\n",
       "  <tbody>\n",
       "    <tr>\n",
       "      <th>0</th>\n",
       "      <td>83311</td>\n",
       "      <td>13</td>\n",
       "      <td>0</td>\n",
       "      <td>0</td>\n",
       "      <td>13</td>\n",
       "      <td>0</td>\n",
       "      <td>0</td>\n",
       "      <td>0</td>\n",
       "      <td>0</td>\n",
       "      <td>0</td>\n",
       "      <td>...</td>\n",
       "      <td>0</td>\n",
       "      <td>0</td>\n",
       "      <td>0</td>\n",
       "      <td>0</td>\n",
       "      <td>0</td>\n",
       "      <td>0</td>\n",
       "      <td>0</td>\n",
       "      <td>0</td>\n",
       "      <td>0</td>\n",
       "      <td>0</td>\n",
       "    </tr>\n",
       "    <tr>\n",
       "      <th>1</th>\n",
       "      <td>215646</td>\n",
       "      <td>9</td>\n",
       "      <td>0</td>\n",
       "      <td>0</td>\n",
       "      <td>40</td>\n",
       "      <td>0</td>\n",
       "      <td>0</td>\n",
       "      <td>0</td>\n",
       "      <td>0</td>\n",
       "      <td>0</td>\n",
       "      <td>...</td>\n",
       "      <td>0</td>\n",
       "      <td>0</td>\n",
       "      <td>0</td>\n",
       "      <td>0</td>\n",
       "      <td>1</td>\n",
       "      <td>0</td>\n",
       "      <td>0</td>\n",
       "      <td>0</td>\n",
       "      <td>0</td>\n",
       "      <td>0</td>\n",
       "    </tr>\n",
       "    <tr>\n",
       "      <th>2</th>\n",
       "      <td>234721</td>\n",
       "      <td>7</td>\n",
       "      <td>0</td>\n",
       "      <td>0</td>\n",
       "      <td>40</td>\n",
       "      <td>1</td>\n",
       "      <td>0</td>\n",
       "      <td>0</td>\n",
       "      <td>0</td>\n",
       "      <td>0</td>\n",
       "      <td>...</td>\n",
       "      <td>0</td>\n",
       "      <td>0</td>\n",
       "      <td>0</td>\n",
       "      <td>0</td>\n",
       "      <td>0</td>\n",
       "      <td>0</td>\n",
       "      <td>0</td>\n",
       "      <td>0</td>\n",
       "      <td>0</td>\n",
       "      <td>0</td>\n",
       "    </tr>\n",
       "    <tr>\n",
       "      <th>3</th>\n",
       "      <td>338409</td>\n",
       "      <td>13</td>\n",
       "      <td>0</td>\n",
       "      <td>0</td>\n",
       "      <td>40</td>\n",
       "      <td>0</td>\n",
       "      <td>0</td>\n",
       "      <td>0</td>\n",
       "      <td>0</td>\n",
       "      <td>0</td>\n",
       "      <td>...</td>\n",
       "      <td>0</td>\n",
       "      <td>0</td>\n",
       "      <td>0</td>\n",
       "      <td>0</td>\n",
       "      <td>0</td>\n",
       "      <td>0</td>\n",
       "      <td>0</td>\n",
       "      <td>0</td>\n",
       "      <td>1</td>\n",
       "      <td>0</td>\n",
       "    </tr>\n",
       "    <tr>\n",
       "      <th>4</th>\n",
       "      <td>284582</td>\n",
       "      <td>14</td>\n",
       "      <td>0</td>\n",
       "      <td>0</td>\n",
       "      <td>40</td>\n",
       "      <td>0</td>\n",
       "      <td>0</td>\n",
       "      <td>0</td>\n",
       "      <td>0</td>\n",
       "      <td>0</td>\n",
       "      <td>...</td>\n",
       "      <td>0</td>\n",
       "      <td>0</td>\n",
       "      <td>0</td>\n",
       "      <td>0</td>\n",
       "      <td>0</td>\n",
       "      <td>0</td>\n",
       "      <td>0</td>\n",
       "      <td>0</td>\n",
       "      <td>1</td>\n",
       "      <td>0</td>\n",
       "    </tr>\n",
       "    <tr>\n",
       "      <th>...</th>\n",
       "      <td>...</td>\n",
       "      <td>...</td>\n",
       "      <td>...</td>\n",
       "      <td>...</td>\n",
       "      <td>...</td>\n",
       "      <td>...</td>\n",
       "      <td>...</td>\n",
       "      <td>...</td>\n",
       "      <td>...</td>\n",
       "      <td>...</td>\n",
       "      <td>...</td>\n",
       "      <td>...</td>\n",
       "      <td>...</td>\n",
       "      <td>...</td>\n",
       "      <td>...</td>\n",
       "      <td>...</td>\n",
       "      <td>...</td>\n",
       "      <td>...</td>\n",
       "      <td>...</td>\n",
       "      <td>...</td>\n",
       "      <td>...</td>\n",
       "    </tr>\n",
       "    <tr>\n",
       "      <th>32555</th>\n",
       "      <td>257302</td>\n",
       "      <td>12</td>\n",
       "      <td>0</td>\n",
       "      <td>0</td>\n",
       "      <td>38</td>\n",
       "      <td>0</td>\n",
       "      <td>0</td>\n",
       "      <td>0</td>\n",
       "      <td>0</td>\n",
       "      <td>0</td>\n",
       "      <td>...</td>\n",
       "      <td>0</td>\n",
       "      <td>0</td>\n",
       "      <td>0</td>\n",
       "      <td>0</td>\n",
       "      <td>0</td>\n",
       "      <td>0</td>\n",
       "      <td>0</td>\n",
       "      <td>0</td>\n",
       "      <td>1</td>\n",
       "      <td>0</td>\n",
       "    </tr>\n",
       "    <tr>\n",
       "      <th>32556</th>\n",
       "      <td>154374</td>\n",
       "      <td>9</td>\n",
       "      <td>0</td>\n",
       "      <td>0</td>\n",
       "      <td>40</td>\n",
       "      <td>0</td>\n",
       "      <td>0</td>\n",
       "      <td>0</td>\n",
       "      <td>0</td>\n",
       "      <td>0</td>\n",
       "      <td>...</td>\n",
       "      <td>0</td>\n",
       "      <td>0</td>\n",
       "      <td>0</td>\n",
       "      <td>0</td>\n",
       "      <td>0</td>\n",
       "      <td>0</td>\n",
       "      <td>0</td>\n",
       "      <td>0</td>\n",
       "      <td>0</td>\n",
       "      <td>1</td>\n",
       "    </tr>\n",
       "    <tr>\n",
       "      <th>32557</th>\n",
       "      <td>151910</td>\n",
       "      <td>9</td>\n",
       "      <td>0</td>\n",
       "      <td>0</td>\n",
       "      <td>40</td>\n",
       "      <td>0</td>\n",
       "      <td>0</td>\n",
       "      <td>0</td>\n",
       "      <td>0</td>\n",
       "      <td>0</td>\n",
       "      <td>...</td>\n",
       "      <td>0</td>\n",
       "      <td>0</td>\n",
       "      <td>0</td>\n",
       "      <td>1</td>\n",
       "      <td>0</td>\n",
       "      <td>0</td>\n",
       "      <td>0</td>\n",
       "      <td>1</td>\n",
       "      <td>0</td>\n",
       "      <td>0</td>\n",
       "    </tr>\n",
       "    <tr>\n",
       "      <th>32558</th>\n",
       "      <td>201490</td>\n",
       "      <td>9</td>\n",
       "      <td>0</td>\n",
       "      <td>0</td>\n",
       "      <td>20</td>\n",
       "      <td>0</td>\n",
       "      <td>0</td>\n",
       "      <td>0</td>\n",
       "      <td>0</td>\n",
       "      <td>0</td>\n",
       "      <td>...</td>\n",
       "      <td>0</td>\n",
       "      <td>1</td>\n",
       "      <td>0</td>\n",
       "      <td>0</td>\n",
       "      <td>0</td>\n",
       "      <td>0</td>\n",
       "      <td>1</td>\n",
       "      <td>0</td>\n",
       "      <td>0</td>\n",
       "      <td>0</td>\n",
       "    </tr>\n",
       "    <tr>\n",
       "      <th>32559</th>\n",
       "      <td>287927</td>\n",
       "      <td>9</td>\n",
       "      <td>15024</td>\n",
       "      <td>0</td>\n",
       "      <td>40</td>\n",
       "      <td>0</td>\n",
       "      <td>0</td>\n",
       "      <td>0</td>\n",
       "      <td>0</td>\n",
       "      <td>0</td>\n",
       "      <td>...</td>\n",
       "      <td>0</td>\n",
       "      <td>0</td>\n",
       "      <td>0</td>\n",
       "      <td>0</td>\n",
       "      <td>0</td>\n",
       "      <td>0</td>\n",
       "      <td>0</td>\n",
       "      <td>0</td>\n",
       "      <td>1</td>\n",
       "      <td>1</td>\n",
       "    </tr>\n",
       "  </tbody>\n",
       "</table>\n",
       "<p>31568 rows × 32 columns</p>\n",
       "</div>"
      ],
      "text/plain": [
       "       Fnlwgt  Education_num  Capital_gain  Capital_loss  Hours_per_week  \\\n",
       "0       83311             13             0             0              13   \n",
       "1      215646              9             0             0              40   \n",
       "2      234721              7             0             0              40   \n",
       "3      338409             13             0             0              40   \n",
       "4      284582             14             0             0              40   \n",
       "...       ...            ...           ...           ...             ...   \n",
       "32555  257302             12             0             0              38   \n",
       "32556  154374              9             0             0              40   \n",
       "32557  151910              9             0             0              40   \n",
       "32558  201490              9             0             0              20   \n",
       "32559  287927              9         15024             0              40   \n",
       "\n",
       "       Education_ 11th  Education_ 12th  Education_ 1st-4th  \\\n",
       "0                    0                0                   0   \n",
       "1                    0                0                   0   \n",
       "2                    1                0                   0   \n",
       "3                    0                0                   0   \n",
       "4                    0                0                   0   \n",
       "...                ...              ...                 ...   \n",
       "32555                0                0                   0   \n",
       "32556                0                0                   0   \n",
       "32557                0                0                   0   \n",
       "32558                0                0                   0   \n",
       "32559                0                0                   0   \n",
       "\n",
       "       Education_ 5th-6th  Education_ 7th-8th  ...  \\\n",
       "0                       0                   0  ...   \n",
       "1                       0                   0  ...   \n",
       "2                       0                   0  ...   \n",
       "3                       0                   0  ...   \n",
       "4                       0                   0  ...   \n",
       "...                   ...                 ...  ...   \n",
       "32555                   0                   0  ...   \n",
       "32556                   0                   0  ...   \n",
       "32557                   0                   0  ...   \n",
       "32558                   0                   0  ...   \n",
       "32559                   0                   0  ...   \n",
       "\n",
       "       Marital_status_ Married-spouse-absent  Marital_status_ Never-married  \\\n",
       "0                                          0                              0   \n",
       "1                                          0                              0   \n",
       "2                                          0                              0   \n",
       "3                                          0                              0   \n",
       "4                                          0                              0   \n",
       "...                                      ...                            ...   \n",
       "32555                                      0                              0   \n",
       "32556                                      0                              0   \n",
       "32557                                      0                              0   \n",
       "32558                                      0                              1   \n",
       "32559                                      0                              0   \n",
       "\n",
       "       Marital_status_ Separated  Marital_status_ Widowed  \\\n",
       "0                              0                        0   \n",
       "1                              0                        0   \n",
       "2                              0                        0   \n",
       "3                              0                        0   \n",
       "4                              0                        0   \n",
       "...                          ...                      ...   \n",
       "32555                          0                        0   \n",
       "32556                          0                        0   \n",
       "32557                          0                        1   \n",
       "32558                          0                        0   \n",
       "32559                          0                        0   \n",
       "\n",
       "       Relationship_ Not-in-family  Relationship_ Other-relative  \\\n",
       "0                                0                             0   \n",
       "1                                1                             0   \n",
       "2                                0                             0   \n",
       "3                                0                             0   \n",
       "4                                0                             0   \n",
       "...                            ...                           ...   \n",
       "32555                            0                             0   \n",
       "32556                            0                             0   \n",
       "32557                            0                             0   \n",
       "32558                            0                             0   \n",
       "32559                            0                             0   \n",
       "\n",
       "       Relationship_ Own-child  Relationship_ Unmarried  Relationship_ Wife  \\\n",
       "0                            0                        0                   0   \n",
       "1                            0                        0                   0   \n",
       "2                            0                        0                   0   \n",
       "3                            0                        0                   1   \n",
       "4                            0                        0                   1   \n",
       "...                        ...                      ...                 ...   \n",
       "32555                        0                        0                   1   \n",
       "32556                        0                        0                   0   \n",
       "32557                        0                        1                   0   \n",
       "32558                        1                        0                   0   \n",
       "32559                        0                        0                   1   \n",
       "\n",
       "       Income_ >50K  \n",
       "0                 0  \n",
       "1                 0  \n",
       "2                 0  \n",
       "3                 0  \n",
       "4                 0  \n",
       "...             ...  \n",
       "32555             0  \n",
       "32556             1  \n",
       "32557             0  \n",
       "32558             0  \n",
       "32559             1  \n",
       "\n",
       "[31568 rows x 32 columns]"
      ]
     },
     "execution_count": 40,
     "metadata": {},
     "output_type": "execute_result"
    }
   ],
   "source": [
    "df=pd.get_dummies(df,drop_first=True)\n",
    "df"
   ]
  },
  {
   "cell_type": "code",
   "execution_count": 41,
   "id": "7a3597f4",
   "metadata": {},
   "outputs": [],
   "source": [
    "from sklearn.preprocessing import StandardScaler\n",
    "from sklearn.linear_model import LogisticRegression\n",
    "from sklearn.model_selection import train_test_split, cross_val_score\n",
    "from sklearn.metrics import accuracy_score, confusion_matrix,classification_report"
   ]
  },
  {
   "cell_type": "code",
   "execution_count": 43,
   "id": "83b13689",
   "metadata": {},
   "outputs": [],
   "source": [
    "X=df.drop('Income_ >50K',axis=1)\n",
    "Y=df['Income_ >50K']"
   ]
  },
  {
   "cell_type": "code",
   "execution_count": 44,
   "id": "30a4b6a8",
   "metadata": {},
   "outputs": [],
   "source": [
    "scaller=StandardScaler()\n",
    "X_scaled=scaller.fit_transform(X)"
   ]
  },
  {
   "cell_type": "code",
   "execution_count": 46,
   "id": "71317f9f",
   "metadata": {},
   "outputs": [
    {
     "data": {
      "text/plain": [
       "((31568, 31), (31568,))"
      ]
     },
     "execution_count": 46,
     "metadata": {},
     "output_type": "execute_result"
    }
   ],
   "source": [
    "X.shape,Y.shape"
   ]
  },
  {
   "cell_type": "code",
   "execution_count": 48,
   "id": "2cad0bc5",
   "metadata": {},
   "outputs": [
    {
     "name": "stdout",
     "output_type": "stream",
     "text": [
      "Best accuracy is 0.8134304719670573 on Random_state 279\n"
     ]
    }
   ],
   "source": [
    "maxAccu=0\n",
    "maxRS=0\n",
    "for i in range(50,300):\n",
    "    X_train,X_test,Y_train,Y_test = train_test_split(X,Y,test_size = 0.3, random_state=i)\n",
    "    log_reg=LogisticRegression()\n",
    "    log_reg.fit(X_train,Y_train)\n",
    "    y_pred=log_reg.predict(X_test)\n",
    "    acc=accuracy_score(Y_test,y_pred)\n",
    "    if acc>maxAccu:\n",
    "        maxAccu=acc\n",
    "        maxRS=i\n",
    "print('Best accuracy is', maxAccu ,'on Random_state', maxRS)"
   ]
  },
  {
   "cell_type": "code",
   "execution_count": 49,
   "id": "7f49ac5c",
   "metadata": {},
   "outputs": [
    {
     "name": "stdout",
     "output_type": "stream",
     "text": [
      "\u001b[1mLogistics Regression Evaluation\u001b[0m\n",
      "\n",
      "\n",
      "\u001b[1mAccuracy Score of Logistics Regression :\u001b[0m 0.8434167458557702\n",
      "\n",
      "\n",
      "\u001b[1mConfusion matrix of Logistics Regression :\u001b[0m \n",
      " [[6679  476]\n",
      " [1007 1309]]\n",
      "\n",
      "\n",
      "\u001b[1mclassification Report of Logistics Regression\u001b[0m \n",
      "               precision    recall  f1-score   support\n",
      "\n",
      "           0       0.87      0.93      0.90      7155\n",
      "           1       0.73      0.57      0.64      2316\n",
      "\n",
      "    accuracy                           0.84      9471\n",
      "   macro avg       0.80      0.75      0.77      9471\n",
      "weighted avg       0.84      0.84      0.84      9471\n",
      "\n"
     ]
    }
   ],
   "source": [
    "X_train, X_test, Y_train, Y_test = train_test_split(X_scaled, Y, random_state=279, test_size=0.3)\n",
    "log_reg=LogisticRegression()\n",
    "log_reg.fit(X_train,Y_train)\n",
    "y_pred=log_reg.predict(X_test)\n",
    "print('\\033[1m'+'Logistics Regression Evaluation'+'\\033[0m')\n",
    "print('\\n')\n",
    "print('\\033[1m'+'Accuracy Score of Logistics Regression :'+'\\033[0m', accuracy_score(Y_test, y_pred))\n",
    "print('\\n')\n",
    "print('\\033[1m'+'Confusion matrix of Logistics Regression :'+'\\033[0m \\n',confusion_matrix(Y_test, y_pred))\n",
    "print('\\n')\n",
    "print('\\033[1m'+'classification Report of Logistics Regression'+'\\033[0m \\n',classification_report(Y_test, y_pred))"
   ]
  },
  {
   "cell_type": "code",
   "execution_count": 50,
   "id": "5294281a",
   "metadata": {},
   "outputs": [
    {
     "name": "stdout",
     "output_type": "stream",
     "text": [
      "\u001b[1mCross Validation Score LogisticRegression() :\u001b[0m\n",
      "\n",
      "CVScore : [0.83766234 0.84114666 0.84336395 0.846032   0.84270553]\n",
      "Mean CV Score : 0.8421820949485503\n",
      "Std deviation : 0.0027565505879850907\n"
     ]
    }
   ],
   "source": [
    "CVscore = cross_val_score(log_reg, X_scaled, Y, cv =5)\n",
    "print('\\033[1m'+'Cross Validation Score', log_reg, ':'+'\\033[0m\\n')\n",
    "print(\"CVScore :\" ,CVscore)\n",
    "print(\"Mean CV Score :\",CVscore.mean())\n",
    "print(\"Std deviation :\",CVscore.std())"
   ]
  },
  {
   "cell_type": "code",
   "execution_count": 51,
   "id": "0c745e00",
   "metadata": {},
   "outputs": [],
   "source": [
    "from sklearn.tree import DecisionTreeClassifier\n",
    "from sklearn.neighbors import KNeighborsClassifier\n",
    "from sklearn.ensemble import RandomForestClassifier"
   ]
  },
  {
   "cell_type": "code",
   "execution_count": 87,
   "id": "94a6901e",
   "metadata": {},
   "outputs": [
    {
     "name": "stdout",
     "output_type": "stream",
     "text": [
      "\u001b[1mK Neighbors Classifier\u001b[0m\n",
      "\n",
      "\n",
      "\u001b[1mAccuracy Score of KNeighborsClassifier :\u001b[0m 0.8247281174110442\n",
      "\n",
      "\n",
      "\u001b[1mConfusion matrix of KNeighborsClassifier :\u001b[0m \n",
      " [[6543  612]\n",
      " [1048 1268]]\n",
      "\n",
      "\n",
      "\u001b[1mclassification Report of KNeighborsClassifier\u001b[0m \n",
      "               precision    recall  f1-score   support\n",
      "\n",
      "           0       0.86      0.91      0.89      7155\n",
      "           1       0.67      0.55      0.60      2316\n",
      "\n",
      "    accuracy                           0.82      9471\n",
      "   macro avg       0.77      0.73      0.75      9471\n",
      "weighted avg       0.82      0.82      0.82      9471\n",
      "\n"
     ]
    }
   ],
   "source": [
    "knn=KNeighborsClassifier()\n",
    "knn.fit(X_train,Y_train)\n",
    "y_pred=knn.predict(X_test)\n",
    "print('\\033[1m'+'K Neighbors Classifier'+'\\033[0m')\n",
    "print('\\n')\n",
    "print('\\033[1m'+'Accuracy Score of KNeighborsClassifier :'+'\\033[0m', accuracy_score(Y_test, y_pred))\n",
    "print('\\n')\n",
    "print('\\033[1m'+'Confusion matrix of KNeighborsClassifier :'+'\\033[0m \\n',confusion_matrix(Y_test, y_pred))\n",
    "print('\\n')\n",
    "print('\\033[1m'+'classification Report of KNeighborsClassifier'+'\\033[0m \\n',classification_report(Y_test, y_pred))"
   ]
  },
  {
   "cell_type": "code",
   "execution_count": 59,
   "id": "bc97bf11",
   "metadata": {},
   "outputs": [
    {
     "name": "stdout",
     "output_type": "stream",
     "text": [
      "\u001b[1mCross Validation Score KNeighborsClassifier() :\u001b[0m\n",
      "\n",
      "CVScore : [0.82293316 0.82324992 0.82546722 0.83019167 0.81910344]\n",
      "Mean CV Score : 0.8241890812513569\n",
      "Std deviation : 0.0036328445760230085\n"
     ]
    }
   ],
   "source": [
    "CVscore = cross_val_score(knn, X_scaled, Y, cv =5)\n",
    "print('\\033[1m'+'Cross Validation Score', knn, ':'+'\\033[0m\\n')\n",
    "print(\"CVScore :\" ,CVscore)\n",
    "print(\"Mean CV Score :\",CVscore.mean())\n",
    "print(\"Std deviation :\",CVscore.std())"
   ]
  },
  {
   "cell_type": "code",
   "execution_count": 55,
   "id": "fc69f7e1",
   "metadata": {},
   "outputs": [
    {
     "name": "stdout",
     "output_type": "stream",
     "text": [
      "\u001b[1mDecision Tree Classifier Evaluation\u001b[0m\n",
      "\n",
      "\n",
      "\u001b[1mAccuracy Score of Decision Tree Classifier :\u001b[0m 0.8038221940660965\n",
      "\n",
      "\n",
      "\u001b[1mConfusion matrix of Decision Tree Classifier :\u001b[0m \n",
      " [[6243  912]\n",
      " [ 946 1370]]\n",
      "\n",
      "\n",
      "\u001b[1mclassification Report of Decision Tree Classifier\u001b[0m \n",
      "               precision    recall  f1-score   support\n",
      "\n",
      "           0       0.87      0.87      0.87      7155\n",
      "           1       0.60      0.59      0.60      2316\n",
      "\n",
      "    accuracy                           0.80      9471\n",
      "   macro avg       0.73      0.73      0.73      9471\n",
      "weighted avg       0.80      0.80      0.80      9471\n",
      "\n"
     ]
    }
   ],
   "source": [
    "dtc=DecisionTreeClassifier()\n",
    "dtc.fit(X_train,Y_train)\n",
    "y_pred=dtc.predict(X_test)\n",
    "print('\\033[1m'+'Decision Tree Classifier Evaluation'+'\\033[0m')\n",
    "print('\\n')\n",
    "print('\\033[1m'+'Accuracy Score of Decision Tree Classifier :'+'\\033[0m', accuracy_score(Y_test, y_pred))\n",
    "print('\\n')\n",
    "print('\\033[1m'+'Confusion matrix of Decision Tree Classifier :'+'\\033[0m \\n',confusion_matrix(Y_test, y_pred))\n",
    "print('\\n')\n",
    "print('\\033[1m'+'classification Report of Decision Tree Classifier'+'\\033[0m \\n',classification_report(Y_test, y_pred))"
   ]
  },
  {
   "cell_type": "code",
   "execution_count": 60,
   "id": "b3cd6f47",
   "metadata": {},
   "outputs": [
    {
     "name": "stdout",
     "output_type": "stream",
     "text": [
      "\u001b[1mCross Validation Score DecisionTreeClassifier() :\u001b[0m\n",
      "\n",
      "CVScore : [0.81026291 0.79901806 0.80709534 0.8076984  0.80801521]\n",
      "Mean CV Score : 0.8064179826926463\n",
      "Std deviation : 0.0038520588963691493\n"
     ]
    }
   ],
   "source": [
    "CVscore = cross_val_score(dtc, X_scaled, Y, cv =5)\n",
    "print('\\033[1m'+'Cross Validation Score', dtc, ':'+'\\033[0m\\n')\n",
    "print(\"CVScore :\" ,CVscore)\n",
    "print(\"Mean CV Score :\",CVscore.mean())\n",
    "print(\"Std deviation :\",CVscore.std())"
   ]
  },
  {
   "cell_type": "code",
   "execution_count": 56,
   "id": "5fc0c0c9",
   "metadata": {},
   "outputs": [
    {
     "name": "stdout",
     "output_type": "stream",
     "text": [
      "\u001b[1mDecision Tree Classifier Evaluation\u001b[0m\n",
      "\n",
      "\n",
      "\u001b[1mAccuracy Score of Random Forest Classifier  :\u001b[0m 0.8038221940660965\n",
      "\n",
      "\n",
      "\u001b[1mConfusion matrix of Random Forest Classifier  :\u001b[0m \n",
      " [[6243  912]\n",
      " [ 946 1370]]\n",
      "\n",
      "\n",
      "\u001b[1mclassification Report of Random Forest Classifier \u001b[0m \n",
      "               precision    recall  f1-score   support\n",
      "\n",
      "           0       0.87      0.87      0.87      7155\n",
      "           1       0.60      0.59      0.60      2316\n",
      "\n",
      "    accuracy                           0.80      9471\n",
      "   macro avg       0.73      0.73      0.73      9471\n",
      "weighted avg       0.80      0.80      0.80      9471\n",
      "\n"
     ]
    }
   ],
   "source": [
    "rfc=RandomForestClassifier()\n",
    "rfc.fit(X_train,Y_train)\n",
    "y_pred=dtc.predict(X_test)\n",
    "print('\\033[1m'+'Decision Tree Classifier Evaluation'+'\\033[0m')\n",
    "print('\\n')\n",
    "print('\\033[1m'+'Accuracy Score of Random Forest Classifier  :'+'\\033[0m', accuracy_score(Y_test, y_pred))\n",
    "print('\\n')\n",
    "print('\\033[1m'+'Confusion matrix of Random Forest Classifier  :'+'\\033[0m \\n',confusion_matrix(Y_test, y_pred))\n",
    "print('\\n')\n",
    "print('\\033[1m'+'classification Report of Random Forest Classifier '+'\\033[0m \\n',classification_report(Y_test, y_pred))"
   ]
  },
  {
   "cell_type": "code",
   "execution_count": 61,
   "id": "eb0972a3",
   "metadata": {},
   "outputs": [
    {
     "name": "stdout",
     "output_type": "stream",
     "text": [
      "\u001b[1mCross Validation Score RandomForestClassifier() :\u001b[0m\n",
      "\n",
      "CVScore : [0.81960722 0.821191   0.81881533 0.81957865 0.82116268]\n",
      "Mean CV Score : 0.8200709769188286\n",
      "Std deviation : 0.0009466129822624884\n"
     ]
    }
   ],
   "source": [
    "CVscore = cross_val_score(rfc, X_scaled, Y, cv =5)\n",
    "print('\\033[1m'+'Cross Validation Score', rfc, ':'+'\\033[0m\\n')\n",
    "print(\"CVScore :\" ,CVscore)\n",
    "print(\"Mean CV Score :\",CVscore.mean())\n",
    "print(\"Std deviation :\",CVscore.std())"
   ]
  },
  {
   "cell_type": "markdown",
   "id": "918b7c57",
   "metadata": {},
   "source": [
    "# SINCE WE GET THE BEST RESULT IN LOGISTIC RGRESSION AND THE SECOND BEST RESULT IS IN KNEIGHBORS CLASSIFIER"
   ]
  },
  {
   "cell_type": "markdown",
   "id": "068437f7",
   "metadata": {},
   "source": [
    "# LETS DO HYPER PARAMETER TUNNING FOR THE KNN MODEL"
   ]
  },
  {
   "cell_type": "code",
   "execution_count": 62,
   "id": "82257661",
   "metadata": {},
   "outputs": [],
   "source": [
    "from sklearn.model_selection import GridSearchCV"
   ]
  },
  {
   "cell_type": "code",
   "execution_count": 64,
   "id": "a98f4fc5",
   "metadata": {},
   "outputs": [],
   "source": [
    "param_grid= {'algorithm':['kd_tree','brute'],\n",
    "             'leaf_size':[3,5,6,7,8],\n",
    "             'n_neighbors':[3,5,7,9]\n",
    "            }"
   ]
  },
  {
   "cell_type": "code",
   "execution_count": 65,
   "id": "238116ff",
   "metadata": {},
   "outputs": [],
   "source": [
    "gridsearch=GridSearchCV(estimator=knn,param_grid=param_grid)"
   ]
  },
  {
   "cell_type": "code",
   "execution_count": 66,
   "id": "2910c199",
   "metadata": {},
   "outputs": [
    {
     "data": {
      "text/plain": [
       "GridSearchCV(estimator=KNeighborsClassifier(),\n",
       "             param_grid={'algorithm': ['kd_tree', 'brute'],\n",
       "                         'leaf_size': [3, 5, 6, 7, 8],\n",
       "                         'n_neighbors': [3, 5, 7, 9]})"
      ]
     },
     "execution_count": 66,
     "metadata": {},
     "output_type": "execute_result"
    }
   ],
   "source": [
    "gridsearch.fit(X_train,Y_train)"
   ]
  },
  {
   "cell_type": "code",
   "execution_count": 67,
   "id": "f4022c3c",
   "metadata": {},
   "outputs": [
    {
     "data": {
      "text/plain": [
       "{'algorithm': 'brute', 'leaf_size': 3, 'n_neighbors': 9}"
      ]
     },
     "execution_count": 67,
     "metadata": {},
     "output_type": "execute_result"
    }
   ],
   "source": [
    "gridsearch.best_params_"
   ]
  },
  {
   "cell_type": "code",
   "execution_count": 126,
   "id": "dc40248a",
   "metadata": {},
   "outputs": [
    {
     "data": {
      "text/plain": [
       "KNeighborsClassifier(algorithm='brute', leaf_size=5, n_neighbors=7)"
      ]
     },
     "execution_count": 126,
     "metadata": {},
     "output_type": "execute_result"
    }
   ],
   "source": [
    "KNN=KNeighborsClassifier(algorithm='brute',leaf_size=5,n_neighbors=7)\n",
    "KNN.fit(X_train,Y_train)"
   ]
  },
  {
   "cell_type": "code",
   "execution_count": 127,
   "id": "6178d6b9",
   "metadata": {},
   "outputs": [],
   "source": [
    "Y_pred=KNN.predict(X_test)"
   ]
  },
  {
   "cell_type": "code",
   "execution_count": 128,
   "id": "7e2c9054",
   "metadata": {},
   "outputs": [
    {
     "name": "stdout",
     "output_type": "stream",
     "text": [
      "\u001b[1mDecision Tree Classifier Evaluation\u001b[0m\n",
      "\n",
      "\n",
      "\u001b[1mAccuracy Score of Decision Tree Classifier :\u001b[0m 0.8251504592968008\n",
      "\n",
      "\n",
      "\u001b[1mConfusion matrix of Decision Tree Classifier :\u001b[0m \n",
      " [[6572  583]\n",
      " [1073 1243]]\n",
      "\n",
      "\n",
      "\u001b[1mclassification Report of Decision Tree Classifier\u001b[0m \n",
      "               precision    recall  f1-score   support\n",
      "\n",
      "           0       0.86      0.92      0.89      7155\n",
      "           1       0.68      0.54      0.60      2316\n",
      "\n",
      "    accuracy                           0.83      9471\n",
      "   macro avg       0.77      0.73      0.74      9471\n",
      "weighted avg       0.82      0.83      0.82      9471\n",
      "\n"
     ]
    }
   ],
   "source": [
    "print('\\033[1m'+'Decision Tree Classifier Evaluation'+'\\033[0m')\n",
    "print('\\n')\n",
    "print('\\033[1m'+'Accuracy Score of Decision Tree Classifier :'+'\\033[0m', accuracy_score(Y_test, Y_pred))\n",
    "print('\\n')\n",
    "print('\\033[1m'+'Confusion matrix of Decision Tree Classifier :'+'\\033[0m \\n',confusion_matrix(Y_test, Y_pred))\n",
    "print('\\n')\n",
    "print('\\033[1m'+'classification Report of Decision Tree Classifier'+'\\033[0m \\n',classification_report(Y_test, Y_pred))"
   ]
  },
  {
   "cell_type": "markdown",
   "id": "289f3f01",
   "metadata": {},
   "source": [
    "# We have tried many combination but score is not improving "
   ]
  },
  {
   "cell_type": "code",
   "execution_count": 130,
   "id": "e51e75b1",
   "metadata": {},
   "outputs": [],
   "source": [
    "from sklearn.metrics import roc_curve,roc_auc_score"
   ]
  },
  {
   "cell_type": "code",
   "execution_count": 131,
   "id": "85f52f10",
   "metadata": {},
   "outputs": [
    {
     "name": "stdout",
     "output_type": "stream",
     "text": [
      "Thresholds =   [2 1 0]\n",
      "True Positive Rate =   [0.         0.54749568 1.        ]\n",
      "False Positive Rate =   [0.         0.08553459 1.        ]\n"
     ]
    }
   ],
   "source": [
    "fpr,tpr,thresholds = roc_curve(Y_test,y_pred)\n",
    "print('Thresholds =  ', thresholds)\n",
    "print('True Positive Rate =  ', tpr)\n",
    "print('False Positive Rate =  ',fpr)"
   ]
  },
  {
   "cell_type": "code",
   "execution_count": 132,
   "id": "342b1a12",
   "metadata": {},
   "outputs": [
    {
     "data": {
      "image/png": "[encoded data removed]",
      "text/plain": [
       "<Figure size 432x288 with 1 Axes>"
      ]
     },
     "metadata": {
      "needs_background": "light"
     },
     "output_type": "display_data"
    }
   ],
   "source": [
    "plt.plot(fpr , tpr , color='orange', label='ROC')\n",
    "plt.plot([0,1],[0,1], linestyle= '--')\n",
    "plt.xlabel('False Positive Rate')\n",
    "plt.ylabel('True Positive Rate')\n",
    "plt.legend()\n",
    "plt.show()"
   ]
  },
  {
   "cell_type": "code",
   "execution_count": 133,
   "id": "e12cd44d",
   "metadata": {},
   "outputs": [
    {
     "data": {
      "text/plain": [
       "0.7309805455078697"
      ]
     },
     "execution_count": 133,
     "metadata": {},
     "output_type": "execute_result"
    }
   ],
   "source": [
    "auc_curve=roc_auc_score(Y_test,y_pred)\n",
    "auc_curve"
   ]
  }
 ],
 "metadata": {
  "kernelspec": {
   "display_name": "Python 3 (ipykernel)",
   "language": "python",
   "name": "python3"
  },
  "language_info": {
   "codemirror_mode": {
    "name": "ipython",
    "version": 3
   },
   "file_extension": ".py",
   "mimetype": "text/x-python",
   "name": "python",
   "nbconvert_exporter": "python",
   "pygments_lexer": "ipython3",
   "version": "3.9.12"
  }
 },
 "nbformat": 4,
 "nbformat_minor": 5
}
